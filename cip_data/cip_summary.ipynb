{
 "cells": [
  {
   "cell_type": "code",
   "execution_count": 22,
   "metadata": {},
   "outputs": [],
   "source": [
    "import os\n",
    "import pandas as pd\n",
    "import numpy as np\n",
    "import openai\n",
    "import spacy\n",
    "from transformers import pipeline, RobertaModel, AutoTokenizer\n",
    "from selenium import webdriver\n",
    "from selenium.webdriver.common.by import By\n",
    "from tqdm import tqdm\n",
    "from dotenv import load_dotenv\n",
    "load_dotenv()\n",
    "pd.options.mode.chained_assignment = None"
   ]
  },
  {
   "cell_type": "code",
   "execution_count": 155,
   "metadata": {},
   "outputs": [
    {
     "name": "stderr",
     "output_type": "stream",
     "text": [
      "Downloading (…)lve/main/config.json: 100%|██████████| 1.80k/1.80k [00:00<00:00, 871kB/s]\n",
      "Downloading pytorch_model.bin: 100%|██████████| 1.22G/1.22G [01:49<00:00, 11.2MB/s]\n",
      "Downloading (…)okenizer_config.json: 100%|██████████| 26.0/26.0 [00:00<00:00, 10.7kB/s]\n",
      "Downloading (…)olve/main/vocab.json: 100%|██████████| 899k/899k [00:00<00:00, 1.32MB/s]\n",
      "Downloading (…)olve/main/merges.txt: 100%|██████████| 456k/456k [00:00<00:00, 1.27MB/s]\n"
     ]
    }
   ],
   "source": [
    "summarizer = pipeline(\"summarization\", model=\"sshleifer/distilbart-cnn-12-6\")"
   ]
  },
  {
   "cell_type": "code",
   "execution_count": 4,
   "metadata": {},
   "outputs": [],
   "source": [
    "openai.api_key = os.getenv(\"OPENAI_KEY\")"
   ]
  },
  {
   "cell_type": "code",
   "execution_count": 29,
   "metadata": {},
   "outputs": [],
   "source": [
    "model_id = \"gpt-3.5-turbo\""
   ]
  },
  {
   "cell_type": "code",
   "execution_count": 8,
   "metadata": {},
   "outputs": [],
   "source": [
    "cip = pd.read_csv(\"CIPCode2010.csv\", dtype={\"CIPCode\": str})"
   ]
  },
  {
   "cell_type": "code",
   "execution_count": 9,
   "metadata": {},
   "outputs": [
    {
     "data": {
      "text/html": [
       "<div>\n",
       "<style scoped>\n",
       "    .dataframe tbody tr th:only-of-type {\n",
       "        vertical-align: middle;\n",
       "    }\n",
       "\n",
       "    .dataframe tbody tr th {\n",
       "        vertical-align: top;\n",
       "    }\n",
       "\n",
       "    .dataframe thead th {\n",
       "        text-align: right;\n",
       "    }\n",
       "</style>\n",
       "<table border=\"1\" class=\"dataframe\">\n",
       "  <thead>\n",
       "    <tr style=\"text-align: right;\">\n",
       "      <th></th>\n",
       "      <th>CIPCode</th>\n",
       "      <th>CIPTitle</th>\n",
       "      <th>CIPDefinition</th>\n",
       "    </tr>\n",
       "  </thead>\n",
       "  <tbody>\n",
       "    <tr>\n",
       "      <th>0</th>\n",
       "      <td>01</td>\n",
       "      <td>AGRICULTURE, AGRICULTURE OPERATIONS, AND RELAT...</td>\n",
       "      <td>Instructional programs that focus on agricultu...</td>\n",
       "    </tr>\n",
       "    <tr>\n",
       "      <th>1</th>\n",
       "      <td>01.00</td>\n",
       "      <td>Agriculture, General.</td>\n",
       "      <td>Instructional content is defined in code 01.0000.</td>\n",
       "    </tr>\n",
       "    <tr>\n",
       "      <th>2</th>\n",
       "      <td>01.0000</td>\n",
       "      <td>Agriculture, General.</td>\n",
       "      <td>A program that focuses on the general principl...</td>\n",
       "    </tr>\n",
       "    <tr>\n",
       "      <th>3</th>\n",
       "      <td>01.01</td>\n",
       "      <td>Agricultural Business and Management.</td>\n",
       "      <td>Instructional content for this group of progra...</td>\n",
       "    </tr>\n",
       "    <tr>\n",
       "      <th>4</th>\n",
       "      <td>01.0101</td>\n",
       "      <td>Agricultural Business and Management, General.</td>\n",
       "      <td>A  general program that focuses on modern busi...</td>\n",
       "    </tr>\n",
       "    <tr>\n",
       "      <th>5</th>\n",
       "      <td>01.0102</td>\n",
       "      <td>Agribusiness/Agricultural Business Operations.</td>\n",
       "      <td>A program that prepares individuals to manage ...</td>\n",
       "    </tr>\n",
       "    <tr>\n",
       "      <th>6</th>\n",
       "      <td>01.0103</td>\n",
       "      <td>Agricultural Economics.</td>\n",
       "      <td>A program that focuses on the application of e...</td>\n",
       "    </tr>\n",
       "    <tr>\n",
       "      <th>7</th>\n",
       "      <td>01.0104</td>\n",
       "      <td>Farm/Farm and Ranch Management.</td>\n",
       "      <td>A program that prepares individuals to manage ...</td>\n",
       "    </tr>\n",
       "    <tr>\n",
       "      <th>8</th>\n",
       "      <td>01.0105</td>\n",
       "      <td>Agricultural/Farm Supplies Retailing and Whole...</td>\n",
       "      <td>A program  that prepares individuals to sell a...</td>\n",
       "    </tr>\n",
       "    <tr>\n",
       "      <th>9</th>\n",
       "      <td>01.0106</td>\n",
       "      <td>Agricultural Business Technology.</td>\n",
       "      <td>A program that prepares individuals to perform...</td>\n",
       "    </tr>\n",
       "  </tbody>\n",
       "</table>\n",
       "</div>"
      ],
      "text/plain": [
       "   CIPCode                                           CIPTitle  \\\n",
       "0       01  AGRICULTURE, AGRICULTURE OPERATIONS, AND RELAT...   \n",
       "1    01.00                              Agriculture, General.   \n",
       "2  01.0000                              Agriculture, General.   \n",
       "3    01.01              Agricultural Business and Management.   \n",
       "4  01.0101     Agricultural Business and Management, General.   \n",
       "5  01.0102     Agribusiness/Agricultural Business Operations.   \n",
       "6  01.0103                            Agricultural Economics.   \n",
       "7  01.0104                    Farm/Farm and Ranch Management.   \n",
       "8  01.0105  Agricultural/Farm Supplies Retailing and Whole...   \n",
       "9  01.0106                  Agricultural Business Technology.   \n",
       "\n",
       "                                       CIPDefinition  \n",
       "0  Instructional programs that focus on agricultu...  \n",
       "1  Instructional content is defined in code 01.0000.  \n",
       "2  A program that focuses on the general principl...  \n",
       "3  Instructional content for this group of progra...  \n",
       "4  A  general program that focuses on modern busi...  \n",
       "5  A program that prepares individuals to manage ...  \n",
       "6  A program that focuses on the application of e...  \n",
       "7  A program that prepares individuals to manage ...  \n",
       "8  A program  that prepares individuals to sell a...  \n",
       "9  A program that prepares individuals to perform...  "
      ]
     },
     "execution_count": 9,
     "metadata": {},
     "output_type": "execute_result"
    }
   ],
   "source": [
    "cip.head(10)"
   ]
  },
  {
   "cell_type": "code",
   "execution_count": 10,
   "metadata": {},
   "outputs": [],
   "source": [
    "url = \"https://nces.ed.gov/ipeds/cipcode/\""
   ]
  },
  {
   "cell_type": "code",
   "execution_count": 15,
   "metadata": {},
   "outputs": [],
   "source": [
    "driver = webdriver.Chrome()\n",
    "driver.get(url + \"browse.aspx?y=55\")"
   ]
  },
  {
   "cell_type": "code",
   "execution_count": 16,
   "metadata": {},
   "outputs": [],
   "source": [
    "driver.find_element(By.XPATH, \"//img[@title='Collapse All']\").click()"
   ]
  },
  {
   "cell_type": "code",
   "execution_count": 17,
   "metadata": {},
   "outputs": [],
   "source": [
    "elements = driver.find_elements(By.XPATH, \"//a[@title='View this CIP']\")\n",
    "codes = [element.text.split(\")\")[0] for element in elements] \n",
    "urls = [element.get_attribute(\"href\") for element in elements]"
   ]
  },
  {
   "cell_type": "code",
   "execution_count": 18,
   "metadata": {},
   "outputs": [],
   "source": [
    "driver.close()"
   ]
  },
  {
   "cell_type": "code",
   "execution_count": 19,
   "metadata": {},
   "outputs": [],
   "source": [
    "cip_urls = pd.DataFrame({\"CIPCode\": codes, \"url\": urls})"
   ]
  },
  {
   "cell_type": "code",
   "execution_count": 20,
   "metadata": {},
   "outputs": [],
   "source": [
    "cip_merged = cip.merge(cip_urls, how=\"inner\")"
   ]
  },
  {
   "cell_type": "code",
   "execution_count": 21,
   "metadata": {},
   "outputs": [],
   "source": [
    "cip_merged_4_6 = cip_merged[cip_merged['CIPCode'].str.len() > 2]"
   ]
  },
  {
   "cell_type": "code",
   "execution_count": 22,
   "metadata": {},
   "outputs": [],
   "source": [
    "cip_merged_4_6.loc[cip_merged_4_6['CIPDefinition'].str.contains(\"Instructional content\"), 'CIPDefinition'] = \"\""
   ]
  },
  {
   "cell_type": "code",
   "execution_count": 23,
   "metadata": {},
   "outputs": [],
   "source": [
    "cip_merged_4_6['CIPDefinition_concat'] = cip_merged_4_6.groupby(cip_merged_4_6['CIPCode'].str[:5])['CIPDefinition'].transform(lambda x: ' '.join(x))"
   ]
  },
  {
   "cell_type": "code",
   "execution_count": 24,
   "metadata": {},
   "outputs": [],
   "source": [
    "cip_merged_4 = cip_merged_4_6[cip_merged_4_6['CIPCode'].str.len() == 5].drop(columns=['CIPDefinition']).reset_index(drop=True)"
   ]
  },
  {
   "cell_type": "code",
   "execution_count": null,
   "metadata": {},
   "outputs": [],
   "source": [
    "summaries = []\n",
    "for cip in tqdm(cip_merged_4['CIPDefinition_concat']):\n",
    "    response = openai.ChatCompletion.create(model=model_id, messages=[{\"role\": \"system\", \"content\": f\"Summarize this program description in fewer than 30 words: {cip[:4000]}\"}])\n",
    "    summary = response.choices[0].message['content']\n",
    "    summaries.append(summary)"
   ]
  },
  {
   "cell_type": "code",
   "execution_count": 56,
   "metadata": {},
   "outputs": [],
   "source": [
    "cip_merged_4['CIPDefinition_summary'] = summaries"
   ]
  },
  {
   "attachments": {},
   "cell_type": "markdown",
   "metadata": {},
   "source": [
    "## Retrieving similar CIPs"
   ]
  },
  {
   "cell_type": "code",
   "execution_count": 117,
   "metadata": {},
   "outputs": [],
   "source": [
    "cip_description = pd.read_csv(\"../ir_system_setup_and_dev/final_curriculum_data/final_docset.csv\")"
   ]
  },
  {
   "cell_type": "code",
   "execution_count": 78,
   "metadata": {},
   "outputs": [],
   "source": [
    "cip_list = list(cip_description['descriptions'])"
   ]
  },
  {
   "cell_type": "code",
   "execution_count": null,
   "metadata": {},
   "outputs": [],
   "source": [
    "!python -m spacy download en_core_web_md"
   ]
  },
  {
   "cell_type": "code",
   "execution_count": 25,
   "metadata": {},
   "outputs": [],
   "source": [
    "nlp = spacy.load('en_core_web_md')"
   ]
  },
  {
   "cell_type": "code",
   "execution_count": 26,
   "metadata": {},
   "outputs": [],
   "source": [
    "docs = [nlp(cip) for cip in cip_list]"
   ]
  },
  {
   "cell_type": "code",
   "execution_count": 99,
   "metadata": {},
   "outputs": [],
   "source": [
    "cip_index = {}\n",
    "for idx_i, i in enumerate(docs):\n",
    "    docs_sim = {}\n",
    "    for idx_j, j in enumerate(docs):\n",
    "        docs_sim[idx_j] = i.similarity(j)\n",
    "    indexes = sorted(docs_sim, key=docs_sim.get, reverse=True)[1:4]\n",
    "    cip_index[idx_i] = indexes"
   ]
  },
  {
   "cell_type": "code",
   "execution_count": 128,
   "metadata": {},
   "outputs": [],
   "source": [
    "cips = list(cip_description['cip'].apply(lambda x: '{:05.2f}'.format(float(x.rstrip(\".\")))))\n",
    "cip_sim_dict = {}\n",
    "for idx in cip_index:\n",
    "    cip_sim_dict[cips[idx]] = [cips[i] for i in cip_index[idx]]"
   ]
  },
  {
   "cell_type": "code",
   "execution_count": 133,
   "metadata": {},
   "outputs": [
    {
     "data": {
      "text/plain": [
       "{'05.02': ['05.01', '45.02', '45.11'],\n",
       " '45.02': ['45.11', '45.12', '03.05'],\n",
       " '04.02': ['04.06', '24.01', '30.44'],\n",
       " '50.07': ['50.04', '50.05', '30.50'],\n",
       " '40.02': ['40.04', '40.06', '26.02'],\n",
       " '40.05': ['26.02', '26.01', '25.40'],\n",
       " '16.12': ['16.04', '23.01', '16.99'],\n",
       " '16.01': ['16.05', '16.99', '16.09'],\n",
       " '11.07': ['06.11', '11.01', '14.18'],\n",
       " '05.01': ['16.99', '05.02', '45.02'],\n",
       " '26.13': ['31.51', '22.31', '42.01'],\n",
       " '45.06': ['23.13', '13.13', '26.12'],\n",
       " '23.01': ['16.99', '05.01', '16.12'],\n",
       " '16.99': ['05.01', '23.01', '16.01'],\n",
       " '40.06': ['26.02', '14.08', '14.07'],\n",
       " '16.05': ['16.01', '16.09', '16.99'],\n",
       " '54.01': ['45.02', '05.01', '45.11'],\n",
       " '27.01': ['26.11', '14.07', '50.10'],\n",
       " '26.02': ['40.06', '51.07', '13.13'],\n",
       " '50.09': ['51.22', '52.02', '10.02'],\n",
       " '26.15': ['26.01', '50.10', '40.06'],\n",
       " '38.01': ['45.02', '45.11', '51.99'],\n",
       " '40.08': ['14.18', '14.07', '09.14'],\n",
       " '45.10': ['28.45', '16.24', '27.43'],\n",
       " '45.09': ['28.45', '44.05', '45.10'],\n",
       " '42.01': ['26.42', '27.43', '44.07'],\n",
       " '38.02': ['05.01', '16.03', '54.01'],\n",
       " '16.04': ['16.12', '23.01', '16.99'],\n",
       " '45.11': ['45.02', '45.12', '19.07'],\n",
       " '16.09': ['16.05', '16.01', '51.22'],\n",
       " '14.43': ['14.02', '50.10', '09.14'],\n",
       " '14.08': ['14.27', '14.07', '14.18'],\n",
       " '14.09': ['14.10', '14.19', '14.35'],\n",
       " '14.02': ['14.08', '14.07', '14.27'],\n",
       " '14.37': ['27.05', '27.03', '27.01'],\n",
       " '14.13': ['14.09', '40.08', '26.01'],\n",
       " '26.01': ['50.10', '26.11', '26.15'],\n",
       " '26.12': ['52.02', '44.04', '14.14'],\n",
       " '22.02': ['19.02', '19.01', '43.01'],\n",
       " '09.01': ['05.09', '09.04', '09.09'],\n",
       " '11.01': ['06.11', '14.18', '11.07'],\n",
       " '43.01': ['27.43', '51.22', '45.11'],\n",
       " '03.01': ['01.03', '03.03', '01.12'],\n",
       " '50.04': ['50.07', '50.05', '10.02'],\n",
       " '52.11': ['30.71', '14.14', '52.07'],\n",
       " '09.04': ['09.01', '09.07', '09.09'],\n",
       " '50.06': ['50.05', '23.01', '50.07'],\n",
       " '31.05': ['22.31', '52.02', '44.07'],\n",
       " '36.01': ['50.07', '30.50', '50.04'],\n",
       " '45.12': ['45.02', '45.11', '05.02'],\n",
       " '52.03': ['32.52', '52.12', '52.13'],\n",
       " '52.02': ['42.27', '50.09', '14.14'],\n",
       " '30.71': ['52.11', '52.14', '14.14'],\n",
       " '13.01': ['13.12', '08.13', '13.06'],\n",
       " '52.08': ['52.13', '52.12', '32.52'],\n",
       " '52.14': ['14.14', '52.07', '52.02'],\n",
       " '51.16': ['51.38', '31.51', '51.09'],\n",
       " '13.04': ['08.13', '27.44', '22.31'],\n",
       " '44.04': ['26.12', '44.05', '52.01'],\n",
       " '51.38': ['31.51', '51.16', '22.31'],\n",
       " '30.22': ['50.06', '19.02', '23.01'],\n",
       " '52.05': ['19.02', '13.06', '52.10'],\n",
       " '23.13': ['14.27', '45.06', '51.07'],\n",
       " '13.12': ['08.13', '13.01', '44.07'],\n",
       " '24.01': ['30.44', '30.01', '16.09'],\n",
       " '52.10': ['42.27', '13.10', '52.02'],\n",
       " '16.03': ['05.01', '16.99', '23.01'],\n",
       " '13.06': ['19.02', '19.01', '52.05'],\n",
       " '09.09': ['05.09', '10.02', '50.09'],\n",
       " '13.13': ['51.22', '50.09', '51.07'],\n",
       " '50.01': ['10.03', '50.05', '50.04'],\n",
       " '13.10': ['13.13', '42.27', '52.02'],\n",
       " '50.05': ['50.04', '50.07', '30.50'],\n",
       " '52.13': ['27.03', '52.08', '30.70'],\n",
       " '15.08': ['09.14', '15.03', '14.02'],\n",
       " '49.01': ['19.06', '52.20', '29.04'],\n",
       " '01.01': ['52.18', '13.13', '01.12'],\n",
       " '01.08': ['22.31', '52.02', '01.01'],\n",
       " '01.12': ['01.06', '26.07', '01.09'],\n",
       " '01.09': ['01.12', '26.07', '01.06'],\n",
       " '10.03': ['11.08', '11.04', '11.09'],\n",
       " '27.03': ['27.05', '52.13', '11.04'],\n",
       " '40.04': ['40.02', '15.05', '14.03'],\n",
       " '14.12': ['40.04', '40.02', '15.05'],\n",
       " '51.09': ['51.00', '51.31', '30.19'],\n",
       " '15.04': ['14.42', '11.04', '15.05'],\n",
       " '30.17': ['45.03', '44.05', '45.06'],\n",
       " '11.08': ['10.03', '11.04', '11.09'],\n",
       " '26.04': ['14.27', '13.10', '13.13'],\n",
       " '52.20': ['19.06', '49.01', '52.18'],\n",
       " '51.31': ['30.19', '51.00', '01.09'],\n",
       " '01.11': ['01.03', '01.10', '03.01'],\n",
       " '11.04': ['11.08', '11.09', '10.03'],\n",
       " '19.06': ['52.20', '49.01', '52.18'],\n",
       " '19.01': ['19.02', '13.06', '01.01'],\n",
       " '26.10': ['51.27', '30.12', '10.02'],\n",
       " '15.03': ['15.12', '15.08', '09.14'],\n",
       " '03.03': ['26.07', '03.01', '01.12'],\n",
       " '01.10': ['30.19', '01.11', '01.09'],\n",
       " '26.08': ['18.26', '22.31', '51.22'],\n",
       " '30.27': ['51.22', '13.13', '01.01'],\n",
       " '51.00': ['51.23', '51.31', '30.19'],\n",
       " '51.07': ['13.13', '14.27', '26.02'],\n",
       " '01.06': ['01.12', '01.09', '26.07'],\n",
       " '19.02': ['19.01', '52.05', '13.06'],\n",
       " '14.35': ['14.19', '14.03', '14.10'],\n",
       " '26.07': ['03.03', '01.12', '01.09'],\n",
       " '30.08': ['14.37', '40.04', '14.35'],\n",
       " '27.05': ['27.03', '14.37', '11.04'],\n",
       " '14.42': ['15.04', '11.04', '11.09'],\n",
       " '26.05': ['40.05', '26.99', '25.40'],\n",
       " '11.09': ['11.04', '11.08', '14.42'],\n",
       " '30.19': ['51.31', '51.00', '01.09'],\n",
       " '51.23': ['51.00', '51.31', '30.19'],\n",
       " '29.04': ['15.05', '49.01', '15.04'],\n",
       " '51.22': ['50.09', '13.13', '30.27'],\n",
       " '52.18': ['01.01', '52.20', '19.06'],\n",
       " '01.03': ['03.01', '01.12', '01.11'],\n",
       " '51.02': ['42.01', '51.09', '13.01'],\n",
       " '30.33': ['12.19', '10.02', '52.07'],\n",
       " '14.03': ['15.05', '14.33', '14.35'],\n",
       " '15.05': ['14.03', '14.33', '40.04'],\n",
       " '14.07': ['14.05', '14.08', '26.11'],\n",
       " '14.33': ['14.03', '15.05', '14.35'],\n",
       " '14.10': ['14.09', '14.19', '14.35'],\n",
       " '14.14': ['30.10', '52.02', '52.14'],\n",
       " '03.05': ['28.45', '45.11', '16.01'],\n",
       " '04.06': ['04.02', '13.13', '09.15'],\n",
       " '14.19': ['14.10', '14.35', '14.09'],\n",
       " '14.18': ['06.11', '11.01', '40.08'],\n",
       " '03.02': ['01.11', '01.03', '01.00'],\n",
       " '19.07': ['44.07', '45.11', '27.44'],\n",
       " '09.07': ['05.09', '09.09', '09.01'],\n",
       " '45.04': ['27.43', '30.44', '28.45'],\n",
       " '50.03': ['30.50', '50.05', '50.07'],\n",
       " '52.01': ['32.52', '52.02', '52.14'],\n",
       " '30.44': ['24.01', '30.01', '30.99'],\n",
       " '30.20': ['30.99', '28.45', '45.02'],\n",
       " '26.09': ['30.01', '30.44', '24.01'],\n",
       " '30.01': ['30.44', '24.01', '08.13'],\n",
       " '19.04': ['14.35', '06.11', '14.09'],\n",
       " '14.25': ['14.19', '14.35', '09.14'],\n",
       " '15.17': ['30.44', '14.35', '14.19'],\n",
       " '44.07': ['27.44', '19.07', '52.02'],\n",
       " '30.99': ['30.44', '30.20', '28.45'],\n",
       " '16.16': ['03.05', '16.01', '16.99'],\n",
       " '14.05': ['14.07', '26.11', '50.10'],\n",
       " '15.12': ['15.03', '15.08', '09.14'],\n",
       " '11.05': ['52.08', '09.15', '52.12'],\n",
       " '15.10': ['52.13', '14.33', '09.15'],\n",
       " '52.07': ['14.14', '52.14', '52.02'],\n",
       " '04.04': ['04.05', '15.10', '15.12'],\n",
       " '04.05': ['04.04', '15.10', '15.12'],\n",
       " '42.27': ['52.02', '50.09', '13.10'],\n",
       " '14.01': ['40.05', '14.35', '26.04'],\n",
       " '30.70': ['52.13', '27.03', '52.02'],\n",
       " '44.05': ['16.24', '45.09', '26.12'],\n",
       " '42.28': ['13.11', '51.15', '42.01'],\n",
       " '51.15': ['42.28', '13.11', '08.13'],\n",
       " '99.99': ['44.04', '13.04', '52.02'],\n",
       " '13.11': ['42.28', '51.15', '08.13'],\n",
       " '26.11': ['26.01', '50.10', '14.05'],\n",
       " '11.99': ['26.04', '52.08', '14.18'],\n",
       " '10.02': ['50.09', '05.09', '42.27'],\n",
       " '45.99': ['43.01', '16.24', '19.07'],\n",
       " '50.20': ['16.03', '05.01', '38.02'],\n",
       " '45.03': ['30.17', '44.05', '32.52'],\n",
       " '30.25': ['40.08', '30.50', '50.99'],\n",
       " '50.10': ['26.01', '26.11', '14.07'],\n",
       " '14.11': ['51.07', '26.01', '18.26'],\n",
       " '30.10': ['14.14', '30.70', '32.52'],\n",
       " '30.18': ['14.07', '14.05', '26.11'],\n",
       " '14.27': ['52.15', '14.08', '15.15'],\n",
       " '90.10': ['44.05', '45.09', '45.06'],\n",
       " '30.12': ['51.27', '26.10', '50.04'],\n",
       " '11.10': ['26.12', '31.51', '44.05'],\n",
       " '45.01': ['26.12', '14.14', '44.04'],\n",
       " '15.15': ['14.27', '51.07', '13.10'],\n",
       " '40.99': ['51.99', '45.02', '45.11'],\n",
       " '29.02': ['10.02', '05.09', '50.09'],\n",
       " '13.99': ['14.43', '14.07', '09.14'],\n",
       " '51.99': ['40.99', '45.02', '16.01'],\n",
       " '51.27': ['26.10', '30.12', '10.02'],\n",
       " '30.14': ['38.01', '51.22', '16.05'],\n",
       " '52.15': ['14.27', '14.18', '14.08'],\n",
       " '52.12': ['32.52', '52.03', '52.08'],\n",
       " '01.00': ['01.11', '01.03', '45.07'],\n",
       " '15.00': ['09.15', '21.30', '22.31'],\n",
       " '45.07': ['13.13', '40.06', '03.01'],\n",
       " '26.99': ['40.05', '26.01', '26.05'],\n",
       " '04.09': ['02.04', '04.06', '14.33'],\n",
       " '13.03': ['30.12', '15.23', '51.27'],\n",
       " '52.16': ['52.03', '52.18', '22.02'],\n",
       " '32.52': ['52.12', '52.03', '52.01'],\n",
       " '30.50': ['50.07', '50.04', '50.05'],\n",
       " '09.14': ['40.08', '14.07', '14.02'],\n",
       " '18.26': ['26.01', '26.02', '26.08'],\n",
       " '25.40': ['40.05', '18.26', '26.02'],\n",
       " '06.11': ['11.01', '14.18', '11.07'],\n",
       " '08.13': ['08.13', '27.43', '22.31'],\n",
       " '21.30': ['32.52', '52.02', '22.31'],\n",
       " '09.15': ['52.13', '52.08', '14.18'],\n",
       " '26.42': ['42.01', '22.31', '27.43'],\n",
       " '22.31': ['31.05', '08.13', '31.51'],\n",
       " '31.51': ['51.38', '22.31', '51.16'],\n",
       " '19.27': ['25.40', '27.01', '14.19'],\n",
       " '16.24': ['28.45', '44.05', '45.11'],\n",
       " '27.44': ['44.07', '08.13', '31.05'],\n",
       " '10.16': ['16.09', '15.23', '03.05'],\n",
       " '15.23': ['28.54', '13.12', '30.50'],\n",
       " '28.54': ['15.23', '08.13', '13.12'],\n",
       " '05.09': ['09.09', '10.02', '09.01'],\n",
       " '02.04': ['04.02', '04.09', '04.06'],\n",
       " '27.43': ['43.01', '28.45', '42.01'],\n",
       " '28.45': ['16.24', '45.09', '27.43'],\n",
       " '18.13': ['13.12', '13.01', '08.13'],\n",
       " '12.19': ['10.02', '01.08', '01.01'],\n",
       " '31.03': ['31.05', '29.02', '13.04'],\n",
       " '50.99': ['30.50', '30.50', '50.04']}"
      ]
     },
     "execution_count": 133,
     "metadata": {},
     "output_type": "execute_result"
    }
   ],
   "source": [
    "cip_sim_dict"
   ]
  },
  {
   "cell_type": "code",
   "execution_count": 142,
   "metadata": {},
   "outputs": [],
   "source": [
    "for idx, row in cip_merged_4.iterrows():\n",
    "    if row['CIPCode'] in cip_sim_dict.keys():\n",
    "        cip_merged_4.loc[idx, 'related'] = ','.join(cip_sim_dict[row['CIPCode']])"
   ]
  },
  {
   "cell_type": "code",
   "execution_count": 151,
   "metadata": {},
   "outputs": [],
   "source": [
    "cip_merged_4.to_csv(\"../assets/data/cip_url_summary.csv\", index=False)"
   ]
  },
  {
   "cell_type": "code",
   "execution_count": null,
   "metadata": {},
   "outputs": [],
   "source": []
  }
 ],
 "metadata": {
  "kernelspec": {
   "display_name": "si699",
   "language": "python",
   "name": "python3"
  },
  "language_info": {
   "codemirror_mode": {
    "name": "ipython",
    "version": 3
   },
   "file_extension": ".py",
   "mimetype": "text/x-python",
   "name": "python",
   "nbconvert_exporter": "python",
   "pygments_lexer": "ipython3",
   "version": "3.10.9"
  },
  "orig_nbformat": 4
 },
 "nbformat": 4,
 "nbformat_minor": 2
}

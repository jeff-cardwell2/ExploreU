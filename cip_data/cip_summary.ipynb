{
 "cells": [
  {
   "cell_type": "code",
   "execution_count": 3,
   "metadata": {},
   "outputs": [],
   "source": [
    "import os\n",
    "import pandas as pd\n",
    "import numpy as np\n",
    "import openai\n",
    "from transformers import pipeline\n",
    "from selenium import webdriver\n",
    "from selenium.webdriver.common.by import By\n",
    "from tqdm import tqdm\n",
    "from dotenv import load_dotenv\n",
    "load_dotenv()\n",
    "pd.options.mode.chained_assignment = None"
   ]
  },
  {
   "cell_type": "code",
   "execution_count": 155,
   "metadata": {},
   "outputs": [
    {
     "name": "stderr",
     "output_type": "stream",
     "text": [
      "Downloading (…)lve/main/config.json: 100%|██████████| 1.80k/1.80k [00:00<00:00, 871kB/s]\n",
      "Downloading pytorch_model.bin: 100%|██████████| 1.22G/1.22G [01:49<00:00, 11.2MB/s]\n",
      "Downloading (…)okenizer_config.json: 100%|██████████| 26.0/26.0 [00:00<00:00, 10.7kB/s]\n",
      "Downloading (…)olve/main/vocab.json: 100%|██████████| 899k/899k [00:00<00:00, 1.32MB/s]\n",
      "Downloading (…)olve/main/merges.txt: 100%|██████████| 456k/456k [00:00<00:00, 1.27MB/s]\n"
     ]
    }
   ],
   "source": [
    "summarizer = pipeline(\"summarization\", model=\"sshleifer/distilbart-cnn-12-6\")"
   ]
  },
  {
   "cell_type": "code",
   "execution_count": 4,
   "metadata": {},
   "outputs": [],
   "source": [
    "openai.api_key = os.getenv(\"OPENAI_KEY\")"
   ]
  },
  {
   "cell_type": "code",
   "execution_count": 29,
   "metadata": {},
   "outputs": [],
   "source": [
    "model_id = \"gpt-3.5-turbo\""
   ]
  },
  {
   "cell_type": "code",
   "execution_count": 8,
   "metadata": {},
   "outputs": [],
   "source": [
    "cip = pd.read_csv(\"CIPCode2010.csv\", dtype={\"CIPCode\": str})"
   ]
  },
  {
   "cell_type": "code",
   "execution_count": 9,
   "metadata": {},
   "outputs": [
    {
     "data": {
      "text/html": [
       "<div>\n",
       "<style scoped>\n",
       "    .dataframe tbody tr th:only-of-type {\n",
       "        vertical-align: middle;\n",
       "    }\n",
       "\n",
       "    .dataframe tbody tr th {\n",
       "        vertical-align: top;\n",
       "    }\n",
       "\n",
       "    .dataframe thead th {\n",
       "        text-align: right;\n",
       "    }\n",
       "</style>\n",
       "<table border=\"1\" class=\"dataframe\">\n",
       "  <thead>\n",
       "    <tr style=\"text-align: right;\">\n",
       "      <th></th>\n",
       "      <th>CIPCode</th>\n",
       "      <th>CIPTitle</th>\n",
       "      <th>CIPDefinition</th>\n",
       "    </tr>\n",
       "  </thead>\n",
       "  <tbody>\n",
       "    <tr>\n",
       "      <th>0</th>\n",
       "      <td>01</td>\n",
       "      <td>AGRICULTURE, AGRICULTURE OPERATIONS, AND RELAT...</td>\n",
       "      <td>Instructional programs that focus on agricultu...</td>\n",
       "    </tr>\n",
       "    <tr>\n",
       "      <th>1</th>\n",
       "      <td>01.00</td>\n",
       "      <td>Agriculture, General.</td>\n",
       "      <td>Instructional content is defined in code 01.0000.</td>\n",
       "    </tr>\n",
       "    <tr>\n",
       "      <th>2</th>\n",
       "      <td>01.0000</td>\n",
       "      <td>Agriculture, General.</td>\n",
       "      <td>A program that focuses on the general principl...</td>\n",
       "    </tr>\n",
       "    <tr>\n",
       "      <th>3</th>\n",
       "      <td>01.01</td>\n",
       "      <td>Agricultural Business and Management.</td>\n",
       "      <td>Instructional content for this group of progra...</td>\n",
       "    </tr>\n",
       "    <tr>\n",
       "      <th>4</th>\n",
       "      <td>01.0101</td>\n",
       "      <td>Agricultural Business and Management, General.</td>\n",
       "      <td>A  general program that focuses on modern busi...</td>\n",
       "    </tr>\n",
       "    <tr>\n",
       "      <th>5</th>\n",
       "      <td>01.0102</td>\n",
       "      <td>Agribusiness/Agricultural Business Operations.</td>\n",
       "      <td>A program that prepares individuals to manage ...</td>\n",
       "    </tr>\n",
       "    <tr>\n",
       "      <th>6</th>\n",
       "      <td>01.0103</td>\n",
       "      <td>Agricultural Economics.</td>\n",
       "      <td>A program that focuses on the application of e...</td>\n",
       "    </tr>\n",
       "    <tr>\n",
       "      <th>7</th>\n",
       "      <td>01.0104</td>\n",
       "      <td>Farm/Farm and Ranch Management.</td>\n",
       "      <td>A program that prepares individuals to manage ...</td>\n",
       "    </tr>\n",
       "    <tr>\n",
       "      <th>8</th>\n",
       "      <td>01.0105</td>\n",
       "      <td>Agricultural/Farm Supplies Retailing and Whole...</td>\n",
       "      <td>A program  that prepares individuals to sell a...</td>\n",
       "    </tr>\n",
       "    <tr>\n",
       "      <th>9</th>\n",
       "      <td>01.0106</td>\n",
       "      <td>Agricultural Business Technology.</td>\n",
       "      <td>A program that prepares individuals to perform...</td>\n",
       "    </tr>\n",
       "  </tbody>\n",
       "</table>\n",
       "</div>"
      ],
      "text/plain": [
       "   CIPCode                                           CIPTitle  \\\n",
       "0       01  AGRICULTURE, AGRICULTURE OPERATIONS, AND RELAT...   \n",
       "1    01.00                              Agriculture, General.   \n",
       "2  01.0000                              Agriculture, General.   \n",
       "3    01.01              Agricultural Business and Management.   \n",
       "4  01.0101     Agricultural Business and Management, General.   \n",
       "5  01.0102     Agribusiness/Agricultural Business Operations.   \n",
       "6  01.0103                            Agricultural Economics.   \n",
       "7  01.0104                    Farm/Farm and Ranch Management.   \n",
       "8  01.0105  Agricultural/Farm Supplies Retailing and Whole...   \n",
       "9  01.0106                  Agricultural Business Technology.   \n",
       "\n",
       "                                       CIPDefinition  \n",
       "0  Instructional programs that focus on agricultu...  \n",
       "1  Instructional content is defined in code 01.0000.  \n",
       "2  A program that focuses on the general principl...  \n",
       "3  Instructional content for this group of progra...  \n",
       "4  A  general program that focuses on modern busi...  \n",
       "5  A program that prepares individuals to manage ...  \n",
       "6  A program that focuses on the application of e...  \n",
       "7  A program that prepares individuals to manage ...  \n",
       "8  A program  that prepares individuals to sell a...  \n",
       "9  A program that prepares individuals to perform...  "
      ]
     },
     "execution_count": 9,
     "metadata": {},
     "output_type": "execute_result"
    }
   ],
   "source": [
    "cip.head(10)"
   ]
  },
  {
   "cell_type": "code",
   "execution_count": 10,
   "metadata": {},
   "outputs": [],
   "source": [
    "url = \"https://nces.ed.gov/ipeds/cipcode/\""
   ]
  },
  {
   "cell_type": "code",
   "execution_count": 15,
   "metadata": {},
   "outputs": [],
   "source": [
    "driver = webdriver.Chrome()\n",
    "driver.get(url + \"browse.aspx?y=55\")"
   ]
  },
  {
   "cell_type": "code",
   "execution_count": 16,
   "metadata": {},
   "outputs": [],
   "source": [
    "driver.find_element(By.XPATH, \"//img[@title='Collapse All']\").click()"
   ]
  },
  {
   "cell_type": "code",
   "execution_count": 17,
   "metadata": {},
   "outputs": [],
   "source": [
    "elements = driver.find_elements(By.XPATH, \"//a[@title='View this CIP']\")\n",
    "codes = [element.text.split(\")\")[0] for element in elements] \n",
    "urls = [element.get_attribute(\"href\") for element in elements]"
   ]
  },
  {
   "cell_type": "code",
   "execution_count": 18,
   "metadata": {},
   "outputs": [],
   "source": [
    "driver.close()"
   ]
  },
  {
   "cell_type": "code",
   "execution_count": 19,
   "metadata": {},
   "outputs": [],
   "source": [
    "cip_urls = pd.DataFrame({\"CIPCode\": codes, \"url\": urls})"
   ]
  },
  {
   "cell_type": "code",
   "execution_count": 20,
   "metadata": {},
   "outputs": [],
   "source": [
    "cip_merged = cip.merge(cip_urls, how=\"inner\")"
   ]
  },
  {
   "cell_type": "code",
   "execution_count": 21,
   "metadata": {},
   "outputs": [],
   "source": [
    "cip_merged_4_6 = cip_merged[cip_merged['CIPCode'].str.len() > 2]"
   ]
  },
  {
   "cell_type": "code",
   "execution_count": 22,
   "metadata": {},
   "outputs": [],
   "source": [
    "cip_merged_4_6.loc[cip_merged_4_6['CIPDefinition'].str.contains(\"Instructional content\"), 'CIPDefinition'] = \"\""
   ]
  },
  {
   "cell_type": "code",
   "execution_count": 23,
   "metadata": {},
   "outputs": [],
   "source": [
    "cip_merged_4_6['CIPDefinition_concat'] = cip_merged_4_6.groupby(cip_merged_4_6['CIPCode'].str[:5])['CIPDefinition'].transform(lambda x: ' '.join(x))"
   ]
  },
  {
   "cell_type": "code",
   "execution_count": 24,
   "metadata": {},
   "outputs": [],
   "source": [
    "cip_merged_4 = cip_merged_4_6[cip_merged_4_6['CIPCode'].str.len() == 5].drop(columns=['CIPDefinition']).reset_index(drop=True)"
   ]
  },
  {
   "cell_type": "code",
   "execution_count": null,
   "metadata": {},
   "outputs": [],
   "source": [
    "summaries = []\n",
    "for cip in tqdm(cip_merged_4['CIPDefinition_concat']):\n",
    "    response = openai.ChatCompletion.create(model=model_id, messages=[{\"role\": \"system\", \"content\": f\"Summarize this program description in fewer than 30 words: {cip[:4000]}\"}])\n",
    "    summary = response.choices[0].message['content']\n",
    "    summaries.append(summary)"
   ]
  },
  {
   "cell_type": "code",
   "execution_count": 56,
   "metadata": {},
   "outputs": [],
   "source": [
    "cip_merged_4['CIPDefinition_summary'] = summaries"
   ]
  },
  {
   "cell_type": "code",
   "execution_count": 61,
   "metadata": {},
   "outputs": [],
   "source": [
    "cip_merged_4.to_csv(\"cip_url_summary.csv\", index=False)"
   ]
  },
  {
   "cell_type": "code",
   "execution_count": 79,
   "metadata": {},
   "outputs": [
    {
     "data": {
      "text/html": [
       "<div>\n",
       "<style scoped>\n",
       "    .dataframe tbody tr th:only-of-type {\n",
       "        vertical-align: middle;\n",
       "    }\n",
       "\n",
       "    .dataframe tbody tr th {\n",
       "        vertical-align: top;\n",
       "    }\n",
       "\n",
       "    .dataframe thead th {\n",
       "        text-align: right;\n",
       "    }\n",
       "</style>\n",
       "<table border=\"1\" class=\"dataframe\">\n",
       "  <thead>\n",
       "    <tr style=\"text-align: right;\">\n",
       "      <th></th>\n",
       "      <th>index</th>\n",
       "      <th>CIPCode</th>\n",
       "      <th>CIPTitle</th>\n",
       "      <th>url</th>\n",
       "      <th>CIPDefinition_concat</th>\n",
       "      <th>CIPDefinition_summary</th>\n",
       "    </tr>\n",
       "  </thead>\n",
       "  <tbody>\n",
       "    <tr>\n",
       "      <th>0</th>\n",
       "      <td>1</td>\n",
       "      <td>01.00</td>\n",
       "      <td>Agriculture, General.</td>\n",
       "      <td>https://nces.ed.gov/ipeds/cipcode/cipdetail.as...</td>\n",
       "      <td>A program that focuses on the general princip...</td>\n",
       "      <td>This program provides knowledge of agricultura...</td>\n",
       "    </tr>\n",
       "    <tr>\n",
       "      <th>1</th>\n",
       "      <td>3</td>\n",
       "      <td>01.01</td>\n",
       "      <td>Agricultural Business and Management.</td>\n",
       "      <td>https://nces.ed.gov/ipeds/cipcode/cipdetail.as...</td>\n",
       "      <td>A  general program that focuses on modern bus...</td>\n",
       "      <td>This program prepares individuals to manage va...</td>\n",
       "    </tr>\n",
       "    <tr>\n",
       "      <th>2</th>\n",
       "      <td>11</td>\n",
       "      <td>01.02</td>\n",
       "      <td>Agricultural Mechanization.</td>\n",
       "      <td>https://nces.ed.gov/ipeds/cipcode/cipdetail.as...</td>\n",
       "      <td>A program that generally prepares individuals...</td>\n",
       "      <td>This program prepares individuals to sell, sel...</td>\n",
       "    </tr>\n",
       "    <tr>\n",
       "      <th>3</th>\n",
       "      <td>16</td>\n",
       "      <td>01.03</td>\n",
       "      <td>Agricultural Production Operations.</td>\n",
       "      <td>https://nces.ed.gov/ipeds/cipcode/cipdetail.as...</td>\n",
       "      <td>A program that focuses on the general plannin...</td>\n",
       "      <td>Programs in agriculture, livestock care, aquat...</td>\n",
       "    </tr>\n",
       "    <tr>\n",
       "      <th>4</th>\n",
       "      <td>26</td>\n",
       "      <td>01.04</td>\n",
       "      <td>Agricultural and Food Products Processing.</td>\n",
       "      <td>https://nces.ed.gov/ipeds/cipcode/cipdetail.as...</td>\n",
       "      <td>A program that prepares individuals to receiv...</td>\n",
       "      <td>This program prepares individuals to store, pr...</td>\n",
       "    </tr>\n",
       "    <tr>\n",
       "      <th>...</th>\n",
       "      <td>...</td>\n",
       "      <td>...</td>\n",
       "      <td>...</td>\n",
       "      <td>...</td>\n",
       "      <td>...</td>\n",
       "      <td>...</td>\n",
       "    </tr>\n",
       "    <tr>\n",
       "      <th>383</th>\n",
       "      <td>1997</td>\n",
       "      <td>60.01</td>\n",
       "      <td>Dental Residency Programs.</td>\n",
       "      <td>https://nces.ed.gov/ipeds/cipcode/cipdetail.as...</td>\n",
       "      <td>A residency training program that prepares de...</td>\n",
       "      <td>Dental residency programs prepare dentists in ...</td>\n",
       "    </tr>\n",
       "    <tr>\n",
       "      <th>384</th>\n",
       "      <td>2008</td>\n",
       "      <td>60.03</td>\n",
       "      <td>Veterinary Residency Programs.</td>\n",
       "      <td>https://nces.ed.gov/ipeds/cipcode/cipdetail.as...</td>\n",
       "      <td>A residency training program that prepares ve...</td>\n",
       "      <td>Residency training programs in veterinary medi...</td>\n",
       "    </tr>\n",
       "    <tr>\n",
       "      <th>385</th>\n",
       "      <td>2030</td>\n",
       "      <td>60.04</td>\n",
       "      <td>Medical Residency Programs - General Certifica...</td>\n",
       "      <td>https://nces.ed.gov/ipeds/cipcode/cipdetail.as...</td>\n",
       "      <td>A residency training program that prepares ph...</td>\n",
       "      <td>Numerous medical residency training programs, ...</td>\n",
       "    </tr>\n",
       "    <tr>\n",
       "      <th>386</th>\n",
       "      <td>2066</td>\n",
       "      <td>60.05</td>\n",
       "      <td>Medical Residency Programs - Subspecialty Cert...</td>\n",
       "      <td>https://nces.ed.gov/ipeds/cipcode/cipdetail.as...</td>\n",
       "      <td>A residency training program that prepares ph...</td>\n",
       "      <td>Various residency training programs in special...</td>\n",
       "    </tr>\n",
       "    <tr>\n",
       "      <th>387</th>\n",
       "      <td>2152</td>\n",
       "      <td>60.06</td>\n",
       "      <td>Podiatric Medicine Residency Programs.</td>\n",
       "      <td>https://nces.ed.gov/ipeds/cipcode/cipdetail.as...</td>\n",
       "      <td>A two-year residency training program that pr...</td>\n",
       "      <td>Two-year and three-year podiatry residency pro...</td>\n",
       "    </tr>\n",
       "  </tbody>\n",
       "</table>\n",
       "<p>388 rows × 6 columns</p>\n",
       "</div>"
      ],
      "text/plain": [
       "     index CIPCode                                           CIPTitle  \\\n",
       "0        1   01.00                              Agriculture, General.   \n",
       "1        3   01.01              Agricultural Business and Management.   \n",
       "2       11   01.02                        Agricultural Mechanization.   \n",
       "3       16   01.03                Agricultural Production Operations.   \n",
       "4       26   01.04         Agricultural and Food Products Processing.   \n",
       "..     ...     ...                                                ...   \n",
       "383   1997   60.01                         Dental Residency Programs.   \n",
       "384   2008   60.03                     Veterinary Residency Programs.   \n",
       "385   2030   60.04  Medical Residency Programs - General Certifica...   \n",
       "386   2066   60.05  Medical Residency Programs - Subspecialty Cert...   \n",
       "387   2152   60.06             Podiatric Medicine Residency Programs.   \n",
       "\n",
       "                                                   url  \\\n",
       "0    https://nces.ed.gov/ipeds/cipcode/cipdetail.as...   \n",
       "1    https://nces.ed.gov/ipeds/cipcode/cipdetail.as...   \n",
       "2    https://nces.ed.gov/ipeds/cipcode/cipdetail.as...   \n",
       "3    https://nces.ed.gov/ipeds/cipcode/cipdetail.as...   \n",
       "4    https://nces.ed.gov/ipeds/cipcode/cipdetail.as...   \n",
       "..                                                 ...   \n",
       "383  https://nces.ed.gov/ipeds/cipcode/cipdetail.as...   \n",
       "384  https://nces.ed.gov/ipeds/cipcode/cipdetail.as...   \n",
       "385  https://nces.ed.gov/ipeds/cipcode/cipdetail.as...   \n",
       "386  https://nces.ed.gov/ipeds/cipcode/cipdetail.as...   \n",
       "387  https://nces.ed.gov/ipeds/cipcode/cipdetail.as...   \n",
       "\n",
       "                                  CIPDefinition_concat  \\\n",
       "0     A program that focuses on the general princip...   \n",
       "1     A  general program that focuses on modern bus...   \n",
       "2     A program that generally prepares individuals...   \n",
       "3     A program that focuses on the general plannin...   \n",
       "4     A program that prepares individuals to receiv...   \n",
       "..                                                 ...   \n",
       "383   A residency training program that prepares de...   \n",
       "384   A residency training program that prepares ve...   \n",
       "385   A residency training program that prepares ph...   \n",
       "386   A residency training program that prepares ph...   \n",
       "387   A two-year residency training program that pr...   \n",
       "\n",
       "                                 CIPDefinition_summary  \n",
       "0    This program provides knowledge of agricultura...  \n",
       "1    This program prepares individuals to manage va...  \n",
       "2    This program prepares individuals to sell, sel...  \n",
       "3    Programs in agriculture, livestock care, aquat...  \n",
       "4    This program prepares individuals to store, pr...  \n",
       "..                                                 ...  \n",
       "383  Dental residency programs prepare dentists in ...  \n",
       "384  Residency training programs in veterinary medi...  \n",
       "385  Numerous medical residency training programs, ...  \n",
       "386  Various residency training programs in special...  \n",
       "387  Two-year and three-year podiatry residency pro...  \n",
       "\n",
       "[388 rows x 6 columns]"
      ]
     },
     "execution_count": 79,
     "metadata": {},
     "output_type": "execute_result"
    }
   ],
   "source": [
    "cip_merged_4"
   ]
  },
  {
   "cell_type": "code",
   "execution_count": null,
   "metadata": {},
   "outputs": [],
   "source": []
  }
 ],
 "metadata": {
  "kernelspec": {
   "display_name": "si699",
   "language": "python",
   "name": "python3"
  },
  "language_info": {
   "codemirror_mode": {
    "name": "ipython",
    "version": 3
   },
   "file_extension": ".py",
   "mimetype": "text/x-python",
   "name": "python",
   "nbconvert_exporter": "python",
   "pygments_lexer": "ipython3",
   "version": "3.10.9"
  },
  "orig_nbformat": 4
 },
 "nbformat": 4,
 "nbformat_minor": 2
}

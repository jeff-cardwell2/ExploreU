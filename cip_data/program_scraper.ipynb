{
 "cells": [
  {
   "cell_type": "code",
   "execution_count": 44,
   "metadata": {},
   "outputs": [],
   "source": [
    "import requests\n",
    "import re\n",
    "import time\n",
    "import math\n",
    "import pandas as pd\n",
    "from tqdm import tqdm\n",
    "from itertools import chain\n",
    "from bs4 import BeautifulSoup\n",
    "from selenium import webdriver\n",
    "from selenium.webdriver.common.by import By\n",
    "from selenium.webdriver.support.ui import Select"
   ]
  },
  {
   "attachments": {},
   "cell_type": "markdown",
   "metadata": {},
   "source": [
    "## UCI"
   ]
  },
  {
   "cell_type": "code",
   "execution_count": 81,
   "metadata": {},
   "outputs": [],
   "source": [
    "uci_base = \"https://catalogue.uci.edu\""
   ]
  },
  {
   "cell_type": "code",
   "execution_count": 82,
   "metadata": {},
   "outputs": [],
   "source": [
    "uci_all = requests.get(uci_base + '/undergraduatedegrees/').text\n",
    "uci_soup = BeautifulSoup(uci_all, 'html.parser')"
   ]
  },
  {
   "cell_type": "code",
   "execution_count": 112,
   "metadata": {},
   "outputs": [],
   "source": [
    "uci_programs = uci_soup.select_one('h2[class=\"tglhead\"]').find_next_siblings()[0].select('li')"
   ]
  },
  {
   "cell_type": "code",
   "execution_count": 120,
   "metadata": {},
   "outputs": [
    {
     "name": "stderr",
     "output_type": "stream",
     "text": [
      "100%|██████████| 166/166 [00:27<00:00,  6.08it/s]\n"
     ]
    }
   ],
   "source": [
    "uci_names = []\n",
    "uci_reqs = []\n",
    "for p in tqdm(uci_programs):\n",
    "    name = p.text.split(',')\n",
    "    if 'B' not in name[-1]:\n",
    "        pass\n",
    "    else:\n",
    "        uci_names.append(''.join(name[:-1]))\n",
    "        p_url = uci_base + p.a['href'] + \"#requirementstext\"\n",
    "        p_reqs = requests.get(p_url).text\n",
    "        p_soup = BeautifulSoup(p_reqs, 'html.parser')\n",
    "        p_reqs_ls = list(map(lambda x: x.text.strip(), p_soup.select('td[class=\"codecol\"] + td:not([class]):not([colspan])')))\n",
    "        uci_reqs.append(', '.join(p_reqs_ls))"
   ]
  },
  {
   "cell_type": "code",
   "execution_count": 124,
   "metadata": {},
   "outputs": [],
   "source": [
    "uci_df = pd.DataFrame({'program': uci_names, 'requirements': uci_reqs})"
   ]
  },
  {
   "cell_type": "code",
   "execution_count": 125,
   "metadata": {},
   "outputs": [
    {
     "data": {
      "text/html": [
       "<div>\n",
       "<style scoped>\n",
       "    .dataframe tbody tr th:only-of-type {\n",
       "        vertical-align: middle;\n",
       "    }\n",
       "\n",
       "    .dataframe tbody tr th {\n",
       "        vertical-align: top;\n",
       "    }\n",
       "\n",
       "    .dataframe thead th {\n",
       "        text-align: right;\n",
       "    }\n",
       "</style>\n",
       "<table border=\"1\" class=\"dataframe\">\n",
       "  <thead>\n",
       "    <tr style=\"text-align: right;\">\n",
       "      <th></th>\n",
       "      <th>program</th>\n",
       "      <th>requirements</th>\n",
       "    </tr>\n",
       "  </thead>\n",
       "  <tbody>\n",
       "    <tr>\n",
       "      <th>0</th>\n",
       "      <td>Aerospace Engineering</td>\n",
       "      <td>General Chemistry, Accelerated General Chemist...</td>\n",
       "    </tr>\n",
       "    <tr>\n",
       "      <th>1</th>\n",
       "      <td>African American Studies</td>\n",
       "      <td>African American Studies I, African American S...</td>\n",
       "    </tr>\n",
       "    <tr>\n",
       "      <th>2</th>\n",
       "      <td>Anthropology</td>\n",
       "      <td>Introduction to Sociocultural Anthropology, In...</td>\n",
       "    </tr>\n",
       "    <tr>\n",
       "      <th>3</th>\n",
       "      <td>Applied Physics</td>\n",
       "      <td>Single-Variable Calculus, Single-Variable Calc...</td>\n",
       "    </tr>\n",
       "    <tr>\n",
       "      <th>4</th>\n",
       "      <td>Art</td>\n",
       "      <td>Art in Context: History, Theory, and Practice,...</td>\n",
       "    </tr>\n",
       "  </tbody>\n",
       "</table>\n",
       "</div>"
      ],
      "text/plain": [
       "                    program                                       requirements\n",
       "0     Aerospace Engineering  General Chemistry, Accelerated General Chemist...\n",
       "1  African American Studies  African American Studies I, African American S...\n",
       "2              Anthropology  Introduction to Sociocultural Anthropology, In...\n",
       "3           Applied Physics  Single-Variable Calculus, Single-Variable Calc...\n",
       "4                       Art  Art in Context: History, Theory, and Practice,..."
      ]
     },
     "execution_count": 125,
     "metadata": {},
     "output_type": "execute_result"
    }
   ],
   "source": [
    "uci_df.head()"
   ]
  },
  {
   "attachments": {},
   "cell_type": "markdown",
   "metadata": {},
   "source": [
    "## Princeton"
   ]
  },
  {
   "cell_type": "code",
   "execution_count": 170,
   "metadata": {},
   "outputs": [],
   "source": [
    "pu_base = \"https://ua.princeton.edu\""
   ]
  },
  {
   "cell_type": "code",
   "execution_count": 171,
   "metadata": {},
   "outputs": [],
   "source": [
    "pu_ba = requests.get(pu_base + '/academic-units/departmental-concentrations-for-the-degree-of-bachelor-of-arts').text\n",
    "pu_ba_soup = BeautifulSoup(pu_ba, 'html.parser')\n",
    "pu_bse = requests.get(pu_base + '/academic-units/departmental-concentrations-for-the-degree-of-bachelor-of-science-in-engineering').text\n",
    "pu_bse_soup = BeautifulSoup(pu_bse, 'html.parser')"
   ]
  },
  {
   "cell_type": "code",
   "execution_count": 172,
   "metadata": {},
   "outputs": [],
   "source": [
    "pu_ba_programs = pu_ba_soup.select(\".field-content > a\")\n",
    "pu_bse_programs = pu_bse_soup.select(\".field-content > a\")"
   ]
  },
  {
   "cell_type": "code",
   "execution_count": 227,
   "metadata": {},
   "outputs": [
    {
     "name": "stderr",
     "output_type": "stream",
     "text": [
      "100%|██████████| 37/37 [00:19<00:00,  1.95it/s]\n"
     ]
    }
   ],
   "source": [
    "pu_names = []\n",
    "pu_courses = []\n",
    "pu_desc = []\n",
    "for p in tqdm(pu_ba_programs + pu_bse_programs):\n",
    "    name = p.text.strip()\n",
    "    pu_names.append(name)\n",
    "    p_url = pu_base + p['href']\n",
    "    p_content = requests.get(p_url).text\n",
    "    p_soup = BeautifulSoup(p_content, 'html.parser')\n",
    "    p_courses = ' '.join(list(map(lambda x: re.sub('\\n', '', ' '.join(x.text.strip().split(' ')[2:])), p_soup.select('h3[class=\"course-title\"]'))))\n",
    "    pu_courses.append(p_courses)\n",
    "    p_desc = ' '.join(list(map(lambda x: x.text.strip(), p_soup.select('.course-desc'))))\n",
    "    pu_desc.append(p_desc)"
   ]
  },
  {
   "cell_type": "code",
   "execution_count": 228,
   "metadata": {},
   "outputs": [],
   "source": [
    "pu_df = pd.DataFrame({'institution': 'Princeton', 'program': pu_names, 'courses': pu_courses, 'descriptions': pu_desc})"
   ]
  },
  {
   "cell_type": "code",
   "execution_count": 229,
   "metadata": {},
   "outputs": [
    {
     "data": {
      "text/html": [
       "<div>\n",
       "<style scoped>\n",
       "    .dataframe tbody tr th:only-of-type {\n",
       "        vertical-align: middle;\n",
       "    }\n",
       "\n",
       "    .dataframe tbody tr th {\n",
       "        vertical-align: top;\n",
       "    }\n",
       "\n",
       "    .dataframe thead th {\n",
       "        text-align: right;\n",
       "    }\n",
       "</style>\n",
       "<table border=\"1\" class=\"dataframe\">\n",
       "  <thead>\n",
       "    <tr style=\"text-align: right;\">\n",
       "      <th></th>\n",
       "      <th>institution</th>\n",
       "      <th>program</th>\n",
       "      <th>courses</th>\n",
       "      <th>descriptions</th>\n",
       "    </tr>\n",
       "  </thead>\n",
       "  <tbody>\n",
       "    <tr>\n",
       "      <th>0</th>\n",
       "      <td>Princeton</td>\n",
       "      <td>African American Studies</td>\n",
       "      <td>African American Studies and the Philosophy of...</td>\n",
       "      <td>This course introduces students to the field o...</td>\n",
       "    </tr>\n",
       "    <tr>\n",
       "      <th>1</th>\n",
       "      <td>Princeton</td>\n",
       "      <td>Anthropology</td>\n",
       "      <td>Introduction to Anthropology  CDEC Human Evolu...</td>\n",
       "      <td>An introduction to anthropology and key topics...</td>\n",
       "    </tr>\n",
       "    <tr>\n",
       "      <th>2</th>\n",
       "      <td>Princeton</td>\n",
       "      <td>Architecture</td>\n",
       "      <td>An Introduction to the History of Architecture...</td>\n",
       "      <td>A broad overview of the discipline of architec...</td>\n",
       "    </tr>\n",
       "    <tr>\n",
       "      <th>3</th>\n",
       "      <td>Princeton</td>\n",
       "      <td>Art and Archaeology</td>\n",
       "      <td>An Introduction to the History of Art: Meaning...</td>\n",
       "      <td>A team-taught introduction to the history of a...</td>\n",
       "    </tr>\n",
       "    <tr>\n",
       "      <th>4</th>\n",
       "      <td>Princeton</td>\n",
       "      <td>Astrophysical Sciences</td>\n",
       "      <td>The Universe Spring QRSN Topics in Modern Astr...</td>\n",
       "      <td>This specially designed course targets the fro...</td>\n",
       "    </tr>\n",
       "  </tbody>\n",
       "</table>\n",
       "</div>"
      ],
      "text/plain": [
       "  institution                   program  \\\n",
       "0   Princeton  African American Studies   \n",
       "1   Princeton              Anthropology   \n",
       "2   Princeton              Architecture   \n",
       "3   Princeton       Art and Archaeology   \n",
       "4   Princeton    Astrophysical Sciences   \n",
       "\n",
       "                                             courses  \\\n",
       "0  African American Studies and the Philosophy of...   \n",
       "1  Introduction to Anthropology  CDEC Human Evolu...   \n",
       "2  An Introduction to the History of Architecture...   \n",
       "3  An Introduction to the History of Art: Meaning...   \n",
       "4  The Universe Spring QRSN Topics in Modern Astr...   \n",
       "\n",
       "                                        descriptions  \n",
       "0  This course introduces students to the field o...  \n",
       "1  An introduction to anthropology and key topics...  \n",
       "2  A broad overview of the discipline of architec...  \n",
       "3  A team-taught introduction to the history of a...  \n",
       "4  This specially designed course targets the fro...  "
      ]
     },
     "execution_count": 229,
     "metadata": {},
     "output_type": "execute_result"
    }
   ],
   "source": [
    "pu_df.head()"
   ]
  },
  {
   "cell_type": "code",
   "execution_count": 230,
   "metadata": {},
   "outputs": [],
   "source": [
    "pu_df.to_csv('curriculum/princeton_programs.csv', index=False)"
   ]
  },
  {
   "attachments": {},
   "cell_type": "markdown",
   "metadata": {},
   "source": [
    "## Texas Tech"
   ]
  },
  {
   "cell_type": "code",
   "execution_count": 7,
   "metadata": {},
   "outputs": [],
   "source": [
    "# bypass SSLError\n",
    "requests.packages.urllib3.util.ssl_.DEFAULT_CIPHERS += 'HIGH:!DH:!aNULL'"
   ]
  },
  {
   "cell_type": "code",
   "execution_count": 2,
   "metadata": {},
   "outputs": [],
   "source": [
    "ttu_base = \"https://www.ttu.edu/majors-and-colleges/undergraduate-majors/\""
   ]
  },
  {
   "cell_type": "code",
   "execution_count": 8,
   "metadata": {},
   "outputs": [],
   "source": [
    "ttu_all = requests.get(ttu_base).text\n",
    "ttu_soup = BeautifulSoup(ttu_all, 'html.parser')"
   ]
  },
  {
   "cell_type": "code",
   "execution_count": 99,
   "metadata": {},
   "outputs": [],
   "source": [
    "ttu_programs = ttu_soup.select('.columns-2 > ul > li > a')"
   ]
  },
  {
   "cell_type": "code",
   "execution_count": 110,
   "metadata": {},
   "outputs": [
    {
     "name": "stderr",
     "output_type": "stream",
     "text": [
      "100%|██████████| 188/188 [1:35:03<00:00, 30.34s/it]\n"
     ]
    }
   ],
   "source": [
    "driver = webdriver.Chrome()\n",
    "ttu_names = []\n",
    "ttu_courses = []\n",
    "ttu_desc = []\n",
    "for p in tqdm(ttu_programs):\n",
    "    driver.get(p['href'])\n",
    "    time.sleep(1)\n",
    "    ttu_names.append(p.text)\n",
    "    p_courses = driver.find_elements(By.CSS_SELECTOR, '.acalog-course > span')\n",
    "    course_name_ls = []\n",
    "    course_desc_ls = []\n",
    "    for course in p_courses:\n",
    "        a = course.find_element(By.TAG_NAME, 'a')\n",
    "        course_name = re.search('(?<= - ).*', a.text).group(0)\n",
    "        course_name_ls.append(course_name)\n",
    "        # click on a tag and wait until element is present\n",
    "        a.click()\n",
    "        driver.implicitly_wait(3)\n",
    "        course_desc = course.find_element(By.XPATH, 'table/tbody/tr/td/div[2]').text.split('\\n')[-1]\n",
    "        course_desc_ls.append(course_desc)\n",
    "        time.sleep(0.5)\n",
    "    ttu_courses.append(' '.join(course_name_ls))\n",
    "    ttu_desc.append(' '.join(course_desc_ls))\n",
    "    time.sleep(1)\n",
    "driver.close()"
   ]
  },
  {
   "cell_type": "code",
   "execution_count": 111,
   "metadata": {},
   "outputs": [],
   "source": [
    "ttu_df = pd.DataFrame({'institution': 'Texas Tech', 'program': ttu_names, 'courses': ttu_courses, 'descriptions': ttu_desc})"
   ]
  },
  {
   "cell_type": "code",
   "execution_count": 112,
   "metadata": {},
   "outputs": [
    {
     "data": {
      "text/html": [
       "<div>\n",
       "<style scoped>\n",
       "    .dataframe tbody tr th:only-of-type {\n",
       "        vertical-align: middle;\n",
       "    }\n",
       "\n",
       "    .dataframe tbody tr th {\n",
       "        vertical-align: top;\n",
       "    }\n",
       "\n",
       "    .dataframe thead th {\n",
       "        text-align: right;\n",
       "    }\n",
       "</style>\n",
       "<table border=\"1\" class=\"dataframe\">\n",
       "  <thead>\n",
       "    <tr style=\"text-align: right;\">\n",
       "      <th></th>\n",
       "      <th>institution</th>\n",
       "      <th>program</th>\n",
       "      <th>courses</th>\n",
       "      <th>descriptions</th>\n",
       "    </tr>\n",
       "  </thead>\n",
       "  <tbody>\n",
       "    <tr>\n",
       "      <th>0</th>\n",
       "      <td>Texas Tech</td>\n",
       "      <td>Accounting, B.B.A.</td>\n",
       "      <td>Foundations of Business Introductory Mathemati...</td>\n",
       "      <td>Provides students with a basic understanding o...</td>\n",
       "    </tr>\n",
       "    <tr>\n",
       "      <th>1</th>\n",
       "      <td>Texas Tech</td>\n",
       "      <td>Advertising, B.A.</td>\n",
       "      <td>Foundations of Media and Communication America...</td>\n",
       "      <td>TCCNS: [COMM1307] A broad survey of media hist...</td>\n",
       "    </tr>\n",
       "    <tr>\n",
       "      <th>2</th>\n",
       "      <td>Texas Tech</td>\n",
       "      <td>Agribusiness, B.S.</td>\n",
       "      <td>Essentials of College Rhetoric Introductory Ma...</td>\n",
       "      <td>TCCNS: [ENGL1301] Prerequisite: Successful com...</td>\n",
       "    </tr>\n",
       "    <tr>\n",
       "      <th>3</th>\n",
       "      <td>Texas Tech</td>\n",
       "      <td>Agricultural and Applied Economics, B.S.</td>\n",
       "      <td>Essentials of College Rhetoric Introductory Ma...</td>\n",
       "      <td>TCCNS: [ENGL1301] Prerequisite: Successful com...</td>\n",
       "    </tr>\n",
       "    <tr>\n",
       "      <th>4</th>\n",
       "      <td>Texas Tech</td>\n",
       "      <td>Agricultural Communications, B.S.</td>\n",
       "      <td>Essentials of College Rhetoric College Algebra...</td>\n",
       "      <td>TCCNS: [ENGL1301] Prerequisite: Successful com...</td>\n",
       "    </tr>\n",
       "  </tbody>\n",
       "</table>\n",
       "</div>"
      ],
      "text/plain": [
       "  institution                                   program  \\\n",
       "0  Texas Tech                        Accounting, B.B.A.   \n",
       "1  Texas Tech                         Advertising, B.A.   \n",
       "2  Texas Tech                        Agribusiness, B.S.   \n",
       "3  Texas Tech  Agricultural and Applied Economics, B.S.   \n",
       "4  Texas Tech         Agricultural Communications, B.S.   \n",
       "\n",
       "                                             courses  \\\n",
       "0  Foundations of Business Introductory Mathemati...   \n",
       "1  Foundations of Media and Communication America...   \n",
       "2  Essentials of College Rhetoric Introductory Ma...   \n",
       "3  Essentials of College Rhetoric Introductory Ma...   \n",
       "4  Essentials of College Rhetoric College Algebra...   \n",
       "\n",
       "                                        descriptions  \n",
       "0  Provides students with a basic understanding o...  \n",
       "1  TCCNS: [COMM1307] A broad survey of media hist...  \n",
       "2  TCCNS: [ENGL1301] Prerequisite: Successful com...  \n",
       "3  TCCNS: [ENGL1301] Prerequisite: Successful com...  \n",
       "4  TCCNS: [ENGL1301] Prerequisite: Successful com...  "
      ]
     },
     "execution_count": 112,
     "metadata": {},
     "output_type": "execute_result"
    }
   ],
   "source": [
    "ttu_df.head()"
   ]
  },
  {
   "cell_type": "code",
   "execution_count": 114,
   "metadata": {},
   "outputs": [],
   "source": [
    "ttu_df.to_csv('curriculum/texas_tech_programs.csv', index=False)"
   ]
  },
  {
   "attachments": {},
   "cell_type": "markdown",
   "metadata": {},
   "source": [
    "## Clemson"
   ]
  },
  {
   "cell_type": "code",
   "execution_count": 115,
   "metadata": {},
   "outputs": [],
   "source": [
    "clem_base = \"https://www.clemson.edu/degrees/index.html\""
   ]
  },
  {
   "cell_type": "code",
   "execution_count": 116,
   "metadata": {},
   "outputs": [],
   "source": [
    "clem_all = requests.get(clem_base).text\n",
    "clem_soup = BeautifulSoup(clem_all, 'html.parser')"
   ]
  },
  {
   "cell_type": "code",
   "execution_count": 121,
   "metadata": {},
   "outputs": [],
   "source": [
    "clem_programs = clem_soup.select('tbody > tr')"
   ]
  },
  {
   "cell_type": "code",
   "execution_count": 159,
   "metadata": {},
   "outputs": [
    {
     "name": "stdout",
     "output_type": "stream",
     "text": [
      "Curriculum for Automotive Engineering not found\n",
      "Curriculum for Modern Languages Education not found\n"
     ]
    }
   ],
   "source": [
    "clem_names = []\n",
    "clem_urls = []\n",
    "for p in clem_programs:\n",
    "    # search for bachelor's programs only\n",
    "    p_url = p.select_one('td:nth-of-type(2) > a')\n",
    "    if p_url:\n",
    "        p_name = p.select_one('td').text\n",
    "        p_content = requests.get(p_url[\"href\"]).text\n",
    "        p_soup = BeautifulSoup(p_content, 'html.parser')\n",
    "        try:\n",
    "            clem_urls.append(p_soup.select_one('#curric > ul > li > a')['href'])\n",
    "            clem_names.append(p_name)\n",
    "        except:\n",
    "            print(f'Curriculum for {p_name} not found')\n",
    "            pass\n",
    "    else:\n",
    "        pass"
   ]
  },
  {
   "cell_type": "code",
   "execution_count": null,
   "metadata": {},
   "outputs": [],
   "source": [
    "driver = webdriver.Chrome()\n",
    "clem_courses = []\n",
    "clem_desc = []\n",
    "for p in tqdm(clem_urls):\n",
    "    driver.get(p)\n",
    "    time.sleep(1)\n",
    "    p_courses = driver.find_elements(By.CSS_SELECTOR, '.acalog-course > span')\n",
    "    course_name_ls = []\n",
    "    course_desc_ls = []\n",
    "    for course in p_courses:\n",
    "        driver.execute_script(\"arguments[0].scrollIntoView(true);\", course)\n",
    "        a = course.find_element(By.TAG_NAME, 'a')\n",
    "        course_name = re.search('(?<= - ).*', a.text).group(0)\n",
    "        course_name_ls.append(course_name)\n",
    "        # click on a tag and wait until element is present, bypass GUI w JS click\n",
    "        driver.execute_script(\"arguments[0].click();\", a)\n",
    "        driver.implicitly_wait(3)\n",
    "        course_desc = course.find_element(By.XPATH, 'table/tbody/tr/td/div[2]').text.split('\\n')[-1]\n",
    "        course_desc_ls.append(course_desc)\n",
    "        time.sleep(0.5)\n",
    "    clem_courses.append(' '.join(course_name_ls))\n",
    "    clem_desc.append(' '.join(course_desc_ls))\n",
    "    time.sleep(1)\n",
    "driver.close()"
   ]
  },
  {
   "cell_type": "code",
   "execution_count": 198,
   "metadata": {},
   "outputs": [],
   "source": [
    "clem_df = pd.DataFrame({'institution': 'Clemson', 'program': clem_names, 'courses': clem_courses, 'descriptions': clem_desc})"
   ]
  },
  {
   "cell_type": "code",
   "execution_count": 212,
   "metadata": {},
   "outputs": [],
   "source": [
    "# remove Agricultural Education\n",
    "clem_df = clem_df[~(clem_df['courses'] == \"\")]"
   ]
  },
  {
   "cell_type": "code",
   "execution_count": 213,
   "metadata": {},
   "outputs": [
    {
     "data": {
      "text/html": [
       "<div>\n",
       "<style scoped>\n",
       "    .dataframe tbody tr th:only-of-type {\n",
       "        vertical-align: middle;\n",
       "    }\n",
       "\n",
       "    .dataframe tbody tr th {\n",
       "        vertical-align: top;\n",
       "    }\n",
       "\n",
       "    .dataframe thead th {\n",
       "        text-align: right;\n",
       "    }\n",
       "</style>\n",
       "<table border=\"1\" class=\"dataframe\">\n",
       "  <thead>\n",
       "    <tr style=\"text-align: right;\">\n",
       "      <th></th>\n",
       "      <th>institution</th>\n",
       "      <th>program</th>\n",
       "      <th>courses</th>\n",
       "      <th>descriptions</th>\n",
       "    </tr>\n",
       "  </thead>\n",
       "  <tbody>\n",
       "    <tr>\n",
       "      <th>0</th>\n",
       "      <td>Clemson</td>\n",
       "      <td>Accounting</td>\n",
       "      <td>Business Foundations Principles of Microeconom...</td>\n",
       "      <td>Introduction to a variety of topics critical t...</td>\n",
       "    </tr>\n",
       "    <tr>\n",
       "      <th>1</th>\n",
       "      <td>Clemson</td>\n",
       "      <td>Agribusiness</td>\n",
       "      <td>Agriculture and Society Composition and Rhetor...</td>\n",
       "      <td>Introduction to the development of world socie...</td>\n",
       "    </tr>\n",
       "    <tr>\n",
       "      <th>3</th>\n",
       "      <td>Clemson</td>\n",
       "      <td>Agricultural Mechanization and Business</td>\n",
       "      <td>Introduction to Agricultural Mechanization and...</td>\n",
       "      <td>Introduces the Agricultural Mechanization and ...</td>\n",
       "    </tr>\n",
       "    <tr>\n",
       "      <th>4</th>\n",
       "      <td>Clemson</td>\n",
       "      <td>Animal and Veterinary Sciences</td>\n",
       "      <td>Introduction to Animal Science Introduction to...</td>\n",
       "      <td>Survey of animal industries and their role in ...</td>\n",
       "    </tr>\n",
       "    <tr>\n",
       "      <th>5</th>\n",
       "      <td>Clemson</td>\n",
       "      <td>Anthropology</td>\n",
       "      <td>Introduction to Anthropology Essential Mathema...</td>\n",
       "      <td>Offers a four-field overview: primates and hum...</td>\n",
       "    </tr>\n",
       "  </tbody>\n",
       "</table>\n",
       "</div>"
      ],
      "text/plain": [
       "  institution                                  program  \\\n",
       "0     Clemson                               Accounting   \n",
       "1     Clemson                             Agribusiness   \n",
       "3     Clemson  Agricultural Mechanization and Business   \n",
       "4     Clemson           Animal and Veterinary Sciences   \n",
       "5     Clemson                             Anthropology   \n",
       "\n",
       "                                             courses  \\\n",
       "0  Business Foundations Principles of Microeconom...   \n",
       "1  Agriculture and Society Composition and Rhetor...   \n",
       "3  Introduction to Agricultural Mechanization and...   \n",
       "4  Introduction to Animal Science Introduction to...   \n",
       "5  Introduction to Anthropology Essential Mathema...   \n",
       "\n",
       "                                        descriptions  \n",
       "0  Introduction to a variety of topics critical t...  \n",
       "1  Introduction to the development of world socie...  \n",
       "3  Introduces the Agricultural Mechanization and ...  \n",
       "4  Survey of animal industries and their role in ...  \n",
       "5  Offers a four-field overview: primates and hum...  "
      ]
     },
     "execution_count": 213,
     "metadata": {},
     "output_type": "execute_result"
    }
   ],
   "source": [
    "clem_df.head()"
   ]
  },
  {
   "cell_type": "code",
   "execution_count": null,
   "metadata": {},
   "outputs": [],
   "source": [
    "clem_df.to_csv('curriculum/clemson_programs.csv', index=False)"
   ]
  },
  {
   "attachments": {},
   "cell_type": "markdown",
   "metadata": {},
   "source": [
    "## Purdue"
   ]
  },
  {
   "cell_type": "code",
   "execution_count": 2,
   "metadata": {},
   "outputs": [],
   "source": [
    "purdue_base = \"https://catalog.purdue.edu/\""
   ]
  },
  {
   "cell_type": "code",
   "execution_count": 3,
   "metadata": {},
   "outputs": [],
   "source": [
    "purdue_all = requests.get(purdue_base + 'content.php?catoid=8&navoid=10451').text\n",
    "purdue_soup = BeautifulSoup(purdue_all, 'html.parser')"
   ]
  },
  {
   "cell_type": "code",
   "execution_count": 4,
   "metadata": {},
   "outputs": [],
   "source": [
    "purdue_undergrad = list(chain.from_iterable(map(lambda x: x.select('li > a'), purdue_soup.select('.program-list')[1:25])))\n",
    "purdue_grad = list(chain.from_iterable(map(lambda x: x.select('li > a'), purdue_soup.select('.program-list')[29:53])))"
   ]
  },
  {
   "cell_type": "code",
   "execution_count": null,
   "metadata": {},
   "outputs": [],
   "source": [
    "driver = webdriver.Chrome()\n",
    "purdue_undergrad_names = []\n",
    "purdue_undergrad_courses = []\n",
    "purdue_undergrad_desc = []\n",
    "for p in tqdm(purdue_undergrad):\n",
    "    driver.get(purdue_base + p['href'])\n",
    "    time.sleep(1)\n",
    "    purdue_undergrad_names.append(p.text)\n",
    "    p_courses = driver.find_elements(By.CSS_SELECTOR, '.acalog-course > span')\n",
    "    course_name_ls = []\n",
    "    course_desc_ls = []\n",
    "    for course in p_courses:\n",
    "        a = course.find_element(By.TAG_NAME, 'a')\n",
    "        course_name = re.search('(?<= - ).*', a.text).group(0)\n",
    "        course_name_ls.append(course_name)\n",
    "        # click on a tag and wait until element is present\n",
    "        a.click()\n",
    "        driver.implicitly_wait(3)\n",
    "        course_desc = course.find_element(By.XPATH, 'table/tbody/tr/td/div[2]').text.split('\\n')[-1]\n",
    "        course_desc_ls.append(course_desc)\n",
    "        time.sleep(0.2)\n",
    "    purdue_undergrad_courses.append(' '.join(course_name_ls))\n",
    "    purdue_undergrad_desc.append(' '.join(course_desc_ls))\n",
    "    time.sleep(0.5)\n",
    "driver.close()"
   ]
  },
  {
   "cell_type": "code",
   "execution_count": 9,
   "metadata": {},
   "outputs": [],
   "source": [
    "purdue_undergrad_df = pd.DataFrame({'institution': 'purdue', 'degree_level': 'undergraduate', 'program': purdue_undergrad_names, 'courses': purdue_undergrad_courses, 'descriptions': purdue_undergrad_desc})"
   ]
  },
  {
   "cell_type": "code",
   "execution_count": 14,
   "metadata": {},
   "outputs": [],
   "source": [
    "purdue_undergrad_df.to_csv('curriculum/purdue_bach_programs.csv', index=False)"
   ]
  },
  {
   "attachments": {},
   "cell_type": "markdown",
   "metadata": {},
   "source": [
    "## University of Houston"
   ]
  },
  {
   "cell_type": "code",
   "execution_count": 15,
   "metadata": {},
   "outputs": [],
   "source": [
    "uh_base = \"http://publications.uh.edu/\""
   ]
  },
  {
   "cell_type": "code",
   "execution_count": 16,
   "metadata": {},
   "outputs": [],
   "source": [
    "uh_all = requests.get(uh_base + 'content.php?catoid=31&navoid=11529').text\n",
    "uh_soup = BeautifulSoup(uh_all, 'html.parser')"
   ]
  },
  {
   "cell_type": "code",
   "execution_count": 39,
   "metadata": {},
   "outputs": [],
   "source": [
    "uh_programs = uh_soup.select('.program-list > li > a')[7:127]"
   ]
  },
  {
   "cell_type": "code",
   "execution_count": 49,
   "metadata": {},
   "outputs": [
    {
     "name": "stderr",
     "output_type": "stream",
     "text": [
      "100%|██████████| 120/120 [36:40<00:00, 18.34s/it]\n"
     ]
    }
   ],
   "source": [
    "driver = webdriver.Chrome()\n",
    "uh_undergrad_names = []\n",
    "uh_undergrad_courses = []\n",
    "uh_undergrad_desc = []\n",
    "for p in tqdm(uh_programs):\n",
    "    driver.get(uh_base + p['href'])\n",
    "    time.sleep(1)\n",
    "    uh_undergrad_names.append(p.text)\n",
    "    p_courses = driver.find_elements(By.CSS_SELECTOR, '.acalog-course > span')\n",
    "    course_name_ls = []\n",
    "    course_desc_ls = []\n",
    "    for course in p_courses:\n",
    "        a = course.find_element(By.TAG_NAME, 'a')\n",
    "        course_name = re.search('(?<= - ).*', a.text).group(0)\n",
    "        course_name_ls.append(course_name)\n",
    "        # click on a tag and wait until element is present\n",
    "        a.click()\n",
    "        driver.implicitly_wait(3)\n",
    "        course_desc = course.find_element(By.XPATH, 'table/tbody/tr/td/div[2]').text.split('\\n')[-1]\n",
    "        course_desc_ls.append(course_desc)\n",
    "        time.sleep(0.2)\n",
    "    uh_undergrad_courses.append(' '.join(course_name_ls))\n",
    "    uh_undergrad_desc.append(' '.join(course_desc_ls))\n",
    "    time.sleep(0.5)\n",
    "driver.close()"
   ]
  },
  {
   "cell_type": "code",
   "execution_count": 50,
   "metadata": {},
   "outputs": [],
   "source": [
    "uh_df = pd.DataFrame({'institution': 'University of Houston', 'degree_level': 'undergraduate', 'program': uh_undergrad_names, 'courses': uh_undergrad_courses, 'descriptions': uh_undergrad_desc})"
   ]
  },
  {
   "cell_type": "code",
   "execution_count": 52,
   "metadata": {},
   "outputs": [],
   "source": [
    "uh_df.to_csv('curriculum/uh_programs.csv', index=False)"
   ]
  },
  {
   "attachments": {},
   "cell_type": "markdown",
   "metadata": {},
   "source": [
    "## Saint Peter's"
   ]
  },
  {
   "cell_type": "code",
   "execution_count": 151,
   "metadata": {},
   "outputs": [],
   "source": [
    "sp_base = \"https://www.saintpeters.edu/academics/areas-of-study/?bachelors-degree&major&masters-degree\""
   ]
  },
  {
   "cell_type": "code",
   "execution_count": 152,
   "metadata": {},
   "outputs": [],
   "source": [
    "sp_all = requests.get(sp_base).text\n",
    "sp_soup = BeautifulSoup(sp_all, 'html.parser')"
   ]
  },
  {
   "cell_type": "code",
   "execution_count": 163,
   "metadata": {},
   "outputs": [],
   "source": [
    "sp_undergrad_programs = [p for p in sp_soup.select('.program-links > a') + sp_soup.select('.program-links > div > a') if \"undergrad\" in p['href'] and \"http\" in p['href']]\n",
    "sp_grad_programs = [p for p in sp_soup.select('.program-links > a') + sp_soup.select('.program-links > div > a') if \"/grad\" in p['href'] and \"http\" in p['href']]"
   ]
  },
  {
   "attachments": {},
   "cell_type": "markdown",
   "metadata": {},
   "source": [
    "### Undergrad"
   ]
  },
  {
   "cell_type": "code",
   "execution_count": 170,
   "metadata": {},
   "outputs": [
    {
     "name": "stderr",
     "output_type": "stream",
     "text": [
      "100%|██████████| 68/68 [01:55<00:00,  1.70s/it]\n"
     ]
    }
   ],
   "source": [
    "sp_undergrad_names = []\n",
    "sp_undergrad_courses = []\n",
    "sp_undergrad_desc = []\n",
    "for p in tqdm(sp_undergrad_programs):\n",
    "    if \"about\" in p.p.text:\n",
    "        p_name = p.p.text[7:]\n",
    "    else:\n",
    "        p_name = p.p.text[4:]\n",
    "    if requests.get(p['href'] + \"/courses/\").status_code == 200:\n",
    "        p_courses = requests.get(p['href'] + \"/courses/\").text\n",
    "        p_soup = BeautifulSoup(p_courses, 'html.parser')\n",
    "        p_titles = ' '.join(list(map(lambda x: x.text.split(\".  \")[1], p_soup.select('.courseblocktitle > strong'))))\n",
    "        p_desc = ' '.join(list(map(lambda x: x.text.strip(), p_soup.select('.courseblockdesc'))))\n",
    "        sp_undergrad_names.append(p_name)\n",
    "        sp_undergrad_courses.append(p_titles)\n",
    "        sp_undergrad_desc.append(p_desc)\n",
    "    else:\n",
    "        pass"
   ]
  },
  {
   "cell_type": "code",
   "execution_count": 214,
   "metadata": {},
   "outputs": [],
   "source": [
    "sp_undergrad_df = pd.DataFrame({'institution': 'Saint Peter\\'s', 'degree_level': 'undergraduate', 'program': sp_undergrad_names, 'courses': sp_undergrad_courses, 'descriptions': sp_undergrad_desc})\n",
    "sp_undergrad_df = sp_undergrad_df[sp_undergrad_df['descriptions'] != \"\"].drop_duplicates(subset=['program'])"
   ]
  },
  {
   "attachments": {},
   "cell_type": "markdown",
   "metadata": {},
   "source": [
    "### Grad"
   ]
  },
  {
   "cell_type": "code",
   "execution_count": 201,
   "metadata": {},
   "outputs": [
    {
     "name": "stderr",
     "output_type": "stream",
     "text": [
      "100%|██████████| 17/17 [00:29<00:00,  1.71s/it]\n"
     ]
    }
   ],
   "source": [
    "sp_grad_names = []\n",
    "sp_grad_courses = []\n",
    "sp_grad_desc = []\n",
    "for p in tqdm(sp_grad_programs):\n",
    "    if \"about\" in p.p.text:\n",
    "        p_name = p.p.text[7:]\n",
    "    else:\n",
    "        p_name = p.p.text[4:]\n",
    "    if requests.get(p['href'] + \"/courses/\").status_code == 200:\n",
    "        p_courses = requests.get(p['href'] + \"/courses/\").text\n",
    "        p_soup = BeautifulSoup(p_courses, 'html.parser')\n",
    "        p_titles = ' '.join(list(map(lambda x: x.text.split(\".\")[1].strip(), p_soup.select('.courseblocktitle > strong'))))\n",
    "        p_desc = ' '.join(list(map(lambda x: x.text.strip(), p_soup.select('.courseblockdesc'))))\n",
    "        sp_grad_names.append(p_name)\n",
    "        sp_grad_courses.append(p_titles)\n",
    "        sp_grad_desc.append(p_desc)\n",
    "    else:\n",
    "        pass"
   ]
  },
  {
   "cell_type": "code",
   "execution_count": 212,
   "metadata": {},
   "outputs": [],
   "source": [
    "sp_grad_df = pd.DataFrame({'institution': 'Saint Peter\\'s', 'degree_level': 'graduate', 'program': sp_grad_names, 'courses': sp_grad_courses, 'descriptions': sp_grad_desc})\n",
    "sp_grad_df = sp_grad_df[sp_grad_df['descriptions'] != \"\"].drop_duplicates(subset=['program'])"
   ]
  },
  {
   "cell_type": "code",
   "execution_count": 219,
   "metadata": {},
   "outputs": [],
   "source": [
    "sp_df = pd.concat([sp_undergrad_df, sp_grad_df]).reset_index(drop=True)"
   ]
  },
  {
   "cell_type": "code",
   "execution_count": 220,
   "metadata": {},
   "outputs": [],
   "source": [
    "sp_df.to_csv('curriculum/sp_programs.csv', index=False)"
   ]
  },
  {
   "attachments": {},
   "cell_type": "markdown",
   "metadata": {},
   "source": [
    "# CIP Codes"
   ]
  },
  {
   "attachments": {},
   "cell_type": "markdown",
   "metadata": {},
   "source": [
    "## New Jersey"
   ]
  },
  {
   "cell_type": "code",
   "execution_count": 2,
   "metadata": {},
   "outputs": [],
   "source": [
    "dir_url_nj = \"https://www.state.nj.us/highereducation/Program_Inventory/PI_Search.shtml\""
   ]
  },
  {
   "cell_type": "code",
   "execution_count": 83,
   "metadata": {},
   "outputs": [],
   "source": [
    "driver = webdriver.Chrome()\n",
    "driver.get(dir_url_nj)"
   ]
  },
  {
   "cell_type": "code",
   "execution_count": 84,
   "metadata": {},
   "outputs": [],
   "source": [
    "select = Select(driver.find_elements(By.NAME, 'words')[1])\n",
    "select.select_by_visible_text('Princeton University')"
   ]
  },
  {
   "cell_type": "code",
   "execution_count": 85,
   "metadata": {},
   "outputs": [],
   "source": [
    "driver.find_element(By.XPATH, \"//input[@value='Search by Institution']\").click()"
   ]
  },
  {
   "cell_type": "code",
   "execution_count": 86,
   "metadata": {},
   "outputs": [
    {
     "name": "stdout",
     "output_type": "stream",
     "text": [
      "Reached last page\n"
     ]
    }
   ],
   "source": [
    "pu_degree_ls = []\n",
    "pu_program_ls = []\n",
    "pu_cip_ls = []\n",
    "n_pages = math.ceil(int(driver.find_elements(By.TAG_NAME, 'p')[2].text.split(' ')[0]) / 25)\n",
    "for i in range(n_pages):\n",
    "    rows = driver.find_elements(By.XPATH, '//center/table/tbody/tr/td/center[3]/table/tbody/tr')\n",
    "    for r in rows:\n",
    "        if \"Degree\" in r.text:\n",
    "            if \"bachelor\" in r.text:\n",
    "                pu_degree_ls.append(\"undergraduate\")\n",
    "            elif \"master\" in r.text or \"doctoral\" in r.text:\n",
    "                pu_degree_ls.append(\"graduate\")\n",
    "            else:\n",
    "                pu_degree_ls.append(\"other\")\n",
    "        elif \"Program\" in r.text:\n",
    "            pu_program_ls.append(r.text.split(\": \")[1])\n",
    "        elif \"CIP Code\" in r.text:\n",
    "            pu_cip_ls.append(re.search('(?<=: )(\\d+)(?= -)', r.text)[0])\n",
    "    if i < n_pages - 1:\n",
    "        next = driver.find_element(By.XPATH, \"//input[@value='Get Next Matches']\")\n",
    "        next.click()\n",
    "    else:\n",
    "        print(\"Reached last page\")\n",
    "driver.close()"
   ]
  },
  {
   "cell_type": "code",
   "execution_count": 87,
   "metadata": {},
   "outputs": [],
   "source": [
    "pu_cip = pd.DataFrame({'institution': 'Princeton', 'degree_level': pu_degree_ls, 'program': pu_program_ls, 'cip': pu_cip_ls})"
   ]
  },
  {
   "cell_type": "code",
   "execution_count": 94,
   "metadata": {},
   "outputs": [],
   "source": [
    "pu_curriculum = pd.read_csv('curriculum/princeton_programs.csv')"
   ]
  },
  {
   "cell_type": "code",
   "execution_count": 110,
   "metadata": {},
   "outputs": [],
   "source": [
    "pu_merged = pu_curriculum.merge(pu_cip[pu_cip['degree_level'] == \"undergraduate\"].drop(columns=[\"institution\"]), on=\"program\", how=\"left\")\n",
    "pu_merged['degree_level'].fillna(\"undergraduate\", inplace=True)"
   ]
  },
  {
   "cell_type": "code",
   "execution_count": 113,
   "metadata": {},
   "outputs": [],
   "source": [
    "pu_merged.to_csv(\"cip/nj_full.csv\", index=False)"
   ]
  },
  {
   "attachments": {},
   "cell_type": "markdown",
   "metadata": {},
   "source": [
    "## Indiana"
   ]
  },
  {
   "cell_type": "code",
   "execution_count": 114,
   "metadata": {},
   "outputs": [],
   "source": [
    "dir_url_in = \"https://transferin.net/transfer-resources/transfer-databases/academic-program-inventory/\""
   ]
  },
  {
   "cell_type": "code",
   "execution_count": 117,
   "metadata": {},
   "outputs": [],
   "source": [
    "purdue_cip = pd.read_csv(\"cip/in_cip.csv\", delimiter=\"\\t\")"
   ]
  },
  {
   "cell_type": "code",
   "execution_count": 122,
   "metadata": {},
   "outputs": [
    {
     "data": {
      "text/html": [
       "<div>\n",
       "<style scoped>\n",
       "    .dataframe tbody tr th:only-of-type {\n",
       "        vertical-align: middle;\n",
       "    }\n",
       "\n",
       "    .dataframe tbody tr th {\n",
       "        vertical-align: top;\n",
       "    }\n",
       "\n",
       "    .dataframe thead th {\n",
       "        text-align: right;\n",
       "    }\n",
       "</style>\n",
       "<table border=\"1\" class=\"dataframe\">\n",
       "  <thead>\n",
       "    <tr style=\"text-align: right;\">\n",
       "      <th></th>\n",
       "      <th>institution</th>\n",
       "      <th>cip</th>\n",
       "      <th>degree_level</th>\n",
       "      <th>program</th>\n",
       "    </tr>\n",
       "  </thead>\n",
       "  <tbody>\n",
       "    <tr>\n",
       "      <th>0</th>\n",
       "      <td>Purdue</td>\n",
       "      <td>1.0</td>\n",
       "      <td>undergraduate</td>\n",
       "      <td>B.S. in Agriculture</td>\n",
       "    </tr>\n",
       "  </tbody>\n",
       "</table>\n",
       "</div>"
      ],
      "text/plain": [
       "  institution  cip   degree_level              program\n",
       "0      Purdue  1.0  undergraduate  B.S. in Agriculture"
      ]
     },
     "execution_count": 122,
     "metadata": {},
     "output_type": "execute_result"
    }
   ],
   "source": [
    "purdue_cip.head(1)"
   ]
  },
  {
   "cell_type": "code",
   "execution_count": 149,
   "metadata": {},
   "outputs": [],
   "source": [
    "purdue_cip['program'] = purdue_cip['program'].str.extract(\"((?<=in ).*)\")"
   ]
  },
  {
   "cell_type": "code",
   "execution_count": 119,
   "metadata": {},
   "outputs": [],
   "source": [
    "purdue_curriculum = pd.read_csv(\"curriculum/purdue_bach_programs.csv\")"
   ]
  },
  {
   "cell_type": "code",
   "execution_count": 123,
   "metadata": {},
   "outputs": [
    {
     "data": {
      "text/html": [
       "<div>\n",
       "<style scoped>\n",
       "    .dataframe tbody tr th:only-of-type {\n",
       "        vertical-align: middle;\n",
       "    }\n",
       "\n",
       "    .dataframe tbody tr th {\n",
       "        vertical-align: top;\n",
       "    }\n",
       "\n",
       "    .dataframe thead th {\n",
       "        text-align: right;\n",
       "    }\n",
       "</style>\n",
       "<table border=\"1\" class=\"dataframe\">\n",
       "  <thead>\n",
       "    <tr style=\"text-align: right;\">\n",
       "      <th></th>\n",
       "      <th>institution</th>\n",
       "      <th>degree_level</th>\n",
       "      <th>program</th>\n",
       "      <th>courses</th>\n",
       "      <th>descriptions</th>\n",
       "    </tr>\n",
       "  </thead>\n",
       "  <tbody>\n",
       "    <tr>\n",
       "      <th>0</th>\n",
       "      <td>purdue</td>\n",
       "      <td>undergraduate</td>\n",
       "      <td>African American Studies, BA</td>\n",
       "      <td>Introduction To African American Studies The A...</td>\n",
       "      <td>Credit Hours: 3.00. Introduction to the philos...</td>\n",
       "    </tr>\n",
       "  </tbody>\n",
       "</table>\n",
       "</div>"
      ],
      "text/plain": [
       "  institution   degree_level                       program  \\\n",
       "0      purdue  undergraduate  African American Studies, BA   \n",
       "\n",
       "                                             courses  \\\n",
       "0  Introduction To African American Studies The A...   \n",
       "\n",
       "                                        descriptions  \n",
       "0  Credit Hours: 3.00. Introduction to the philos...  "
      ]
     },
     "execution_count": 123,
     "metadata": {},
     "output_type": "execute_result"
    }
   ],
   "source": [
    "purdue_curriculum.head(1)"
   ]
  },
  {
   "cell_type": "code",
   "execution_count": 147,
   "metadata": {},
   "outputs": [],
   "source": [
    "purdue_curriculum['program'] = purdue_curriculum['program'].str.extract(\"(.*(?=,))\")"
   ]
  },
  {
   "cell_type": "code",
   "execution_count": 151,
   "metadata": {},
   "outputs": [],
   "source": [
    "purdue_merged = purdue_curriculum.merge(purdue_cip.drop(columns=[\"institution\", \"degree_level\"]), on=\"program\", how=\"left\")"
   ]
  },
  {
   "cell_type": "code",
   "execution_count": 163,
   "metadata": {},
   "outputs": [],
   "source": [
    "purdue_merged.to_csv(\"cip/in_full.csv\", encoding='utf-8', index=False)"
   ]
  },
  {
   "cell_type": "code",
   "execution_count": 160,
   "metadata": {},
   "outputs": [
    {
     "data": {
      "text/html": [
       "<div>\n",
       "<style scoped>\n",
       "    .dataframe tbody tr th:only-of-type {\n",
       "        vertical-align: middle;\n",
       "    }\n",
       "\n",
       "    .dataframe tbody tr th {\n",
       "        vertical-align: top;\n",
       "    }\n",
       "\n",
       "    .dataframe thead th {\n",
       "        text-align: right;\n",
       "    }\n",
       "</style>\n",
       "<table border=\"1\" class=\"dataframe\">\n",
       "  <thead>\n",
       "    <tr style=\"text-align: right;\">\n",
       "      <th></th>\n",
       "      <th>institution</th>\n",
       "      <th>degree_level</th>\n",
       "      <th>program</th>\n",
       "      <th>courses</th>\n",
       "      <th>descriptions</th>\n",
       "      <th>cip</th>\n",
       "    </tr>\n",
       "  </thead>\n",
       "  <tbody>\n",
       "    <tr>\n",
       "      <th>0</th>\n",
       "      <td>purdue</td>\n",
       "      <td>undergraduate</td>\n",
       "      <td>African American Studies</td>\n",
       "      <td>Introduction To African American Studies The A...</td>\n",
       "      <td>Credit Hours: 3.00. Introduction to the philos...</td>\n",
       "      <td>5.0201</td>\n",
       "    </tr>\n",
       "    <tr>\n",
       "      <th>1</th>\n",
       "      <td>purdue</td>\n",
       "      <td>undergraduate</td>\n",
       "      <td>American Studies</td>\n",
       "      <td>Interpreting America Perspectives On America S...</td>\n",
       "      <td>Credit Hours: 3.00. Introduction to the interd...</td>\n",
       "      <td>5.0102</td>\n",
       "    </tr>\n",
       "    <tr>\n",
       "      <th>2</th>\n",
       "      <td>purdue</td>\n",
       "      <td>undergraduate</td>\n",
       "      <td>Anthropology Honors</td>\n",
       "      <td>Introduction To Archaeology And World Prehisto...</td>\n",
       "      <td>Credit Hours: 3.00. Introduction to the ideas ...</td>\n",
       "      <td>NaN</td>\n",
       "    </tr>\n",
       "    <tr>\n",
       "      <th>3</th>\n",
       "      <td>purdue</td>\n",
       "      <td>undergraduate</td>\n",
       "      <td>Anthropology</td>\n",
       "      <td>Introduction To Archaeology And World Prehisto...</td>\n",
       "      <td>Credit Hours: 3.00. Introduction to the ideas ...</td>\n",
       "      <td>45.0201</td>\n",
       "    </tr>\n",
       "    <tr>\n",
       "      <th>4</th>\n",
       "      <td>purdue</td>\n",
       "      <td>undergraduate</td>\n",
       "      <td>Art History</td>\n",
       "      <td>History Of Art To 1400 History Of Art Since 14...</td>\n",
       "      <td>Credit Hours: 3.00. Review of painting, sculpt...</td>\n",
       "      <td>50.0703</td>\n",
       "    </tr>\n",
       "  </tbody>\n",
       "</table>\n",
       "</div>"
      ],
      "text/plain": [
       "  institution   degree_level                   program  \\\n",
       "0      purdue  undergraduate  African American Studies   \n",
       "1      purdue  undergraduate          American Studies   \n",
       "2      purdue  undergraduate       Anthropology Honors   \n",
       "3      purdue  undergraduate              Anthropology   \n",
       "4      purdue  undergraduate               Art History   \n",
       "\n",
       "                                             courses  \\\n",
       "0  Introduction To African American Studies The A...   \n",
       "1  Interpreting America Perspectives On America S...   \n",
       "2  Introduction To Archaeology And World Prehisto...   \n",
       "3  Introduction To Archaeology And World Prehisto...   \n",
       "4  History Of Art To 1400 History Of Art Since 14...   \n",
       "\n",
       "                                        descriptions      cip  \n",
       "0  Credit Hours: 3.00. Introduction to the philos...   5.0201  \n",
       "1  Credit Hours: 3.00. Introduction to the interd...   5.0102  \n",
       "2  Credit Hours: 3.00. Introduction to the ideas ...      NaN  \n",
       "3  Credit Hours: 3.00. Introduction to the ideas ...  45.0201  \n",
       "4  Credit Hours: 3.00. Review of painting, sculpt...  50.0703  "
      ]
     },
     "execution_count": 160,
     "metadata": {},
     "output_type": "execute_result"
    }
   ],
   "source": [
    "purdue_merged.head()"
   ]
  }
 ],
 "metadata": {
  "kernelspec": {
   "display_name": "si699",
   "language": "python",
   "name": "python3"
  },
  "language_info": {
   "codemirror_mode": {
    "name": "ipython",
    "version": 3
   },
   "file_extension": ".py",
   "mimetype": "text/x-python",
   "name": "python",
   "nbconvert_exporter": "python",
   "pygments_lexer": "ipython3",
   "version": "3.10.9"
  },
  "orig_nbformat": 4,
  "vscode": {
   "interpreter": {
    "hash": "acb36d2abaa46193941940eb8f0354957b50c9009078c3d74600bfb16f2af783"
   }
  }
 },
 "nbformat": 4,
 "nbformat_minor": 2
}

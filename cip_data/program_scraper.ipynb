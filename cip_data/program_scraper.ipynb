{
 "cells": [
  {
   "cell_type": "code",
   "execution_count": 189,
   "metadata": {},
   "outputs": [],
   "source": [
    "import requests\n",
    "import re\n",
    "import pandas as pd\n",
    "from tqdm import tqdm\n",
    "from bs4 import BeautifulSoup\n",
    "# from selenium import webdriver\n",
    "# from selenium.webdriver.common.keys import Keys\n",
    "# from selenium.webdriver.common.by import By"
   ]
  },
  {
   "cell_type": "code",
   "execution_count": 60,
   "metadata": {},
   "outputs": [],
   "source": [
    "# driver = webdriver.Chrome()"
   ]
  },
  {
   "attachments": {},
   "cell_type": "markdown",
   "metadata": {},
   "source": [
    "## UCI"
   ]
  },
  {
   "cell_type": "code",
   "execution_count": 81,
   "metadata": {},
   "outputs": [],
   "source": [
    "uci_base = \"https://catalogue.uci.edu\""
   ]
  },
  {
   "cell_type": "code",
   "execution_count": 82,
   "metadata": {},
   "outputs": [],
   "source": [
    "uci_all = requests.get(uci_base + '/undergraduatedegrees/').text\n",
    "uci_soup = BeautifulSoup(uci_all, 'html.parser')"
   ]
  },
  {
   "cell_type": "code",
   "execution_count": 112,
   "metadata": {},
   "outputs": [],
   "source": [
    "uci_programs = uci_soup.select_one('h2[class=\"tglhead\"]').find_next_siblings()[0].select('li')"
   ]
  },
  {
   "cell_type": "code",
   "execution_count": 120,
   "metadata": {},
   "outputs": [
    {
     "name": "stderr",
     "output_type": "stream",
     "text": [
      "100%|██████████| 166/166 [00:27<00:00,  6.08it/s]\n"
     ]
    }
   ],
   "source": [
    "uci_names = []\n",
    "uci_reqs = []\n",
    "for p in tqdm(uci_programs):\n",
    "    name = p.text.split(',')\n",
    "    if 'B' not in name[-1]:\n",
    "        pass\n",
    "    else:\n",
    "        uci_names.append(''.join(name[:-1]))\n",
    "        p_url = uci_base + p.a['href'] + \"#requirementstext\"\n",
    "        p_reqs = requests.get(p_url).text\n",
    "        p_soup = BeautifulSoup(p_reqs, 'html.parser')\n",
    "        p_reqs_ls = list(map(lambda x: x.text.strip(), p_soup.select('td[class=\"codecol\"] + td:not([class]):not([colspan])')))\n",
    "        uci_reqs.append(', '.join(p_reqs_ls))"
   ]
  },
  {
   "cell_type": "code",
   "execution_count": 124,
   "metadata": {},
   "outputs": [],
   "source": [
    "uci_df = pd.DataFrame({'program': uci_names, 'requirements': uci_reqs})"
   ]
  },
  {
   "cell_type": "code",
   "execution_count": 125,
   "metadata": {},
   "outputs": [
    {
     "data": {
      "text/html": [
       "<div>\n",
       "<style scoped>\n",
       "    .dataframe tbody tr th:only-of-type {\n",
       "        vertical-align: middle;\n",
       "    }\n",
       "\n",
       "    .dataframe tbody tr th {\n",
       "        vertical-align: top;\n",
       "    }\n",
       "\n",
       "    .dataframe thead th {\n",
       "        text-align: right;\n",
       "    }\n",
       "</style>\n",
       "<table border=\"1\" class=\"dataframe\">\n",
       "  <thead>\n",
       "    <tr style=\"text-align: right;\">\n",
       "      <th></th>\n",
       "      <th>program</th>\n",
       "      <th>requirements</th>\n",
       "    </tr>\n",
       "  </thead>\n",
       "  <tbody>\n",
       "    <tr>\n",
       "      <th>0</th>\n",
       "      <td>Aerospace Engineering</td>\n",
       "      <td>General Chemistry, Accelerated General Chemist...</td>\n",
       "    </tr>\n",
       "    <tr>\n",
       "      <th>1</th>\n",
       "      <td>African American Studies</td>\n",
       "      <td>African American Studies I, African American S...</td>\n",
       "    </tr>\n",
       "    <tr>\n",
       "      <th>2</th>\n",
       "      <td>Anthropology</td>\n",
       "      <td>Introduction to Sociocultural Anthropology, In...</td>\n",
       "    </tr>\n",
       "    <tr>\n",
       "      <th>3</th>\n",
       "      <td>Applied Physics</td>\n",
       "      <td>Single-Variable Calculus, Single-Variable Calc...</td>\n",
       "    </tr>\n",
       "    <tr>\n",
       "      <th>4</th>\n",
       "      <td>Art</td>\n",
       "      <td>Art in Context: History, Theory, and Practice,...</td>\n",
       "    </tr>\n",
       "  </tbody>\n",
       "</table>\n",
       "</div>"
      ],
      "text/plain": [
       "                    program                                       requirements\n",
       "0     Aerospace Engineering  General Chemistry, Accelerated General Chemist...\n",
       "1  African American Studies  African American Studies I, African American S...\n",
       "2              Anthropology  Introduction to Sociocultural Anthropology, In...\n",
       "3           Applied Physics  Single-Variable Calculus, Single-Variable Calc...\n",
       "4                       Art  Art in Context: History, Theory, and Practice,..."
      ]
     },
     "execution_count": 125,
     "metadata": {},
     "output_type": "execute_result"
    }
   ],
   "source": [
    "uci_df.head()"
   ]
  },
  {
   "attachments": {},
   "cell_type": "markdown",
   "metadata": {},
   "source": [
    "## Princeton"
   ]
  },
  {
   "cell_type": "code",
   "execution_count": 170,
   "metadata": {},
   "outputs": [],
   "source": [
    "pu_base = \"https://ua.princeton.edu\""
   ]
  },
  {
   "cell_type": "code",
   "execution_count": 171,
   "metadata": {},
   "outputs": [],
   "source": [
    "pu_ba = requests.get(pu_base + '/academic-units/departmental-concentrations-for-the-degree-of-bachelor-of-arts').text\n",
    "pu_ba_soup = BeautifulSoup(pu_ba, 'html.parser')\n",
    "pu_bse = requests.get(pu_base + '/academic-units/departmental-concentrations-for-the-degree-of-bachelor-of-science-in-engineering').text\n",
    "pu_bse_soup = BeautifulSoup(pu_bse, 'html.parser')"
   ]
  },
  {
   "cell_type": "code",
   "execution_count": 172,
   "metadata": {},
   "outputs": [],
   "source": [
    "pu_ba_programs = pu_ba_soup.select(\".field-content > a\")\n",
    "pu_bse_programs = pu_bse_soup.select(\".field-content > a\")"
   ]
  },
  {
   "cell_type": "code",
   "execution_count": 217,
   "metadata": {},
   "outputs": [
    {
     "name": "stderr",
     "output_type": "stream",
     "text": [
      "100%|██████████| 37/37 [00:09<00:00,  3.86it/s]\n"
     ]
    }
   ],
   "source": [
    "pu_names = []\n",
    "pu_courses = []\n",
    "pu_desc = []\n",
    "for p in tqdm(pu_ba_programs + pu_bse_programs):\n",
    "    name = p.text.strip()\n",
    "    pu_names.append(name)\n",
    "    p_url = pu_base + pu_ba_programs[0]['href']\n",
    "    p_content = requests.get(p_url).text\n",
    "    p_soup = BeautifulSoup(p_content, 'html.parser')\n",
    "    p_courses = ' '.join(list(map(lambda x: re.sub('\\n', '', ' '.join(x.text.strip().split(' ')[2:])), p_soup.select('h3[class=\"course-title\"]'))))\n",
    "    pu_courses.append(p_courses)\n",
    "    p_desc = ' '.join(list(map(lambda x: x.text.strip(), p_soup.select('.course-desc'))))\n",
    "    pu_desc.append(p_desc)"
   ]
  },
  {
   "cell_type": "code",
   "execution_count": 220,
   "metadata": {},
   "outputs": [],
   "source": [
    "pu_df = pd.DataFrame({'institution': 'Princeton', 'program': pu_names, 'courses': pu_courses, 'descriptions': pu_desc})"
   ]
  },
  {
   "cell_type": "code",
   "execution_count": 221,
   "metadata": {},
   "outputs": [
    {
     "data": {
      "text/html": [
       "<div>\n",
       "<style scoped>\n",
       "    .dataframe tbody tr th:only-of-type {\n",
       "        vertical-align: middle;\n",
       "    }\n",
       "\n",
       "    .dataframe tbody tr th {\n",
       "        vertical-align: top;\n",
       "    }\n",
       "\n",
       "    .dataframe thead th {\n",
       "        text-align: right;\n",
       "    }\n",
       "</style>\n",
       "<table border=\"1\" class=\"dataframe\">\n",
       "  <thead>\n",
       "    <tr style=\"text-align: right;\">\n",
       "      <th></th>\n",
       "      <th>institution</th>\n",
       "      <th>program</th>\n",
       "      <th>courses</th>\n",
       "      <th>descriptions</th>\n",
       "    </tr>\n",
       "  </thead>\n",
       "  <tbody>\n",
       "    <tr>\n",
       "      <th>0</th>\n",
       "      <td>Princeton</td>\n",
       "      <td>African American Studies</td>\n",
       "      <td>African American Studies and the Philosophy of...</td>\n",
       "      <td>This course introduces students to the field o...</td>\n",
       "    </tr>\n",
       "    <tr>\n",
       "      <th>1</th>\n",
       "      <td>Princeton</td>\n",
       "      <td>Anthropology</td>\n",
       "      <td>African American Studies and the Philosophy of...</td>\n",
       "      <td>This course introduces students to the field o...</td>\n",
       "    </tr>\n",
       "    <tr>\n",
       "      <th>2</th>\n",
       "      <td>Princeton</td>\n",
       "      <td>Architecture</td>\n",
       "      <td>African American Studies and the Philosophy of...</td>\n",
       "      <td>This course introduces students to the field o...</td>\n",
       "    </tr>\n",
       "    <tr>\n",
       "      <th>3</th>\n",
       "      <td>Princeton</td>\n",
       "      <td>Art and Archaeology</td>\n",
       "      <td>African American Studies and the Philosophy of...</td>\n",
       "      <td>This course introduces students to the field o...</td>\n",
       "    </tr>\n",
       "    <tr>\n",
       "      <th>4</th>\n",
       "      <td>Princeton</td>\n",
       "      <td>Astrophysical Sciences</td>\n",
       "      <td>African American Studies and the Philosophy of...</td>\n",
       "      <td>This course introduces students to the field o...</td>\n",
       "    </tr>\n",
       "  </tbody>\n",
       "</table>\n",
       "</div>"
      ],
      "text/plain": [
       "  institution                   program  \\\n",
       "0   Princeton  African American Studies   \n",
       "1   Princeton              Anthropology   \n",
       "2   Princeton              Architecture   \n",
       "3   Princeton       Art and Archaeology   \n",
       "4   Princeton    Astrophysical Sciences   \n",
       "\n",
       "                                             courses  \\\n",
       "0  African American Studies and the Philosophy of...   \n",
       "1  African American Studies and the Philosophy of...   \n",
       "2  African American Studies and the Philosophy of...   \n",
       "3  African American Studies and the Philosophy of...   \n",
       "4  African American Studies and the Philosophy of...   \n",
       "\n",
       "                                        descriptions  \n",
       "0  This course introduces students to the field o...  \n",
       "1  This course introduces students to the field o...  \n",
       "2  This course introduces students to the field o...  \n",
       "3  This course introduces students to the field o...  \n",
       "4  This course introduces students to the field o...  "
      ]
     },
     "execution_count": 221,
     "metadata": {},
     "output_type": "execute_result"
    }
   ],
   "source": [
    "pu_df.head()"
   ]
  },
  {
   "cell_type": "code",
   "execution_count": null,
   "metadata": {},
   "outputs": [],
   "source": [
    "pu_df.to_csv('princeton_programs.csv', index=False)"
   ]
  },
  {
   "cell_type": "code",
   "execution_count": null,
   "metadata": {},
   "outputs": [],
   "source": []
  }
 ],
 "metadata": {
  "kernelspec": {
   "display_name": "si699",
   "language": "python",
   "name": "python3"
  },
  "language_info": {
   "codemirror_mode": {
    "name": "ipython",
    "version": 3
   },
   "file_extension": ".py",
   "mimetype": "text/x-python",
   "name": "python",
   "nbconvert_exporter": "python",
   "pygments_lexer": "ipython3",
   "version": "3.10.9"
  },
  "orig_nbformat": 4,
  "vscode": {
   "interpreter": {
    "hash": "acb36d2abaa46193941940eb8f0354957b50c9009078c3d74600bfb16f2af783"
   }
  }
 },
 "nbformat": 4,
 "nbformat_minor": 2
}

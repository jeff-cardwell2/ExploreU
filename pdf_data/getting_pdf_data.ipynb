{
 "cells": [
  {
   "cell_type": "code",
   "execution_count": 2,
   "metadata": {},
   "outputs": [
    {
     "name": "stderr",
     "output_type": "stream",
     "text": [
      "java version \"19.0.1\" 2022-10-18\n",
      "Java(TM) SE Runtime Environment (build 19.0.1+10-21)\n",
      "Java HotSpot(TM) 64-Bit Server VM (build 19.0.1+10-21, mixed mode, sharing)\n"
     ]
    }
   ],
   "source": [
    "!java -version"
   ]
  },
  {
   "attachments": {},
   "cell_type": "markdown",
   "metadata": {},
   "source": [
    "# Get PDF Data"
   ]
  },
  {
   "cell_type": "code",
   "execution_count": 3,
   "metadata": {},
   "outputs": [],
   "source": [
    "import pandas as pd\n",
    "import numpy as np\n",
    "import tabula\n",
    "from tabulate import tabulate\n",
    "import re\n"
   ]
  },
  {
   "attachments": {},
   "cell_type": "markdown",
   "metadata": {},
   "source": [
    "### Declare Column Names and Read in Data"
   ]
  },
  {
   "cell_type": "code",
   "execution_count": 4,
   "metadata": {},
   "outputs": [],
   "source": [
    "bach_cols_2021 = [\n",
    "    'cip_code',\n",
    "    'total_graduates',\n",
    "    'knowledge_rate',\n",
    "    'career_outcomes_perc',\n",
    "    'total_perc_employed_overall',\n",
    "    'total_perc_employed_full_time',\n",
    "    'total_perc_employed_part_time',\n",
    "    'perc_standard_employment_overall',\n",
    "    'perc_standard_full_time',\n",
    "    'perc_standard_part_time',\n",
    "    'perc_entrepreneur_overall',\n",
    "    'perc_entrepreneur_full_time',\n",
    "    'perc_entrepreneur_part_time',\n",
    "    'perc_temp_contract_overall',\n",
    "    'perc_temp_contract_full_time',\n",
    "    'perc_temp_contract_part_time',\n",
    "    'perc_freelance_overall',\n",
    "    'perc_freelance_full_time',\n",
    "    'perc_freelance_part_time',\n",
    "    'perc_fellowship_intern_overall',\n",
    "    'perc_fellowship_intern_full_time',\n",
    "    'perc_fellowship_intern_part_time',\n",
    "    'perc_service',\n",
    "    'perc_military',\n",
    "    'perc_continuing_ed',\n",
    "    'perc_still_seeking_overall',\n",
    "    'perc_seeking_employment',\n",
    "    'perc_seeking_continuing_ed',\n",
    "    'perc_not_seeking',\n",
    "    'mean_starting_salary'\n",
    "    ]\n",
    "\n",
    "mast_cols_2021 = [\n",
    "    'cip_code',\n",
    "    'total_graduates',\n",
    "    'knowledge_rate',\n",
    "    'career_outcomes_perc',\n",
    "    'total_perc_employed_overall',\n",
    "    'total_perc_employed_full_time',\n",
    "    'total_perc_employed_part_time',\n",
    "    'perc_standard_employment_overall',\n",
    "    'perc_standard_full_time',\n",
    "    'perc_standard_part_time',\n",
    "    'perc_faculty_overall',\n",
    "    'perc_faculty_tenure',\n",
    "    'perc_faculty_non_tenure',\n",
    "    'perc_entrepreneur_overall',\n",
    "    'perc_entrepreneur_full_time',\n",
    "    'perc_entrepreneur_part_time',\n",
    "    'perc_temp_contract_overall',\n",
    "    'perc_temp_contract_full_time',\n",
    "    'perc_temp_contract_part_time',\n",
    "    'perc_freelance_overall',\n",
    "    'perc_freelance_full_time',\n",
    "    'perc_freelance_part_time',\n",
    "    'perc_fellowship_intern_overall',\n",
    "    'perc_fellowship_intern_full_time',\n",
    "    'perc_fellowship_intern_part_time',\n",
    "    'perc_service',\n",
    "    'perc_military',\n",
    "    'perc_continuing_ed',\n",
    "    'perc_still_seeking_overall',\n",
    "    'perc_seeking_employment',\n",
    "    'perc_seeking_continuing_ed',\n",
    "    'perc_not_seeking',\n",
    "    'mean_starting_salary'\n",
    "    ]"
   ]
  },
  {
   "cell_type": "code",
   "execution_count": 5,
   "metadata": {},
   "outputs": [],
   "source": [
    "bach_cols_2018 = list(np.append(bach_cols_2021[:-5], bach_cols_2021[-4:]))\n",
    "bach_cols_2017 = bach_cols_2018\n",
    "bach_cols_2016 = bach_cols_2018\n",
    "\n",
    "mast_cols_2016 = list(np.append(mast_cols_2021[:10], mast_cols_2021[13:]))\n",
    "mast_cols_2016 = list(np.append(mast_cols_2016[:-5], mast_cols_2016[-4:]))"
   ]
  },
  {
   "cell_type": "code",
   "execution_count": 6,
   "metadata": {},
   "outputs": [],
   "source": [
    "bach_2021 = tabula.read_pdf('pdf_data\\\\2021.pdf', pages='16-73')\n",
    "mast_2021 = tabula.read_pdf('pdf_data\\\\2021.pdf', pages='78-125')\n",
    "bach_2020 = tabula.read_pdf('pdf_data\\\\2020.pdf', pages='17-67', encoding='cp1252')\n",
    "mast_2020 = tabula.read_pdf('pdf_data\\\\2020.pdf', pages='72-117', encoding='cp1252')\n",
    "bach_2018 = tabula.read_pdf('pdf_data\\\\2018.pdf', pages='24-71')\n",
    "mast_2018 = tabula.read_pdf('pdf_data\\\\2018.pdf', pages='73-116')\n",
    "bach_2017 = tabula.read_pdf('pdf_data\\\\2017.pdf', pages='25-70')\n",
    "mast_2017 = tabula.read_pdf('pdf_data\\\\2017.pdf', pages='72-114')\n",
    "bach_2016 = tabula.read_pdf('pdf_data\\\\2016.pdf', pages='25-70')\n",
    "mast_2016 = tabula.read_pdf('pdf_data\\\\2016.pdf', pages='72-115')"
   ]
  },
  {
   "cell_type": "code",
   "execution_count": 7,
   "metadata": {},
   "outputs": [],
   "source": [
    "bach_dict = {'2016':(bach_2016, bach_cols_2016), '2017':(bach_2017, bach_cols_2017), '2018':(bach_2018, bach_cols_2018), '2020':(bach_2020, bach_cols_2018), '2021':(bach_2021, bach_cols_2021)}\n",
    "mast_dict = {'2016':(mast_2016, mast_cols_2016), '2017':(mast_2017, mast_cols_2021), '2018':(mast_2018, mast_cols_2021), '2020':(mast_2020, mast_cols_2021), '2021':(mast_2021, mast_cols_2021)}"
   ]
  },
  {
   "attachments": {},
   "cell_type": "markdown",
   "metadata": {},
   "source": [
    "### Create Functions for Cleaning and Combining"
   ]
  },
  {
   "cell_type": "code",
   "execution_count": 24,
   "metadata": {},
   "outputs": [],
   "source": [
    "def clean_and_combine(df_list, year, cols):\n",
    "    #create empty df to combine into\n",
    "    total_df = pd.DataFrame()\n",
    "\n",
    "    #initial cleaning, get rid of unwanted empty columns\n",
    "    new_df_list = []\n",
    "    for i in df_list:\n",
    "        df = i\n",
    "        for x in range(1,10):\n",
    "            if f'Unnamed: {x}' in df.columns:\n",
    "                df = df.drop(columns=f'Unnamed: {x}')\n",
    "        if (len(df) > 1) and (len(df.columns) > 3):\n",
    "            new_df_list.append(df[(df[df.columns[-2]].notna())&(df[df.columns[-3]].notna())])\n",
    "        elif (len(df) > 1) and (len(df.columns) == 3):\n",
    "            new_df_list.append(df[df[df.columns[-2]].notna()])\n",
    "        elif (len(df) > 1) and (len(df.columns) == 2):\n",
    "            new_df_list.append(df[df[df.columns[-1]].notna()])\n",
    "\n",
    "    #shift misplaced rows\n",
    "    middle_df_list = []\n",
    "    for i in new_df_list:\n",
    "        df = i.reset_index(drop=True)\n",
    "        for ind,r in df.iterrows():\n",
    "            if type(df.at[ind, df.columns[-1]]) == float:\n",
    "                row_vals = ['NA']\n",
    "                row_vals.extend(list(df.iloc[ind][:-1]))\n",
    "                df.iloc[ind] = row_vals\n",
    "        if len(df) > 3:\n",
    "            middle_df_list.append(df)\n",
    "\n",
    "    #split unnecessarily combined columns\n",
    "    final_df_list = []\n",
    "    for i in middle_df_list:\n",
    "        df = i\n",
    "        if type(df.at[0, df.columns[-1]]) == float:\n",
    "            row_vals = ['NA']\n",
    "            row_vals.extend(list(df.iloc[0][:-1]))\n",
    "            df.iloc[0] = row_vals\n",
    "        try:\n",
    "            for x in df.columns:\n",
    "                if ('Unnamed' not in x) and (' ' in x):\n",
    "                    col_to_sep = x\n",
    "                    col_sep = x.split(' ')\n",
    "                    df[col_sep] = df[col_to_sep].str.split(' ',n=1,expand=True)\n",
    "                    df = df.drop(columns=col_to_sep)\n",
    "        except:\n",
    "            continue\n",
    "        final_df_list.append(df)\n",
    "\n",
    "    #create copy of each df\n",
    "    #shift columns if needed, transpose, and combine total_df\n",
    "    for i in final_df_list:\n",
    "        try:\n",
    "            if len(i) >0:\n",
    "                copy = i.copy()\n",
    "                if copy.columns[0] != 'Unnamed: 0':\n",
    "                    columns = copy.columns[:-1].insert(0, 'Unnamed: 0')\n",
    "                    copy = copy.set_axis(columns,axis=1)\n",
    "                copy = copy.iloc[-(len(cols)-1):].drop(columns='Unnamed: 0').T.reset_index()\n",
    "                copy = copy.set_axis(cols, axis=1)\n",
    "                total_df = pd.concat([total_df, copy], ignore_index=True)\n",
    "        except:\n",
    "            continue\n",
    "    total_df['year'] = year\n",
    "\n",
    "    #drop rows with null values\n",
    "    total_df = total_df.dropna()\n",
    "\n",
    "    #clean data and change dtypes to numeric\n",
    "    total_df = total_df.loc[total_df['mean_starting_salary'] !='NA']\n",
    "    total_grads = []\n",
    "    for i in total_df['total_graduates'].values:\n",
    "        try:\n",
    "            total_grads.append(int(re.sub('[^1-9]', '', i)))\n",
    "        except:\n",
    "            total_grads.append(0)\n",
    "    total_df['total_graduates'] = total_grads\n",
    "    mean_sals = []\n",
    "    for i in total_df['mean_starting_salary'].values:\n",
    "        try:\n",
    "            mean_sals.append(int(re.sub('[^1-9]', '', i)))\n",
    "        except:\n",
    "            mean_sals.append(re.sub('[^1-9]', '', i))\n",
    "    total_df['mean_starting_salary'] = mean_sals\n",
    "    cips = []\n",
    "    for i in total_df['cip_code'].values:\n",
    "        cips.append(re.sub('\\.', '', i))\n",
    "    total_df['cip_code'] = cips\n",
    "    for i in total_df.columns[2:-2]:\n",
    "        col_vals = []\n",
    "        for x in total_df[i].values:\n",
    "            try:\n",
    "                col_vals.append(float(re.sub('[^1-9.]','',x)))\n",
    "            except:\n",
    "                col_vals.append(float(0))\n",
    "        total_df[i] = col_vals\n",
    "\n",
    "    #return cleaned and combined df\n",
    "    return total_df"
   ]
  },
  {
   "cell_type": "code",
   "execution_count": 48,
   "metadata": {},
   "outputs": [],
   "source": [
    "def get_all_data(df_dict, grad_threshold, kr_threshold):\n",
    "    #create empty dataframe to combine into\n",
    "    combined = pd.DataFrame()\n",
    "\n",
    "    #add all desired years\n",
    "    for i in df_dict.keys():\n",
    "        year_df = clean_and_combine(df_dict[i][0], int(i), df_dict[i][1])\n",
    "        combined = pd.concat([combined, year_df], ignore_index=True)\n",
    "\n",
    "    #only keep data that meets desired graduate and knowledge rate criteria\n",
    "    combined = combined.loc[(combined['total_graduates'] >= grad_threshold) & (combined['knowledge_rate'] >= kr_threshold) & (combined['cip_code'].str.len()>2)].reset_index(drop=True)\n",
    "    return combined"
   ]
  },
  {
   "attachments": {},
   "cell_type": "markdown",
   "metadata": {},
   "source": [
    "### Call Functions with Desired Thresholds"
   ]
  },
  {
   "cell_type": "code",
   "execution_count": 49,
   "metadata": {},
   "outputs": [],
   "source": [
    "all_bach = get_all_data(bach_dict, 500, 60)\n",
    "all_mast = get_all_data(mast_dict, 300, 60)"
   ]
  },
  {
   "attachments": {},
   "cell_type": "markdown",
   "metadata": {},
   "source": [
    "# Generate Lists for Curricula Scraping"
   ]
  },
  {
   "attachments": {},
   "cell_type": "markdown",
   "metadata": {},
   "source": [
    "### Read in Field-of-Study Data"
   ]
  },
  {
   "cell_type": "code",
   "execution_count": 52,
   "metadata": {},
   "outputs": [],
   "source": [
    "bach_codes = all_bach.cip_code.unique().astype(int)\n",
    "mast_codes = all_mast.cip_code.unique().astype(int)\n",
    "df = pd.read_csv('Most-Recent-Cohorts-Field-of-Study.csv')"
   ]
  },
  {
   "attachments": {},
   "cell_type": "markdown",
   "metadata": {},
   "source": [
    "### Define List Generation Function"
   ]
  },
  {
   "cell_type": "code",
   "execution_count": 57,
   "metadata": {},
   "outputs": [],
   "source": [
    "def gen_list(codes, level):\n",
    "    df_lim = df.loc[(df['CIPCODE'].isin(codes))&(df['CREDLEV']==level)&(df['CONTROL'].isin(['Public', 'Private, nonprofit']))&(df['UNITID'].notna())]\n",
    "\n",
    "    list_df = pd.DataFrame()\n",
    "\n",
    "    for i in codes:\n",
    "        sort_df = df_lim.loc[df_lim['CIPCODE']==i, ['CIPCODE', 'CIPDESC', 'INSTNM']].sample(10)\n",
    "        list_df = pd.concat([list_df, sort_df], ignore_index=True)\n",
    "    \n",
    "    return list_df\n"
   ]
  },
  {
   "attachments": {},
   "cell_type": "markdown",
   "metadata": {},
   "source": [
    "### Call Function and Read Out to CSV"
   ]
  },
  {
   "cell_type": "code",
   "execution_count": 58,
   "metadata": {},
   "outputs": [],
   "source": [
    "bach = gen_list(bach_codes, 3)\n",
    "mast = gen_list(mast_codes, 5)"
   ]
  },
  {
   "cell_type": "code",
   "execution_count": 59,
   "metadata": {},
   "outputs": [],
   "source": [
    "bach.to_csv('bach_programs.csv')\n",
    "mast.to_csv('mast_programs.csv')"
   ]
  },
  {
   "cell_type": "code",
   "execution_count": null,
   "metadata": {},
   "outputs": [],
   "source": []
  }
 ],
 "metadata": {
  "kernelspec": {
   "display_name": "Python 3",
   "language": "python",
   "name": "python3"
  },
  "language_info": {
   "codemirror_mode": {
    "name": "ipython",
    "version": 3
   },
   "file_extension": ".py",
   "mimetype": "text/x-python",
   "name": "python",
   "nbconvert_exporter": "python",
   "pygments_lexer": "ipython3",
   "version": "3.10.8"
  },
  "orig_nbformat": 4,
  "vscode": {
   "interpreter": {
    "hash": "e34779371f9117567d4cca27fa5ca13679ca24c78fc7a6da4824854cfa645daa"
   }
  }
 },
 "nbformat": 4,
 "nbformat_minor": 2
}

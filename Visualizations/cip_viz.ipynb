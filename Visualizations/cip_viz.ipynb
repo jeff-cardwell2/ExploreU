{
 "cells": [
  {
   "cell_type": "code",
   "execution_count": 1,
   "id": "b2998404",
   "metadata": {},
   "outputs": [],
   "source": [
    "import pandas as pd\n",
    "import random\n",
    "import requests\n",
    "import math\n",
    "import chart_studio.plotly as py\n",
    "import plotly.graph_objects as go\n",
    "import plotly.express as px"
   ]
  },
  {
   "cell_type": "code",
   "execution_count": 2,
   "id": "2c1c2ea9",
   "metadata": {},
   "outputs": [
    {
     "data": {
      "text/html": [
       "<div>\n",
       "<style scoped>\n",
       "    .dataframe tbody tr th:only-of-type {\n",
       "        vertical-align: middle;\n",
       "    }\n",
       "\n",
       "    .dataframe tbody tr th {\n",
       "        vertical-align: top;\n",
       "    }\n",
       "\n",
       "    .dataframe thead th {\n",
       "        text-align: right;\n",
       "    }\n",
       "</style>\n",
       "<table border=\"1\" class=\"dataframe\">\n",
       "  <thead>\n",
       "    <tr style=\"text-align: right;\">\n",
       "      <th></th>\n",
       "      <th>cip_code</th>\n",
       "      <th>total_graduates</th>\n",
       "      <th>knowledge_rate</th>\n",
       "      <th>career_outcomes_perc</th>\n",
       "      <th>total_perc_employed_overall</th>\n",
       "      <th>total_perc_employed_full_time</th>\n",
       "      <th>total_perc_employed_part_time</th>\n",
       "      <th>perc_standard_employment_overall</th>\n",
       "      <th>perc_standard_full_time</th>\n",
       "      <th>perc_standard_part_time</th>\n",
       "      <th>...</th>\n",
       "      <th>perc_military</th>\n",
       "      <th>perc_continuing_ed</th>\n",
       "      <th>perc_seeking_employment</th>\n",
       "      <th>perc_seeking_continuing_ed</th>\n",
       "      <th>perc_not_seeking</th>\n",
       "      <th>mean_starting_salary</th>\n",
       "      <th>year</th>\n",
       "      <th>perc_still_seeking_overall</th>\n",
       "      <th>CIPCode</th>\n",
       "      <th>CIPTitle</th>\n",
       "    </tr>\n",
       "  </thead>\n",
       "  <tbody>\n",
       "    <tr>\n",
       "      <th>0</th>\n",
       "      <td>01.01</td>\n",
       "      <td>1618</td>\n",
       "      <td>74.8</td>\n",
       "      <td>86.9</td>\n",
       "      <td>75.9</td>\n",
       "      <td>72.9</td>\n",
       "      <td>3.0</td>\n",
       "      <td>68.8</td>\n",
       "      <td>66.8</td>\n",
       "      <td>2.1</td>\n",
       "      <td>...</td>\n",
       "      <td>0.2</td>\n",
       "      <td>9.9</td>\n",
       "      <td>11.1</td>\n",
       "      <td>1.9</td>\n",
       "      <td>0.9</td>\n",
       "      <td>45862</td>\n",
       "      <td>2016</td>\n",
       "      <td>NaN</td>\n",
       "      <td>01.01</td>\n",
       "      <td>Agricultural Business and Management.</td>\n",
       "    </tr>\n",
       "    <tr>\n",
       "      <th>1</th>\n",
       "      <td>01.03</td>\n",
       "      <td>92</td>\n",
       "      <td>64.1</td>\n",
       "      <td>84.7</td>\n",
       "      <td>72.9</td>\n",
       "      <td>67.8</td>\n",
       "      <td>5.1</td>\n",
       "      <td>66.1</td>\n",
       "      <td>61.0</td>\n",
       "      <td>5.1</td>\n",
       "      <td>...</td>\n",
       "      <td>0.0</td>\n",
       "      <td>11.9</td>\n",
       "      <td>15.3</td>\n",
       "      <td>0.0</td>\n",
       "      <td>0.0</td>\n",
       "      <td>36987</td>\n",
       "      <td>2016</td>\n",
       "      <td>NaN</td>\n",
       "      <td>01.03</td>\n",
       "      <td>Agricultural Production Operations.</td>\n",
       "    </tr>\n",
       "    <tr>\n",
       "      <th>2</th>\n",
       "      <td>01.06</td>\n",
       "      <td>179</td>\n",
       "      <td>73.2</td>\n",
       "      <td>9.7</td>\n",
       "      <td>77.9</td>\n",
       "      <td>75.6</td>\n",
       "      <td>2.3</td>\n",
       "      <td>66.4</td>\n",
       "      <td>64.9</td>\n",
       "      <td>1.5</td>\n",
       "      <td>...</td>\n",
       "      <td>0.0</td>\n",
       "      <td>11.5</td>\n",
       "      <td>5.3</td>\n",
       "      <td>3.8</td>\n",
       "      <td>1.5</td>\n",
       "      <td>36417</td>\n",
       "      <td>2016</td>\n",
       "      <td>NaN</td>\n",
       "      <td>01.06</td>\n",
       "      <td>Applied Horticulture and Horticultural Busines...</td>\n",
       "    </tr>\n",
       "    <tr>\n",
       "      <th>3</th>\n",
       "      <td>01.08</td>\n",
       "      <td>228</td>\n",
       "      <td>82.0</td>\n",
       "      <td>83.9</td>\n",
       "      <td>64.2</td>\n",
       "      <td>59.9</td>\n",
       "      <td>4.3</td>\n",
       "      <td>58.8</td>\n",
       "      <td>55.6</td>\n",
       "      <td>3.2</td>\n",
       "      <td>...</td>\n",
       "      <td>0.0</td>\n",
       "      <td>18.7</td>\n",
       "      <td>14.4</td>\n",
       "      <td>1.6</td>\n",
       "      <td>0.5</td>\n",
       "      <td>36268</td>\n",
       "      <td>2016</td>\n",
       "      <td>NaN</td>\n",
       "      <td>01.08</td>\n",
       "      <td>Agricultural Public Services.</td>\n",
       "    </tr>\n",
       "    <tr>\n",
       "      <th>4</th>\n",
       "      <td>01.09</td>\n",
       "      <td>1758</td>\n",
       "      <td>67.6</td>\n",
       "      <td>85.2</td>\n",
       "      <td>54.9</td>\n",
       "      <td>5.8</td>\n",
       "      <td>4.0</td>\n",
       "      <td>47.8</td>\n",
       "      <td>44.8</td>\n",
       "      <td>3.0</td>\n",
       "      <td>...</td>\n",
       "      <td>0.1</td>\n",
       "      <td>29.2</td>\n",
       "      <td>1.0</td>\n",
       "      <td>4.6</td>\n",
       "      <td>1.2</td>\n",
       "      <td>3674</td>\n",
       "      <td>2016</td>\n",
       "      <td>NaN</td>\n",
       "      <td>01.09</td>\n",
       "      <td>Animal Sciences.</td>\n",
       "    </tr>\n",
       "  </tbody>\n",
       "</table>\n",
       "<p>5 rows × 33 columns</p>\n",
       "</div>"
      ],
      "text/plain": [
       "  cip_code  total_graduates  knowledge_rate  career_outcomes_perc  \\\n",
       "0    01.01             1618            74.8                  86.9   \n",
       "1    01.03               92            64.1                  84.7   \n",
       "2    01.06              179            73.2                   9.7   \n",
       "3    01.08              228            82.0                  83.9   \n",
       "4    01.09             1758            67.6                  85.2   \n",
       "\n",
       "   total_perc_employed_overall  total_perc_employed_full_time  \\\n",
       "0                         75.9                           72.9   \n",
       "1                         72.9                           67.8   \n",
       "2                         77.9                           75.6   \n",
       "3                         64.2                           59.9   \n",
       "4                         54.9                            5.8   \n",
       "\n",
       "   total_perc_employed_part_time  perc_standard_employment_overall  \\\n",
       "0                            3.0                              68.8   \n",
       "1                            5.1                              66.1   \n",
       "2                            2.3                              66.4   \n",
       "3                            4.3                              58.8   \n",
       "4                            4.0                              47.8   \n",
       "\n",
       "   perc_standard_full_time  perc_standard_part_time  ...  perc_military  \\\n",
       "0                     66.8                      2.1  ...            0.2   \n",
       "1                     61.0                      5.1  ...            0.0   \n",
       "2                     64.9                      1.5  ...            0.0   \n",
       "3                     55.6                      3.2  ...            0.0   \n",
       "4                     44.8                      3.0  ...            0.1   \n",
       "\n",
       "   perc_continuing_ed  perc_seeking_employment  perc_seeking_continuing_ed  \\\n",
       "0                 9.9                     11.1                         1.9   \n",
       "1                11.9                     15.3                         0.0   \n",
       "2                11.5                      5.3                         3.8   \n",
       "3                18.7                     14.4                         1.6   \n",
       "4                29.2                      1.0                         4.6   \n",
       "\n",
       "   perc_not_seeking  mean_starting_salary  year  perc_still_seeking_overall  \\\n",
       "0               0.9                 45862  2016                         NaN   \n",
       "1               0.0                 36987  2016                         NaN   \n",
       "2               1.5                 36417  2016                         NaN   \n",
       "3               0.5                 36268  2016                         NaN   \n",
       "4               1.2                  3674  2016                         NaN   \n",
       "\n",
       "   CIPCode                                           CIPTitle  \n",
       "0    01.01              Agricultural Business and Management.  \n",
       "1    01.03                Agricultural Production Operations.  \n",
       "2    01.06  Applied Horticulture and Horticultural Busines...  \n",
       "3    01.08                      Agricultural Public Services.  \n",
       "4    01.09                                   Animal Sciences.  \n",
       "\n",
       "[5 rows x 33 columns]"
      ]
     },
     "execution_count": 2,
     "metadata": {},
     "output_type": "execute_result"
    }
   ],
   "source": [
    "# Load Merged PDF Data\n",
    "\n",
    "bach_prog = pd.read_csv('pdf_merged.csv', index_col=0, dtype={'cip_code': str, 'CIPCode': str})\n",
    "bach_prog.head()"
   ]
  },
  {
   "cell_type": "code",
   "execution_count": 3,
   "id": "c94e583d",
   "metadata": {},
   "outputs": [
    {
     "data": {
      "text/html": [
       "<div>\n",
       "<style scoped>\n",
       "    .dataframe tbody tr th:only-of-type {\n",
       "        vertical-align: middle;\n",
       "    }\n",
       "\n",
       "    .dataframe tbody tr th {\n",
       "        vertical-align: top;\n",
       "    }\n",
       "\n",
       "    .dataframe thead th {\n",
       "        text-align: right;\n",
       "    }\n",
       "</style>\n",
       "<table border=\"1\" class=\"dataframe\">\n",
       "  <thead>\n",
       "    <tr style=\"text-align: right;\">\n",
       "      <th></th>\n",
       "      <th>cip_code</th>\n",
       "      <th>earnings.highest.1_yr.male_median_earnings</th>\n",
       "      <th>earnings.highest.1_yr.nonmale_median_earnings</th>\n",
       "      <th>earnings.highest.1_yr.overall_median_earnings</th>\n",
       "      <th>earnings.highest.3_yr.male_median_earnings</th>\n",
       "      <th>earnings.highest.3_yr.nonmale_median_earnings</th>\n",
       "      <th>earnings.highest.2_yr.overall_median_earnings</th>\n",
       "      <th>CIPCode</th>\n",
       "      <th>CIPTitle</th>\n",
       "    </tr>\n",
       "  </thead>\n",
       "  <tbody>\n",
       "    <tr>\n",
       "      <th>0</th>\n",
       "      <td>01.00</td>\n",
       "      <td>40786.133333</td>\n",
       "      <td>33450.777778</td>\n",
       "      <td>37245.885057</td>\n",
       "      <td>44577.884615</td>\n",
       "      <td>36479.083333</td>\n",
       "      <td>36284.225862</td>\n",
       "      <td>01.00</td>\n",
       "      <td>Agriculture, General.</td>\n",
       "    </tr>\n",
       "    <tr>\n",
       "      <th>1</th>\n",
       "      <td>01.01</td>\n",
       "      <td>45522.136765</td>\n",
       "      <td>41171.573333</td>\n",
       "      <td>42977.276389</td>\n",
       "      <td>52745.035714</td>\n",
       "      <td>48119.102273</td>\n",
       "      <td>42363.455492</td>\n",
       "      <td>01.01</td>\n",
       "      <td>Agricultural Business and Management.</td>\n",
       "    </tr>\n",
       "    <tr>\n",
       "      <th>2</th>\n",
       "      <td>01.02</td>\n",
       "      <td>47853.916667</td>\n",
       "      <td>NaN</td>\n",
       "      <td>46811.097222</td>\n",
       "      <td>54657.759259</td>\n",
       "      <td>NaN</td>\n",
       "      <td>46732.625000</td>\n",
       "      <td>01.02</td>\n",
       "      <td>Agricultural Mechanization.</td>\n",
       "    </tr>\n",
       "    <tr>\n",
       "      <th>3</th>\n",
       "      <td>01.03</td>\n",
       "      <td>37155.181818</td>\n",
       "      <td>24697.818182</td>\n",
       "      <td>31324.658730</td>\n",
       "      <td>43029.100000</td>\n",
       "      <td>30610.388889</td>\n",
       "      <td>32066.041667</td>\n",
       "      <td>01.03</td>\n",
       "      <td>Agricultural Production Operations.</td>\n",
       "    </tr>\n",
       "    <tr>\n",
       "      <th>4</th>\n",
       "      <td>01.04</td>\n",
       "      <td>68447.000000</td>\n",
       "      <td>64981.000000</td>\n",
       "      <td>54205.500000</td>\n",
       "      <td>78507.000000</td>\n",
       "      <td>NaN</td>\n",
       "      <td>48990.333333</td>\n",
       "      <td>01.04</td>\n",
       "      <td>Agricultural and Food Products Processing.</td>\n",
       "    </tr>\n",
       "  </tbody>\n",
       "</table>\n",
       "</div>"
      ],
      "text/plain": [
       "  cip_code  earnings.highest.1_yr.male_median_earnings  \\\n",
       "0    01.00                                40786.133333   \n",
       "1    01.01                                45522.136765   \n",
       "2    01.02                                47853.916667   \n",
       "3    01.03                                37155.181818   \n",
       "4    01.04                                68447.000000   \n",
       "\n",
       "   earnings.highest.1_yr.nonmale_median_earnings  \\\n",
       "0                                   33450.777778   \n",
       "1                                   41171.573333   \n",
       "2                                            NaN   \n",
       "3                                   24697.818182   \n",
       "4                                   64981.000000   \n",
       "\n",
       "   earnings.highest.1_yr.overall_median_earnings  \\\n",
       "0                                   37245.885057   \n",
       "1                                   42977.276389   \n",
       "2                                   46811.097222   \n",
       "3                                   31324.658730   \n",
       "4                                   54205.500000   \n",
       "\n",
       "   earnings.highest.3_yr.male_median_earnings  \\\n",
       "0                                44577.884615   \n",
       "1                                52745.035714   \n",
       "2                                54657.759259   \n",
       "3                                43029.100000   \n",
       "4                                78507.000000   \n",
       "\n",
       "   earnings.highest.3_yr.nonmale_median_earnings  \\\n",
       "0                                   36479.083333   \n",
       "1                                   48119.102273   \n",
       "2                                            NaN   \n",
       "3                                   30610.388889   \n",
       "4                                            NaN   \n",
       "\n",
       "   earnings.highest.2_yr.overall_median_earnings CIPCode  \\\n",
       "0                                   36284.225862   01.00   \n",
       "1                                   42363.455492   01.01   \n",
       "2                                   46732.625000   01.02   \n",
       "3                                   32066.041667   01.03   \n",
       "4                                   48990.333333   01.04   \n",
       "\n",
       "                                     CIPTitle  \n",
       "0                       Agriculture, General.  \n",
       "1       Agricultural Business and Management.  \n",
       "2                 Agricultural Mechanization.  \n",
       "3         Agricultural Production Operations.  \n",
       "4  Agricultural and Food Products Processing.  "
      ]
     },
     "execution_count": 3,
     "metadata": {},
     "output_type": "execute_result"
    }
   ],
   "source": [
    "# Load Merged Scorecard Data\n",
    "\n",
    "scorecard_data = pd.read_csv('scorecard_merged.csv', index_col=0, dtype={'cip_code': str, 'CIPCode': str})\n",
    "scorecard_data.head()"
   ]
  },
  {
   "cell_type": "code",
   "execution_count": 4,
   "id": "9c5cb9e4",
   "metadata": {},
   "outputs": [],
   "source": [
    "# Get Random CIP Codes\n",
    "def get_rand_cips(prog_data, cip_count=8):\n",
    "    \n",
    "    rand_cips = random.choices(prog_data['cip_code'].unique(), k=cip_count)\n",
    "    return rand_cips"
   ]
  },
  {
   "cell_type": "code",
   "execution_count": 9,
   "id": "9d6222b5",
   "metadata": {
    "scrolled": true
   },
   "outputs": [
    {
     "data": {
      "application/vnd.plotly.v1+json": {
       "config": {
        "plotlyServerURL": "https://plot.ly"
       },
       "data": [
        {
         "hovertemplate": "<b>%{hovertext}</b><br><br>Percent Employed: %{y:.0f}%<br><extra></extra>",
         "hovertext": [],
         "name": "(Selected) Percent Employed",
         "type": "bar",
         "x": [],
         "y": []
        },
        {
         "hovertemplate": "Percent Continuing Education: %{y:.0f}%<br><extra></extra>",
         "hovertext": [],
         "name": "(Selected) Percent Continuing Education",
         "type": "bar",
         "x": [],
         "y": []
        },
        {
         "hovertemplate": "<b>%{hovertext}</b><br><br>Percent Employed: %{y:.0f}%<br><extra></extra>",
         "hovertext": [
          "Agricultural Mechanization.",
          "Agricultural Public Services.",
          "Environmental Control Technologies/Technicians.",
          "Gerontology.",
          "International/Global Studies.",
          "Fire Protection.",
          "Dance.",
          "Veterinary Biomedical and Clinical Sciences."
         ],
         "name": "Percent Employed",
         "opacity": 1,
         "type": "bar",
         "x": [
          "01.02",
          "01.08",
          "15.05",
          "30.11",
          "30.20",
          "43.02",
          "50.03",
          "51.25"
         ],
         "y": [
          76.42500000000001,
          53.42,
          62.120000000000005,
          52,
          44.625,
          83.4,
          32.95,
          46.95
         ]
        },
        {
         "hovertemplate": "Percent Continuing Education: %{y:.0f}%<br><extra></extra>",
         "hovertext": [
          "Agricultural Mechanization.",
          "Agricultural Public Services.",
          "Environmental Control Technologies/Technicians.",
          "Gerontology.",
          "International/Global Studies.",
          "Fire Protection.",
          "Dance.",
          "Veterinary Biomedical and Clinical Sciences."
         ],
         "name": "Percent Continuing Education",
         "opacity": 1,
         "type": "bar",
         "x": [
          "01.02",
          "01.08",
          "15.05",
          "30.11",
          "30.20",
          "43.02",
          "50.03",
          "51.25"
         ],
         "y": [
          4.775,
          11.82,
          8.459999999999999,
          28,
          18.525,
          6.525,
          6.65,
          34.75
         ]
        }
       ],
       "layout": {
        "barmode": "stack",
        "hovermode": "x unified",
        "legend": {
         "borderwidth": 1,
         "traceorder": "normal",
         "x": 0.99,
         "xanchor": "right",
         "y": 1.02,
         "yanchor": "middle"
        },
        "template": {
         "data": {
          "bar": [
           {
            "error_x": {
             "color": "rgb(51,51,51)"
            },
            "error_y": {
             "color": "rgb(51,51,51)"
            },
            "marker": {
             "line": {
              "color": "rgb(237,237,237)",
              "width": 0.5
             },
             "pattern": {
              "fillmode": "overlay",
              "size": 10,
              "solidity": 0.2
             }
            },
            "type": "bar"
           }
          ],
          "barpolar": [
           {
            "marker": {
             "line": {
              "color": "rgb(237,237,237)",
              "width": 0.5
             },
             "pattern": {
              "fillmode": "overlay",
              "size": 10,
              "solidity": 0.2
             }
            },
            "type": "barpolar"
           }
          ],
          "carpet": [
           {
            "aaxis": {
             "endlinecolor": "rgb(51,51,51)",
             "gridcolor": "white",
             "linecolor": "white",
             "minorgridcolor": "white",
             "startlinecolor": "rgb(51,51,51)"
            },
            "baxis": {
             "endlinecolor": "rgb(51,51,51)",
             "gridcolor": "white",
             "linecolor": "white",
             "minorgridcolor": "white",
             "startlinecolor": "rgb(51,51,51)"
            },
            "type": "carpet"
           }
          ],
          "choropleth": [
           {
            "colorbar": {
             "outlinewidth": 0,
             "tickcolor": "rgb(237,237,237)",
             "ticklen": 6,
             "ticks": "inside"
            },
            "type": "choropleth"
           }
          ],
          "contour": [
           {
            "colorbar": {
             "outlinewidth": 0,
             "tickcolor": "rgb(237,237,237)",
             "ticklen": 6,
             "ticks": "inside"
            },
            "colorscale": [
             [
              0,
              "rgb(20,44,66)"
             ],
             [
              1,
              "rgb(90,179,244)"
             ]
            ],
            "type": "contour"
           }
          ],
          "contourcarpet": [
           {
            "colorbar": {
             "outlinewidth": 0,
             "tickcolor": "rgb(237,237,237)",
             "ticklen": 6,
             "ticks": "inside"
            },
            "type": "contourcarpet"
           }
          ],
          "heatmap": [
           {
            "colorbar": {
             "outlinewidth": 0,
             "tickcolor": "rgb(237,237,237)",
             "ticklen": 6,
             "ticks": "inside"
            },
            "colorscale": [
             [
              0,
              "rgb(20,44,66)"
             ],
             [
              1,
              "rgb(90,179,244)"
             ]
            ],
            "type": "heatmap"
           }
          ],
          "heatmapgl": [
           {
            "colorbar": {
             "outlinewidth": 0,
             "tickcolor": "rgb(237,237,237)",
             "ticklen": 6,
             "ticks": "inside"
            },
            "colorscale": [
             [
              0,
              "rgb(20,44,66)"
             ],
             [
              1,
              "rgb(90,179,244)"
             ]
            ],
            "type": "heatmapgl"
           }
          ],
          "histogram": [
           {
            "marker": {
             "pattern": {
              "fillmode": "overlay",
              "size": 10,
              "solidity": 0.2
             }
            },
            "type": "histogram"
           }
          ],
          "histogram2d": [
           {
            "colorbar": {
             "outlinewidth": 0,
             "tickcolor": "rgb(237,237,237)",
             "ticklen": 6,
             "ticks": "inside"
            },
            "colorscale": [
             [
              0,
              "rgb(20,44,66)"
             ],
             [
              1,
              "rgb(90,179,244)"
             ]
            ],
            "type": "histogram2d"
           }
          ],
          "histogram2dcontour": [
           {
            "colorbar": {
             "outlinewidth": 0,
             "tickcolor": "rgb(237,237,237)",
             "ticklen": 6,
             "ticks": "inside"
            },
            "colorscale": [
             [
              0,
              "rgb(20,44,66)"
             ],
             [
              1,
              "rgb(90,179,244)"
             ]
            ],
            "type": "histogram2dcontour"
           }
          ],
          "mesh3d": [
           {
            "colorbar": {
             "outlinewidth": 0,
             "tickcolor": "rgb(237,237,237)",
             "ticklen": 6,
             "ticks": "inside"
            },
            "type": "mesh3d"
           }
          ],
          "parcoords": [
           {
            "line": {
             "colorbar": {
              "outlinewidth": 0,
              "tickcolor": "rgb(237,237,237)",
              "ticklen": 6,
              "ticks": "inside"
             }
            },
            "type": "parcoords"
           }
          ],
          "pie": [
           {
            "automargin": true,
            "type": "pie"
           }
          ],
          "scatter": [
           {
            "fillpattern": {
             "fillmode": "overlay",
             "size": 10,
             "solidity": 0.2
            },
            "type": "scatter"
           }
          ],
          "scatter3d": [
           {
            "line": {
             "colorbar": {
              "outlinewidth": 0,
              "tickcolor": "rgb(237,237,237)",
              "ticklen": 6,
              "ticks": "inside"
             }
            },
            "marker": {
             "colorbar": {
              "outlinewidth": 0,
              "tickcolor": "rgb(237,237,237)",
              "ticklen": 6,
              "ticks": "inside"
             }
            },
            "type": "scatter3d"
           }
          ],
          "scattercarpet": [
           {
            "marker": {
             "colorbar": {
              "outlinewidth": 0,
              "tickcolor": "rgb(237,237,237)",
              "ticklen": 6,
              "ticks": "inside"
             }
            },
            "type": "scattercarpet"
           }
          ],
          "scattergeo": [
           {
            "marker": {
             "colorbar": {
              "outlinewidth": 0,
              "tickcolor": "rgb(237,237,237)",
              "ticklen": 6,
              "ticks": "inside"
             }
            },
            "type": "scattergeo"
           }
          ],
          "scattergl": [
           {
            "marker": {
             "colorbar": {
              "outlinewidth": 0,
              "tickcolor": "rgb(237,237,237)",
              "ticklen": 6,
              "ticks": "inside"
             }
            },
            "type": "scattergl"
           }
          ],
          "scattermapbox": [
           {
            "marker": {
             "colorbar": {
              "outlinewidth": 0,
              "tickcolor": "rgb(237,237,237)",
              "ticklen": 6,
              "ticks": "inside"
             }
            },
            "type": "scattermapbox"
           }
          ],
          "scatterpolar": [
           {
            "marker": {
             "colorbar": {
              "outlinewidth": 0,
              "tickcolor": "rgb(237,237,237)",
              "ticklen": 6,
              "ticks": "inside"
             }
            },
            "type": "scatterpolar"
           }
          ],
          "scatterpolargl": [
           {
            "marker": {
             "colorbar": {
              "outlinewidth": 0,
              "tickcolor": "rgb(237,237,237)",
              "ticklen": 6,
              "ticks": "inside"
             }
            },
            "type": "scatterpolargl"
           }
          ],
          "scatterternary": [
           {
            "marker": {
             "colorbar": {
              "outlinewidth": 0,
              "tickcolor": "rgb(237,237,237)",
              "ticklen": 6,
              "ticks": "inside"
             }
            },
            "type": "scatterternary"
           }
          ],
          "surface": [
           {
            "colorbar": {
             "outlinewidth": 0,
             "tickcolor": "rgb(237,237,237)",
             "ticklen": 6,
             "ticks": "inside"
            },
            "colorscale": [
             [
              0,
              "rgb(20,44,66)"
             ],
             [
              1,
              "rgb(90,179,244)"
             ]
            ],
            "type": "surface"
           }
          ],
          "table": [
           {
            "cells": {
             "fill": {
              "color": "rgb(237,237,237)"
             },
             "line": {
              "color": "white"
             }
            },
            "header": {
             "fill": {
              "color": "rgb(217,217,217)"
             },
             "line": {
              "color": "white"
             }
            },
            "type": "table"
           }
          ]
         },
         "layout": {
          "annotationdefaults": {
           "arrowhead": 0,
           "arrowwidth": 1
          },
          "autotypenumbers": "strict",
          "coloraxis": {
           "colorbar": {
            "outlinewidth": 0,
            "tickcolor": "rgb(237,237,237)",
            "ticklen": 6,
            "ticks": "inside"
           }
          },
          "colorscale": {
           "sequential": [
            [
             0,
             "rgb(20,44,66)"
            ],
            [
             1,
             "rgb(90,179,244)"
            ]
           ],
           "sequentialminus": [
            [
             0,
             "rgb(20,44,66)"
            ],
            [
             1,
             "rgb(90,179,244)"
            ]
           ]
          },
          "colorway": [
           "#F8766D",
           "#A3A500",
           "#00BF7D",
           "#00B0F6",
           "#E76BF3"
          ],
          "font": {
           "color": "rgb(51,51,51)"
          },
          "geo": {
           "bgcolor": "white",
           "lakecolor": "white",
           "landcolor": "rgb(237,237,237)",
           "showlakes": true,
           "showland": true,
           "subunitcolor": "white"
          },
          "hoverlabel": {
           "align": "left"
          },
          "hovermode": "closest",
          "paper_bgcolor": "white",
          "plot_bgcolor": "rgb(237,237,237)",
          "polar": {
           "angularaxis": {
            "gridcolor": "white",
            "linecolor": "white",
            "showgrid": true,
            "tickcolor": "rgb(51,51,51)",
            "ticks": "outside"
           },
           "bgcolor": "rgb(237,237,237)",
           "radialaxis": {
            "gridcolor": "white",
            "linecolor": "white",
            "showgrid": true,
            "tickcolor": "rgb(51,51,51)",
            "ticks": "outside"
           }
          },
          "scene": {
           "xaxis": {
            "backgroundcolor": "rgb(237,237,237)",
            "gridcolor": "white",
            "gridwidth": 2,
            "linecolor": "white",
            "showbackground": true,
            "showgrid": true,
            "tickcolor": "rgb(51,51,51)",
            "ticks": "outside",
            "zerolinecolor": "white"
           },
           "yaxis": {
            "backgroundcolor": "rgb(237,237,237)",
            "gridcolor": "white",
            "gridwidth": 2,
            "linecolor": "white",
            "showbackground": true,
            "showgrid": true,
            "tickcolor": "rgb(51,51,51)",
            "ticks": "outside",
            "zerolinecolor": "white"
           },
           "zaxis": {
            "backgroundcolor": "rgb(237,237,237)",
            "gridcolor": "white",
            "gridwidth": 2,
            "linecolor": "white",
            "showbackground": true,
            "showgrid": true,
            "tickcolor": "rgb(51,51,51)",
            "ticks": "outside",
            "zerolinecolor": "white"
           }
          },
          "shapedefaults": {
           "fillcolor": "black",
           "line": {
            "width": 0
           },
           "opacity": 0.3
          },
          "ternary": {
           "aaxis": {
            "gridcolor": "white",
            "linecolor": "white",
            "showgrid": true,
            "tickcolor": "rgb(51,51,51)",
            "ticks": "outside"
           },
           "baxis": {
            "gridcolor": "white",
            "linecolor": "white",
            "showgrid": true,
            "tickcolor": "rgb(51,51,51)",
            "ticks": "outside"
           },
           "bgcolor": "rgb(237,237,237)",
           "caxis": {
            "gridcolor": "white",
            "linecolor": "white",
            "showgrid": true,
            "tickcolor": "rgb(51,51,51)",
            "ticks": "outside"
           }
          },
          "xaxis": {
           "automargin": true,
           "gridcolor": "white",
           "linecolor": "white",
           "showgrid": true,
           "tickcolor": "rgb(51,51,51)",
           "ticks": "outside",
           "title": {
            "standoff": 15
           },
           "zerolinecolor": "white"
          },
          "yaxis": {
           "automargin": true,
           "gridcolor": "white",
           "linecolor": "white",
           "showgrid": true,
           "tickcolor": "rgb(51,51,51)",
           "ticks": "outside",
           "title": {
            "standoff": 15
           },
           "zerolinecolor": "white"
          }
         }
        },
        "title": {
         "text": "Average First-Year Outcomes by CIP Code"
        },
        "xaxis": {
         "title": {
          "text": "CIP Code"
         }
        },
        "yaxis": {
         "title": {
          "text": "Percentage"
         }
        }
       }
      },
      "text/html": [
       "<div>                            <div id=\"4279fe3d-dbe0-4bd7-a034-c062da9c823f\" class=\"plotly-graph-div\" style=\"height:525px; width:100%;\"></div>            <script type=\"text/javascript\">                require([\"plotly\"], function(Plotly) {                    window.PLOTLYENV=window.PLOTLYENV || {};                                    if (document.getElementById(\"4279fe3d-dbe0-4bd7-a034-c062da9c823f\")) {                    Plotly.newPlot(                        \"4279fe3d-dbe0-4bd7-a034-c062da9c823f\",                        [{\"hovertemplate\":\"<b>%{hovertext}</b><br><br>Percent Employed: %{y:.0f}%<br><extra></extra>\",\"hovertext\":[],\"name\":\"(Selected) Percent Employed\",\"x\":[],\"y\":[],\"type\":\"bar\"},{\"hovertemplate\":\"Percent Continuing Education: %{y:.0f}%<br><extra></extra>\",\"hovertext\":[],\"name\":\"(Selected) Percent Continuing Education\",\"x\":[],\"y\":[],\"type\":\"bar\"},{\"hovertemplate\":\"<b>%{hovertext}</b><br><br>Percent Employed: %{y:.0f}%<br><extra></extra>\",\"hovertext\":[\"Agricultural Mechanization.\",\"Agricultural Public Services.\",\"Environmental Control Technologies/Technicians.\",\"Gerontology.\",\"International/Global Studies.\",\"Fire Protection.\",\"Dance.\",\"Veterinary Biomedical and Clinical Sciences.\"],\"name\":\"Percent Employed\",\"opacity\":1.0,\"x\":[\"01.02\",\"01.08\",\"15.05\",\"30.11\",\"30.20\",\"43.02\",\"50.03\",\"51.25\"],\"y\":[76.42500000000001,53.42,62.120000000000005,52.0,44.625,83.4,32.95,46.95],\"type\":\"bar\"},{\"hovertemplate\":\"Percent Continuing Education: %{y:.0f}%<br><extra></extra>\",\"hovertext\":[\"Agricultural Mechanization.\",\"Agricultural Public Services.\",\"Environmental Control Technologies/Technicians.\",\"Gerontology.\",\"International/Global Studies.\",\"Fire Protection.\",\"Dance.\",\"Veterinary Biomedical and Clinical Sciences.\"],\"name\":\"Percent Continuing Education\",\"opacity\":1.0,\"x\":[\"01.02\",\"01.08\",\"15.05\",\"30.11\",\"30.20\",\"43.02\",\"50.03\",\"51.25\"],\"y\":[4.775,11.82,8.459999999999999,28.0,18.525,6.525,6.65,34.75],\"type\":\"bar\"}],                        {\"template\":{\"data\":{\"barpolar\":[{\"marker\":{\"line\":{\"color\":\"rgb(237,237,237)\",\"width\":0.5},\"pattern\":{\"fillmode\":\"overlay\",\"size\":10,\"solidity\":0.2}},\"type\":\"barpolar\"}],\"bar\":[{\"error_x\":{\"color\":\"rgb(51,51,51)\"},\"error_y\":{\"color\":\"rgb(51,51,51)\"},\"marker\":{\"line\":{\"color\":\"rgb(237,237,237)\",\"width\":0.5},\"pattern\":{\"fillmode\":\"overlay\",\"size\":10,\"solidity\":0.2}},\"type\":\"bar\"}],\"carpet\":[{\"aaxis\":{\"endlinecolor\":\"rgb(51,51,51)\",\"gridcolor\":\"white\",\"linecolor\":\"white\",\"minorgridcolor\":\"white\",\"startlinecolor\":\"rgb(51,51,51)\"},\"baxis\":{\"endlinecolor\":\"rgb(51,51,51)\",\"gridcolor\":\"white\",\"linecolor\":\"white\",\"minorgridcolor\":\"white\",\"startlinecolor\":\"rgb(51,51,51)\"},\"type\":\"carpet\"}],\"choropleth\":[{\"colorbar\":{\"outlinewidth\":0,\"tickcolor\":\"rgb(237,237,237)\",\"ticklen\":6,\"ticks\":\"inside\"},\"type\":\"choropleth\"}],\"contourcarpet\":[{\"colorbar\":{\"outlinewidth\":0,\"tickcolor\":\"rgb(237,237,237)\",\"ticklen\":6,\"ticks\":\"inside\"},\"type\":\"contourcarpet\"}],\"contour\":[{\"colorbar\":{\"outlinewidth\":0,\"tickcolor\":\"rgb(237,237,237)\",\"ticklen\":6,\"ticks\":\"inside\"},\"colorscale\":[[0,\"rgb(20,44,66)\"],[1,\"rgb(90,179,244)\"]],\"type\":\"contour\"}],\"heatmapgl\":[{\"colorbar\":{\"outlinewidth\":0,\"tickcolor\":\"rgb(237,237,237)\",\"ticklen\":6,\"ticks\":\"inside\"},\"colorscale\":[[0,\"rgb(20,44,66)\"],[1,\"rgb(90,179,244)\"]],\"type\":\"heatmapgl\"}],\"heatmap\":[{\"colorbar\":{\"outlinewidth\":0,\"tickcolor\":\"rgb(237,237,237)\",\"ticklen\":6,\"ticks\":\"inside\"},\"colorscale\":[[0,\"rgb(20,44,66)\"],[1,\"rgb(90,179,244)\"]],\"type\":\"heatmap\"}],\"histogram2dcontour\":[{\"colorbar\":{\"outlinewidth\":0,\"tickcolor\":\"rgb(237,237,237)\",\"ticklen\":6,\"ticks\":\"inside\"},\"colorscale\":[[0,\"rgb(20,44,66)\"],[1,\"rgb(90,179,244)\"]],\"type\":\"histogram2dcontour\"}],\"histogram2d\":[{\"colorbar\":{\"outlinewidth\":0,\"tickcolor\":\"rgb(237,237,237)\",\"ticklen\":6,\"ticks\":\"inside\"},\"colorscale\":[[0,\"rgb(20,44,66)\"],[1,\"rgb(90,179,244)\"]],\"type\":\"histogram2d\"}],\"histogram\":[{\"marker\":{\"pattern\":{\"fillmode\":\"overlay\",\"size\":10,\"solidity\":0.2}},\"type\":\"histogram\"}],\"mesh3d\":[{\"colorbar\":{\"outlinewidth\":0,\"tickcolor\":\"rgb(237,237,237)\",\"ticklen\":6,\"ticks\":\"inside\"},\"type\":\"mesh3d\"}],\"parcoords\":[{\"line\":{\"colorbar\":{\"outlinewidth\":0,\"tickcolor\":\"rgb(237,237,237)\",\"ticklen\":6,\"ticks\":\"inside\"}},\"type\":\"parcoords\"}],\"pie\":[{\"automargin\":true,\"type\":\"pie\"}],\"scatter3d\":[{\"line\":{\"colorbar\":{\"outlinewidth\":0,\"tickcolor\":\"rgb(237,237,237)\",\"ticklen\":6,\"ticks\":\"inside\"}},\"marker\":{\"colorbar\":{\"outlinewidth\":0,\"tickcolor\":\"rgb(237,237,237)\",\"ticklen\":6,\"ticks\":\"inside\"}},\"type\":\"scatter3d\"}],\"scattercarpet\":[{\"marker\":{\"colorbar\":{\"outlinewidth\":0,\"tickcolor\":\"rgb(237,237,237)\",\"ticklen\":6,\"ticks\":\"inside\"}},\"type\":\"scattercarpet\"}],\"scattergeo\":[{\"marker\":{\"colorbar\":{\"outlinewidth\":0,\"tickcolor\":\"rgb(237,237,237)\",\"ticklen\":6,\"ticks\":\"inside\"}},\"type\":\"scattergeo\"}],\"scattergl\":[{\"marker\":{\"colorbar\":{\"outlinewidth\":0,\"tickcolor\":\"rgb(237,237,237)\",\"ticklen\":6,\"ticks\":\"inside\"}},\"type\":\"scattergl\"}],\"scattermapbox\":[{\"marker\":{\"colorbar\":{\"outlinewidth\":0,\"tickcolor\":\"rgb(237,237,237)\",\"ticklen\":6,\"ticks\":\"inside\"}},\"type\":\"scattermapbox\"}],\"scatterpolargl\":[{\"marker\":{\"colorbar\":{\"outlinewidth\":0,\"tickcolor\":\"rgb(237,237,237)\",\"ticklen\":6,\"ticks\":\"inside\"}},\"type\":\"scatterpolargl\"}],\"scatterpolar\":[{\"marker\":{\"colorbar\":{\"outlinewidth\":0,\"tickcolor\":\"rgb(237,237,237)\",\"ticklen\":6,\"ticks\":\"inside\"}},\"type\":\"scatterpolar\"}],\"scatter\":[{\"fillpattern\":{\"fillmode\":\"overlay\",\"size\":10,\"solidity\":0.2},\"type\":\"scatter\"}],\"scatterternary\":[{\"marker\":{\"colorbar\":{\"outlinewidth\":0,\"tickcolor\":\"rgb(237,237,237)\",\"ticklen\":6,\"ticks\":\"inside\"}},\"type\":\"scatterternary\"}],\"surface\":[{\"colorbar\":{\"outlinewidth\":0,\"tickcolor\":\"rgb(237,237,237)\",\"ticklen\":6,\"ticks\":\"inside\"},\"colorscale\":[[0,\"rgb(20,44,66)\"],[1,\"rgb(90,179,244)\"]],\"type\":\"surface\"}],\"table\":[{\"cells\":{\"fill\":{\"color\":\"rgb(237,237,237)\"},\"line\":{\"color\":\"white\"}},\"header\":{\"fill\":{\"color\":\"rgb(217,217,217)\"},\"line\":{\"color\":\"white\"}},\"type\":\"table\"}]},\"layout\":{\"annotationdefaults\":{\"arrowhead\":0,\"arrowwidth\":1},\"autotypenumbers\":\"strict\",\"coloraxis\":{\"colorbar\":{\"outlinewidth\":0,\"tickcolor\":\"rgb(237,237,237)\",\"ticklen\":6,\"ticks\":\"inside\"}},\"colorscale\":{\"sequential\":[[0,\"rgb(20,44,66)\"],[1,\"rgb(90,179,244)\"]],\"sequentialminus\":[[0,\"rgb(20,44,66)\"],[1,\"rgb(90,179,244)\"]]},\"colorway\":[\"#F8766D\",\"#A3A500\",\"#00BF7D\",\"#00B0F6\",\"#E76BF3\"],\"font\":{\"color\":\"rgb(51,51,51)\"},\"geo\":{\"bgcolor\":\"white\",\"lakecolor\":\"white\",\"landcolor\":\"rgb(237,237,237)\",\"showlakes\":true,\"showland\":true,\"subunitcolor\":\"white\"},\"hoverlabel\":{\"align\":\"left\"},\"hovermode\":\"closest\",\"paper_bgcolor\":\"white\",\"plot_bgcolor\":\"rgb(237,237,237)\",\"polar\":{\"angularaxis\":{\"gridcolor\":\"white\",\"linecolor\":\"white\",\"showgrid\":true,\"tickcolor\":\"rgb(51,51,51)\",\"ticks\":\"outside\"},\"bgcolor\":\"rgb(237,237,237)\",\"radialaxis\":{\"gridcolor\":\"white\",\"linecolor\":\"white\",\"showgrid\":true,\"tickcolor\":\"rgb(51,51,51)\",\"ticks\":\"outside\"}},\"scene\":{\"xaxis\":{\"backgroundcolor\":\"rgb(237,237,237)\",\"gridcolor\":\"white\",\"gridwidth\":2,\"linecolor\":\"white\",\"showbackground\":true,\"showgrid\":true,\"tickcolor\":\"rgb(51,51,51)\",\"ticks\":\"outside\",\"zerolinecolor\":\"white\"},\"yaxis\":{\"backgroundcolor\":\"rgb(237,237,237)\",\"gridcolor\":\"white\",\"gridwidth\":2,\"linecolor\":\"white\",\"showbackground\":true,\"showgrid\":true,\"tickcolor\":\"rgb(51,51,51)\",\"ticks\":\"outside\",\"zerolinecolor\":\"white\"},\"zaxis\":{\"backgroundcolor\":\"rgb(237,237,237)\",\"gridcolor\":\"white\",\"gridwidth\":2,\"linecolor\":\"white\",\"showbackground\":true,\"showgrid\":true,\"tickcolor\":\"rgb(51,51,51)\",\"ticks\":\"outside\",\"zerolinecolor\":\"white\"}},\"shapedefaults\":{\"fillcolor\":\"black\",\"line\":{\"width\":0},\"opacity\":0.3},\"ternary\":{\"aaxis\":{\"gridcolor\":\"white\",\"linecolor\":\"white\",\"showgrid\":true,\"tickcolor\":\"rgb(51,51,51)\",\"ticks\":\"outside\"},\"baxis\":{\"gridcolor\":\"white\",\"linecolor\":\"white\",\"showgrid\":true,\"tickcolor\":\"rgb(51,51,51)\",\"ticks\":\"outside\"},\"bgcolor\":\"rgb(237,237,237)\",\"caxis\":{\"gridcolor\":\"white\",\"linecolor\":\"white\",\"showgrid\":true,\"tickcolor\":\"rgb(51,51,51)\",\"ticks\":\"outside\"}},\"xaxis\":{\"automargin\":true,\"gridcolor\":\"white\",\"linecolor\":\"white\",\"showgrid\":true,\"tickcolor\":\"rgb(51,51,51)\",\"ticks\":\"outside\",\"title\":{\"standoff\":15},\"zerolinecolor\":\"white\"},\"yaxis\":{\"automargin\":true,\"gridcolor\":\"white\",\"linecolor\":\"white\",\"showgrid\":true,\"tickcolor\":\"rgb(51,51,51)\",\"ticks\":\"outside\",\"title\":{\"standoff\":15},\"zerolinecolor\":\"white\"}}},\"legend\":{\"traceorder\":\"normal\",\"borderwidth\":1,\"yanchor\":\"middle\",\"y\":1.02,\"xanchor\":\"right\",\"x\":0.99},\"barmode\":\"stack\",\"title\":{\"text\":\"Average First-Year Outcomes by CIP Code\"},\"xaxis\":{\"title\":{\"text\":\"CIP Code\"}},\"yaxis\":{\"title\":{\"text\":\"Percentage\"}},\"hovermode\":\"x unified\"},                        {\"responsive\": true}                    ).then(function(){\n",
       "                            \n",
       "var gd = document.getElementById('4279fe3d-dbe0-4bd7-a034-c062da9c823f');\n",
       "var x = new MutationObserver(function (mutations, observer) {{\n",
       "        var display = window.getComputedStyle(gd).display;\n",
       "        if (!display || display === 'none') {{\n",
       "            console.log([gd, 'removed!']);\n",
       "            Plotly.purge(gd);\n",
       "            observer.disconnect();\n",
       "        }}\n",
       "}});\n",
       "\n",
       "// Listen for the removal of the full notebook cells\n",
       "var notebookContainer = gd.closest('#notebook-container');\n",
       "if (notebookContainer) {{\n",
       "    x.observe(notebookContainer, {childList: true});\n",
       "}}\n",
       "\n",
       "// Listen for the clearing of the current output cell\n",
       "var outputEl = gd.closest('.output');\n",
       "if (outputEl) {{\n",
       "    x.observe(outputEl, {childList: true});\n",
       "}}\n",
       "\n",
       "                        })                };                });            </script>        </div>"
      ]
     },
     "metadata": {},
     "output_type": "display_data"
    }
   ],
   "source": [
    "def stacked_bar(prog_data, cip_list, selected_cips = []):\n",
    "    \n",
    "    fig_data = prog_data[prog_data['cip_code'].isin(cip_list)]\n",
    "    grouped = fig_data.groupby('cip_code').mean().reset_index()\n",
    "    grouped = grouped.merge(fig_data[['CIPCode', 'CIPTitle']], how='left', left_on='cip_code', right_on='CIPCode')\n",
    "    grouped.drop_duplicates(inplace=True)\n",
    "    \n",
    "    selected_grouped = grouped[grouped['cip_code'].isin(selected_cips)]\n",
    "    \n",
    "    other_grouped = grouped[~grouped['cip_code'].isin(selected_cips)]\n",
    "    \n",
    "    if len(selected_grouped) == 0:\n",
    "        opacity = 1.0\n",
    "    else:\n",
    "        opacity = 0.25\n",
    "    \n",
    "    stacked = go.Figure(data=[go.Bar(name='(Selected) Percent Employed',\n",
    "                                    x=selected_grouped['cip_code'],\n",
    "                                    y=selected_grouped['total_perc_employed_overall'],\n",
    "                                    hovertext = selected_grouped['CIPTitle'],\n",
    "                                    hovertemplate = \"<b>%{hovertext}</b><br><br>\" +\n",
    "                                     \"Percent Employed: %{y:.0f}%<br>\"+\"<extra></extra>\"),\n",
    "                              \n",
    "                              go.Bar(name='(Selected) Percent Continuing Education',\n",
    "                                    x=selected_grouped['cip_code'],\n",
    "                                    y=selected_grouped['perc_continuing_ed'],\n",
    "                                    hovertext = selected_grouped['CIPTitle'],\n",
    "                                    hovertemplate = \n",
    "                                     \"Percent Continuing Education: %{y:.0f}%<br>\"+\"<extra></extra>\"),\n",
    "                              \n",
    "                              go.Bar(name='Percent Employed',\n",
    "                                    x=other_grouped['cip_code'],\n",
    "                                    y=other_grouped['total_perc_employed_overall'],\n",
    "                                    opacity = opacity,\n",
    "                                    hovertext = other_grouped['CIPTitle'],\n",
    "                                    hovertemplate = \"<b>%{hovertext}</b><br><br>\" +\n",
    "                                     \"Percent Employed: %{y:.0f}%<br>\"+\"<extra></extra>\"),\n",
    "                              \n",
    "                              go.Bar(name='Percent Continuing Education',\n",
    "                                    x=other_grouped['cip_code'],\n",
    "                                    y=other_grouped['perc_continuing_ed'],\n",
    "                                    opacity = opacity,\n",
    "                                    hovertext = other_grouped['CIPTitle'],\n",
    "                                    hovertemplate =  \n",
    "                                     \"Percent Continuing Education: %{y:.0f}%<br>\"+\"<extra></extra>\")\n",
    "                              \n",
    "                              \n",
    "                             ]\n",
    "                       )\n",
    "    stacked.update_layout(barmode='stack', title='Average First-Year Outcomes by CIP Code',\n",
    "                          xaxis_title = 'CIP Code',\n",
    "                          yaxis_title = 'Percentage',\n",
    "                          hovermode = 'x unified',\n",
    "                          template = 'ggplot2',\n",
    "                          legend={'traceorder':'normal', 'borderwidth':1, 'yanchor':'middle', 'y':1.02,\n",
    "                                  'xanchor':'right', 'x':0.99})\n",
    "    \n",
    "    return stacked\n",
    "\n",
    "sample_cips = get_rand_cips(bach_prog)\n",
    "\n",
    "highlight_cips = random.choices(sample_cips, k=random.choice(range(len(sample_cips))))\n",
    "\n",
    "stacked_bar(bach_prog, sample_cips)"
   ]
  },
  {
   "cell_type": "code",
   "execution_count": 10,
   "id": "f1393a92",
   "metadata": {},
   "outputs": [
    {
     "data": {
      "application/vnd.plotly.v1+json": {
       "config": {
        "plotlyServerURL": "https://plot.ly"
       },
       "data": [
        {
         "hovertemplate": "<b>%{hovertext}</b><br><br>1-Year Median Earnings: $%{y}<br><extra></extra>",
         "hovertext": [],
         "name": "(Selected) 1-Year Median Earnings",
         "type": "bar",
         "x": [],
         "y": []
        },
        {
         "hovertemplate": "<b>%{hovertext}</b><br><br>2-year Median Earnings: $%{y}<br><extra></extra>",
         "hovertext": [],
         "name": "(Selected) 2-Year Median Earnings",
         "type": "bar",
         "x": [],
         "y": []
        },
        {
         "hovertemplate": "<b>%{hovertext}</b><br><br>1-Year Median Earnings: $%{y}<br><extra></extra>",
         "hovertext": [
          "Ethnic, Cultural Minority, Gender, and Group Studies.",
          "Engineering, Other.",
          "Environmental Control Technologies/Technicians.",
          "Middle/Near Eastern and Semitic Languages, Literatures, and Linguistics.",
          "Ecology, Evolution, Systematics, and Population Biology.",
          "Peace Studies and Conflict Resolution.",
          "Design and Applied Arts."
         ],
         "name": "1-Year Median Earnings",
         "opacity": 1,
         "type": "bar",
         "x": [
          "05.02",
          "14.99",
          "15.05",
          "16.11",
          "26.13",
          "30.05",
          "50.04"
         ],
         "y": [
          32000,
          76000,
          47000,
          44000,
          36000,
          42000,
          32000
         ]
        },
        {
         "hovertemplate": "<b>%{hovertext}</b><br><br>2-Year Median Earnings: $%{y}<br><extra></extra>",
         "hovertext": [
          "Ethnic, Cultural Minority, Gender, and Group Studies.",
          "Engineering, Other.",
          "Environmental Control Technologies/Technicians.",
          "Middle/Near Eastern and Semitic Languages, Literatures, and Linguistics.",
          "Ecology, Evolution, Systematics, and Population Biology.",
          "Peace Studies and Conflict Resolution.",
          "Design and Applied Arts."
         ],
         "name": "2-Year Median Earnings",
         "opacity": 1,
         "type": "bar",
         "x": [
          "05.02",
          "14.99",
          "15.05",
          "16.11",
          "26.13",
          "30.05",
          "50.04"
         ],
         "y": [
          30000,
          75000,
          38000,
          41000,
          36000,
          43000,
          33000
         ]
        }
       ],
       "layout": {
        "barmode": "group",
        "legend": {
         "borderwidth": 1,
         "traceorder": "normal",
         "x": 0.99,
         "xanchor": "right",
         "y": 1.02,
         "yanchor": "middle"
        },
        "template": {
         "data": {
          "bar": [
           {
            "error_x": {
             "color": "rgb(51,51,51)"
            },
            "error_y": {
             "color": "rgb(51,51,51)"
            },
            "marker": {
             "line": {
              "color": "rgb(237,237,237)",
              "width": 0.5
             },
             "pattern": {
              "fillmode": "overlay",
              "size": 10,
              "solidity": 0.2
             }
            },
            "type": "bar"
           }
          ],
          "barpolar": [
           {
            "marker": {
             "line": {
              "color": "rgb(237,237,237)",
              "width": 0.5
             },
             "pattern": {
              "fillmode": "overlay",
              "size": 10,
              "solidity": 0.2
             }
            },
            "type": "barpolar"
           }
          ],
          "carpet": [
           {
            "aaxis": {
             "endlinecolor": "rgb(51,51,51)",
             "gridcolor": "white",
             "linecolor": "white",
             "minorgridcolor": "white",
             "startlinecolor": "rgb(51,51,51)"
            },
            "baxis": {
             "endlinecolor": "rgb(51,51,51)",
             "gridcolor": "white",
             "linecolor": "white",
             "minorgridcolor": "white",
             "startlinecolor": "rgb(51,51,51)"
            },
            "type": "carpet"
           }
          ],
          "choropleth": [
           {
            "colorbar": {
             "outlinewidth": 0,
             "tickcolor": "rgb(237,237,237)",
             "ticklen": 6,
             "ticks": "inside"
            },
            "type": "choropleth"
           }
          ],
          "contour": [
           {
            "colorbar": {
             "outlinewidth": 0,
             "tickcolor": "rgb(237,237,237)",
             "ticklen": 6,
             "ticks": "inside"
            },
            "colorscale": [
             [
              0,
              "rgb(20,44,66)"
             ],
             [
              1,
              "rgb(90,179,244)"
             ]
            ],
            "type": "contour"
           }
          ],
          "contourcarpet": [
           {
            "colorbar": {
             "outlinewidth": 0,
             "tickcolor": "rgb(237,237,237)",
             "ticklen": 6,
             "ticks": "inside"
            },
            "type": "contourcarpet"
           }
          ],
          "heatmap": [
           {
            "colorbar": {
             "outlinewidth": 0,
             "tickcolor": "rgb(237,237,237)",
             "ticklen": 6,
             "ticks": "inside"
            },
            "colorscale": [
             [
              0,
              "rgb(20,44,66)"
             ],
             [
              1,
              "rgb(90,179,244)"
             ]
            ],
            "type": "heatmap"
           }
          ],
          "heatmapgl": [
           {
            "colorbar": {
             "outlinewidth": 0,
             "tickcolor": "rgb(237,237,237)",
             "ticklen": 6,
             "ticks": "inside"
            },
            "colorscale": [
             [
              0,
              "rgb(20,44,66)"
             ],
             [
              1,
              "rgb(90,179,244)"
             ]
            ],
            "type": "heatmapgl"
           }
          ],
          "histogram": [
           {
            "marker": {
             "pattern": {
              "fillmode": "overlay",
              "size": 10,
              "solidity": 0.2
             }
            },
            "type": "histogram"
           }
          ],
          "histogram2d": [
           {
            "colorbar": {
             "outlinewidth": 0,
             "tickcolor": "rgb(237,237,237)",
             "ticklen": 6,
             "ticks": "inside"
            },
            "colorscale": [
             [
              0,
              "rgb(20,44,66)"
             ],
             [
              1,
              "rgb(90,179,244)"
             ]
            ],
            "type": "histogram2d"
           }
          ],
          "histogram2dcontour": [
           {
            "colorbar": {
             "outlinewidth": 0,
             "tickcolor": "rgb(237,237,237)",
             "ticklen": 6,
             "ticks": "inside"
            },
            "colorscale": [
             [
              0,
              "rgb(20,44,66)"
             ],
             [
              1,
              "rgb(90,179,244)"
             ]
            ],
            "type": "histogram2dcontour"
           }
          ],
          "mesh3d": [
           {
            "colorbar": {
             "outlinewidth": 0,
             "tickcolor": "rgb(237,237,237)",
             "ticklen": 6,
             "ticks": "inside"
            },
            "type": "mesh3d"
           }
          ],
          "parcoords": [
           {
            "line": {
             "colorbar": {
              "outlinewidth": 0,
              "tickcolor": "rgb(237,237,237)",
              "ticklen": 6,
              "ticks": "inside"
             }
            },
            "type": "parcoords"
           }
          ],
          "pie": [
           {
            "automargin": true,
            "type": "pie"
           }
          ],
          "scatter": [
           {
            "fillpattern": {
             "fillmode": "overlay",
             "size": 10,
             "solidity": 0.2
            },
            "type": "scatter"
           }
          ],
          "scatter3d": [
           {
            "line": {
             "colorbar": {
              "outlinewidth": 0,
              "tickcolor": "rgb(237,237,237)",
              "ticklen": 6,
              "ticks": "inside"
             }
            },
            "marker": {
             "colorbar": {
              "outlinewidth": 0,
              "tickcolor": "rgb(237,237,237)",
              "ticklen": 6,
              "ticks": "inside"
             }
            },
            "type": "scatter3d"
           }
          ],
          "scattercarpet": [
           {
            "marker": {
             "colorbar": {
              "outlinewidth": 0,
              "tickcolor": "rgb(237,237,237)",
              "ticklen": 6,
              "ticks": "inside"
             }
            },
            "type": "scattercarpet"
           }
          ],
          "scattergeo": [
           {
            "marker": {
             "colorbar": {
              "outlinewidth": 0,
              "tickcolor": "rgb(237,237,237)",
              "ticklen": 6,
              "ticks": "inside"
             }
            },
            "type": "scattergeo"
           }
          ],
          "scattergl": [
           {
            "marker": {
             "colorbar": {
              "outlinewidth": 0,
              "tickcolor": "rgb(237,237,237)",
              "ticklen": 6,
              "ticks": "inside"
             }
            },
            "type": "scattergl"
           }
          ],
          "scattermapbox": [
           {
            "marker": {
             "colorbar": {
              "outlinewidth": 0,
              "tickcolor": "rgb(237,237,237)",
              "ticklen": 6,
              "ticks": "inside"
             }
            },
            "type": "scattermapbox"
           }
          ],
          "scatterpolar": [
           {
            "marker": {
             "colorbar": {
              "outlinewidth": 0,
              "tickcolor": "rgb(237,237,237)",
              "ticklen": 6,
              "ticks": "inside"
             }
            },
            "type": "scatterpolar"
           }
          ],
          "scatterpolargl": [
           {
            "marker": {
             "colorbar": {
              "outlinewidth": 0,
              "tickcolor": "rgb(237,237,237)",
              "ticklen": 6,
              "ticks": "inside"
             }
            },
            "type": "scatterpolargl"
           }
          ],
          "scatterternary": [
           {
            "marker": {
             "colorbar": {
              "outlinewidth": 0,
              "tickcolor": "rgb(237,237,237)",
              "ticklen": 6,
              "ticks": "inside"
             }
            },
            "type": "scatterternary"
           }
          ],
          "surface": [
           {
            "colorbar": {
             "outlinewidth": 0,
             "tickcolor": "rgb(237,237,237)",
             "ticklen": 6,
             "ticks": "inside"
            },
            "colorscale": [
             [
              0,
              "rgb(20,44,66)"
             ],
             [
              1,
              "rgb(90,179,244)"
             ]
            ],
            "type": "surface"
           }
          ],
          "table": [
           {
            "cells": {
             "fill": {
              "color": "rgb(237,237,237)"
             },
             "line": {
              "color": "white"
             }
            },
            "header": {
             "fill": {
              "color": "rgb(217,217,217)"
             },
             "line": {
              "color": "white"
             }
            },
            "type": "table"
           }
          ]
         },
         "layout": {
          "annotationdefaults": {
           "arrowhead": 0,
           "arrowwidth": 1
          },
          "autotypenumbers": "strict",
          "coloraxis": {
           "colorbar": {
            "outlinewidth": 0,
            "tickcolor": "rgb(237,237,237)",
            "ticklen": 6,
            "ticks": "inside"
           }
          },
          "colorscale": {
           "sequential": [
            [
             0,
             "rgb(20,44,66)"
            ],
            [
             1,
             "rgb(90,179,244)"
            ]
           ],
           "sequentialminus": [
            [
             0,
             "rgb(20,44,66)"
            ],
            [
             1,
             "rgb(90,179,244)"
            ]
           ]
          },
          "colorway": [
           "#F8766D",
           "#A3A500",
           "#00BF7D",
           "#00B0F6",
           "#E76BF3"
          ],
          "font": {
           "color": "rgb(51,51,51)"
          },
          "geo": {
           "bgcolor": "white",
           "lakecolor": "white",
           "landcolor": "rgb(237,237,237)",
           "showlakes": true,
           "showland": true,
           "subunitcolor": "white"
          },
          "hoverlabel": {
           "align": "left"
          },
          "hovermode": "closest",
          "paper_bgcolor": "white",
          "plot_bgcolor": "rgb(237,237,237)",
          "polar": {
           "angularaxis": {
            "gridcolor": "white",
            "linecolor": "white",
            "showgrid": true,
            "tickcolor": "rgb(51,51,51)",
            "ticks": "outside"
           },
           "bgcolor": "rgb(237,237,237)",
           "radialaxis": {
            "gridcolor": "white",
            "linecolor": "white",
            "showgrid": true,
            "tickcolor": "rgb(51,51,51)",
            "ticks": "outside"
           }
          },
          "scene": {
           "xaxis": {
            "backgroundcolor": "rgb(237,237,237)",
            "gridcolor": "white",
            "gridwidth": 2,
            "linecolor": "white",
            "showbackground": true,
            "showgrid": true,
            "tickcolor": "rgb(51,51,51)",
            "ticks": "outside",
            "zerolinecolor": "white"
           },
           "yaxis": {
            "backgroundcolor": "rgb(237,237,237)",
            "gridcolor": "white",
            "gridwidth": 2,
            "linecolor": "white",
            "showbackground": true,
            "showgrid": true,
            "tickcolor": "rgb(51,51,51)",
            "ticks": "outside",
            "zerolinecolor": "white"
           },
           "zaxis": {
            "backgroundcolor": "rgb(237,237,237)",
            "gridcolor": "white",
            "gridwidth": 2,
            "linecolor": "white",
            "showbackground": true,
            "showgrid": true,
            "tickcolor": "rgb(51,51,51)",
            "ticks": "outside",
            "zerolinecolor": "white"
           }
          },
          "shapedefaults": {
           "fillcolor": "black",
           "line": {
            "width": 0
           },
           "opacity": 0.3
          },
          "ternary": {
           "aaxis": {
            "gridcolor": "white",
            "linecolor": "white",
            "showgrid": true,
            "tickcolor": "rgb(51,51,51)",
            "ticks": "outside"
           },
           "baxis": {
            "gridcolor": "white",
            "linecolor": "white",
            "showgrid": true,
            "tickcolor": "rgb(51,51,51)",
            "ticks": "outside"
           },
           "bgcolor": "rgb(237,237,237)",
           "caxis": {
            "gridcolor": "white",
            "linecolor": "white",
            "showgrid": true,
            "tickcolor": "rgb(51,51,51)",
            "ticks": "outside"
           }
          },
          "xaxis": {
           "automargin": true,
           "gridcolor": "white",
           "linecolor": "white",
           "showgrid": true,
           "tickcolor": "rgb(51,51,51)",
           "ticks": "outside",
           "title": {
            "standoff": 15
           },
           "zerolinecolor": "white"
          },
          "yaxis": {
           "automargin": true,
           "gridcolor": "white",
           "linecolor": "white",
           "showgrid": true,
           "tickcolor": "rgb(51,51,51)",
           "ticks": "outside",
           "title": {
            "standoff": 15
           },
           "zerolinecolor": "white"
          }
         }
        },
        "title": {
         "text": "First and Second Year Post-Grad Median Earnings by CIP Code"
        },
        "xaxis": {
         "title": {
          "text": "CIP Code"
         }
        },
        "yaxis": {
         "title": {
          "text": "Reported Post-Grad Earnings"
         }
        }
       }
      },
      "text/html": [
       "<div>                            <div id=\"6945315e-3ddf-4238-86e7-4b628b380f88\" class=\"plotly-graph-div\" style=\"height:525px; width:100%;\"></div>            <script type=\"text/javascript\">                require([\"plotly\"], function(Plotly) {                    window.PLOTLYENV=window.PLOTLYENV || {};                                    if (document.getElementById(\"6945315e-3ddf-4238-86e7-4b628b380f88\")) {                    Plotly.newPlot(                        \"6945315e-3ddf-4238-86e7-4b628b380f88\",                        [{\"hovertemplate\":\"<b>%{hovertext}</b><br><br>1-Year Median Earnings: $%{y}<br><extra></extra>\",\"hovertext\":[],\"name\":\"(Selected) 1-Year Median Earnings\",\"x\":[],\"y\":[],\"type\":\"bar\"},{\"hovertemplate\":\"<b>%{hovertext}</b><br><br>2-year Median Earnings: $%{y}<br><extra></extra>\",\"hovertext\":[],\"name\":\"(Selected) 2-Year Median Earnings\",\"x\":[],\"y\":[],\"type\":\"bar\"},{\"hovertemplate\":\"<b>%{hovertext}</b><br><br>1-Year Median Earnings: $%{y}<br><extra></extra>\",\"hovertext\":[\"Ethnic, Cultural Minority, Gender, and Group Studies.\",\"Engineering, Other.\",\"Environmental Control Technologies/Technicians.\",\"Middle/Near Eastern and Semitic Languages, Literatures, and Linguistics.\",\"Ecology, Evolution, Systematics, and Population Biology.\",\"Peace Studies and Conflict Resolution.\",\"Design and Applied Arts.\"],\"name\":\"1-Year Median Earnings\",\"opacity\":1.0,\"x\":[\"05.02\",\"14.99\",\"15.05\",\"16.11\",\"26.13\",\"30.05\",\"50.04\"],\"y\":[32000.0,76000.0,47000.0,44000.0,36000.0,42000.0,32000.0],\"type\":\"bar\"},{\"hovertemplate\":\"<b>%{hovertext}</b><br><br>2-Year Median Earnings: $%{y}<br><extra></extra>\",\"hovertext\":[\"Ethnic, Cultural Minority, Gender, and Group Studies.\",\"Engineering, Other.\",\"Environmental Control Technologies/Technicians.\",\"Middle/Near Eastern and Semitic Languages, Literatures, and Linguistics.\",\"Ecology, Evolution, Systematics, and Population Biology.\",\"Peace Studies and Conflict Resolution.\",\"Design and Applied Arts.\"],\"name\":\"2-Year Median Earnings\",\"opacity\":1.0,\"x\":[\"05.02\",\"14.99\",\"15.05\",\"16.11\",\"26.13\",\"30.05\",\"50.04\"],\"y\":[30000.0,75000.0,38000.0,41000.0,36000.0,43000.0,33000.0],\"type\":\"bar\"}],                        {\"template\":{\"data\":{\"barpolar\":[{\"marker\":{\"line\":{\"color\":\"rgb(237,237,237)\",\"width\":0.5},\"pattern\":{\"fillmode\":\"overlay\",\"size\":10,\"solidity\":0.2}},\"type\":\"barpolar\"}],\"bar\":[{\"error_x\":{\"color\":\"rgb(51,51,51)\"},\"error_y\":{\"color\":\"rgb(51,51,51)\"},\"marker\":{\"line\":{\"color\":\"rgb(237,237,237)\",\"width\":0.5},\"pattern\":{\"fillmode\":\"overlay\",\"size\":10,\"solidity\":0.2}},\"type\":\"bar\"}],\"carpet\":[{\"aaxis\":{\"endlinecolor\":\"rgb(51,51,51)\",\"gridcolor\":\"white\",\"linecolor\":\"white\",\"minorgridcolor\":\"white\",\"startlinecolor\":\"rgb(51,51,51)\"},\"baxis\":{\"endlinecolor\":\"rgb(51,51,51)\",\"gridcolor\":\"white\",\"linecolor\":\"white\",\"minorgridcolor\":\"white\",\"startlinecolor\":\"rgb(51,51,51)\"},\"type\":\"carpet\"}],\"choropleth\":[{\"colorbar\":{\"outlinewidth\":0,\"tickcolor\":\"rgb(237,237,237)\",\"ticklen\":6,\"ticks\":\"inside\"},\"type\":\"choropleth\"}],\"contourcarpet\":[{\"colorbar\":{\"outlinewidth\":0,\"tickcolor\":\"rgb(237,237,237)\",\"ticklen\":6,\"ticks\":\"inside\"},\"type\":\"contourcarpet\"}],\"contour\":[{\"colorbar\":{\"outlinewidth\":0,\"tickcolor\":\"rgb(237,237,237)\",\"ticklen\":6,\"ticks\":\"inside\"},\"colorscale\":[[0,\"rgb(20,44,66)\"],[1,\"rgb(90,179,244)\"]],\"type\":\"contour\"}],\"heatmapgl\":[{\"colorbar\":{\"outlinewidth\":0,\"tickcolor\":\"rgb(237,237,237)\",\"ticklen\":6,\"ticks\":\"inside\"},\"colorscale\":[[0,\"rgb(20,44,66)\"],[1,\"rgb(90,179,244)\"]],\"type\":\"heatmapgl\"}],\"heatmap\":[{\"colorbar\":{\"outlinewidth\":0,\"tickcolor\":\"rgb(237,237,237)\",\"ticklen\":6,\"ticks\":\"inside\"},\"colorscale\":[[0,\"rgb(20,44,66)\"],[1,\"rgb(90,179,244)\"]],\"type\":\"heatmap\"}],\"histogram2dcontour\":[{\"colorbar\":{\"outlinewidth\":0,\"tickcolor\":\"rgb(237,237,237)\",\"ticklen\":6,\"ticks\":\"inside\"},\"colorscale\":[[0,\"rgb(20,44,66)\"],[1,\"rgb(90,179,244)\"]],\"type\":\"histogram2dcontour\"}],\"histogram2d\":[{\"colorbar\":{\"outlinewidth\":0,\"tickcolor\":\"rgb(237,237,237)\",\"ticklen\":6,\"ticks\":\"inside\"},\"colorscale\":[[0,\"rgb(20,44,66)\"],[1,\"rgb(90,179,244)\"]],\"type\":\"histogram2d\"}],\"histogram\":[{\"marker\":{\"pattern\":{\"fillmode\":\"overlay\",\"size\":10,\"solidity\":0.2}},\"type\":\"histogram\"}],\"mesh3d\":[{\"colorbar\":{\"outlinewidth\":0,\"tickcolor\":\"rgb(237,237,237)\",\"ticklen\":6,\"ticks\":\"inside\"},\"type\":\"mesh3d\"}],\"parcoords\":[{\"line\":{\"colorbar\":{\"outlinewidth\":0,\"tickcolor\":\"rgb(237,237,237)\",\"ticklen\":6,\"ticks\":\"inside\"}},\"type\":\"parcoords\"}],\"pie\":[{\"automargin\":true,\"type\":\"pie\"}],\"scatter3d\":[{\"line\":{\"colorbar\":{\"outlinewidth\":0,\"tickcolor\":\"rgb(237,237,237)\",\"ticklen\":6,\"ticks\":\"inside\"}},\"marker\":{\"colorbar\":{\"outlinewidth\":0,\"tickcolor\":\"rgb(237,237,237)\",\"ticklen\":6,\"ticks\":\"inside\"}},\"type\":\"scatter3d\"}],\"scattercarpet\":[{\"marker\":{\"colorbar\":{\"outlinewidth\":0,\"tickcolor\":\"rgb(237,237,237)\",\"ticklen\":6,\"ticks\":\"inside\"}},\"type\":\"scattercarpet\"}],\"scattergeo\":[{\"marker\":{\"colorbar\":{\"outlinewidth\":0,\"tickcolor\":\"rgb(237,237,237)\",\"ticklen\":6,\"ticks\":\"inside\"}},\"type\":\"scattergeo\"}],\"scattergl\":[{\"marker\":{\"colorbar\":{\"outlinewidth\":0,\"tickcolor\":\"rgb(237,237,237)\",\"ticklen\":6,\"ticks\":\"inside\"}},\"type\":\"scattergl\"}],\"scattermapbox\":[{\"marker\":{\"colorbar\":{\"outlinewidth\":0,\"tickcolor\":\"rgb(237,237,237)\",\"ticklen\":6,\"ticks\":\"inside\"}},\"type\":\"scattermapbox\"}],\"scatterpolargl\":[{\"marker\":{\"colorbar\":{\"outlinewidth\":0,\"tickcolor\":\"rgb(237,237,237)\",\"ticklen\":6,\"ticks\":\"inside\"}},\"type\":\"scatterpolargl\"}],\"scatterpolar\":[{\"marker\":{\"colorbar\":{\"outlinewidth\":0,\"tickcolor\":\"rgb(237,237,237)\",\"ticklen\":6,\"ticks\":\"inside\"}},\"type\":\"scatterpolar\"}],\"scatter\":[{\"fillpattern\":{\"fillmode\":\"overlay\",\"size\":10,\"solidity\":0.2},\"type\":\"scatter\"}],\"scatterternary\":[{\"marker\":{\"colorbar\":{\"outlinewidth\":0,\"tickcolor\":\"rgb(237,237,237)\",\"ticklen\":6,\"ticks\":\"inside\"}},\"type\":\"scatterternary\"}],\"surface\":[{\"colorbar\":{\"outlinewidth\":0,\"tickcolor\":\"rgb(237,237,237)\",\"ticklen\":6,\"ticks\":\"inside\"},\"colorscale\":[[0,\"rgb(20,44,66)\"],[1,\"rgb(90,179,244)\"]],\"type\":\"surface\"}],\"table\":[{\"cells\":{\"fill\":{\"color\":\"rgb(237,237,237)\"},\"line\":{\"color\":\"white\"}},\"header\":{\"fill\":{\"color\":\"rgb(217,217,217)\"},\"line\":{\"color\":\"white\"}},\"type\":\"table\"}]},\"layout\":{\"annotationdefaults\":{\"arrowhead\":0,\"arrowwidth\":1},\"autotypenumbers\":\"strict\",\"coloraxis\":{\"colorbar\":{\"outlinewidth\":0,\"tickcolor\":\"rgb(237,237,237)\",\"ticklen\":6,\"ticks\":\"inside\"}},\"colorscale\":{\"sequential\":[[0,\"rgb(20,44,66)\"],[1,\"rgb(90,179,244)\"]],\"sequentialminus\":[[0,\"rgb(20,44,66)\"],[1,\"rgb(90,179,244)\"]]},\"colorway\":[\"#F8766D\",\"#A3A500\",\"#00BF7D\",\"#00B0F6\",\"#E76BF3\"],\"font\":{\"color\":\"rgb(51,51,51)\"},\"geo\":{\"bgcolor\":\"white\",\"lakecolor\":\"white\",\"landcolor\":\"rgb(237,237,237)\",\"showlakes\":true,\"showland\":true,\"subunitcolor\":\"white\"},\"hoverlabel\":{\"align\":\"left\"},\"hovermode\":\"closest\",\"paper_bgcolor\":\"white\",\"plot_bgcolor\":\"rgb(237,237,237)\",\"polar\":{\"angularaxis\":{\"gridcolor\":\"white\",\"linecolor\":\"white\",\"showgrid\":true,\"tickcolor\":\"rgb(51,51,51)\",\"ticks\":\"outside\"},\"bgcolor\":\"rgb(237,237,237)\",\"radialaxis\":{\"gridcolor\":\"white\",\"linecolor\":\"white\",\"showgrid\":true,\"tickcolor\":\"rgb(51,51,51)\",\"ticks\":\"outside\"}},\"scene\":{\"xaxis\":{\"backgroundcolor\":\"rgb(237,237,237)\",\"gridcolor\":\"white\",\"gridwidth\":2,\"linecolor\":\"white\",\"showbackground\":true,\"showgrid\":true,\"tickcolor\":\"rgb(51,51,51)\",\"ticks\":\"outside\",\"zerolinecolor\":\"white\"},\"yaxis\":{\"backgroundcolor\":\"rgb(237,237,237)\",\"gridcolor\":\"white\",\"gridwidth\":2,\"linecolor\":\"white\",\"showbackground\":true,\"showgrid\":true,\"tickcolor\":\"rgb(51,51,51)\",\"ticks\":\"outside\",\"zerolinecolor\":\"white\"},\"zaxis\":{\"backgroundcolor\":\"rgb(237,237,237)\",\"gridcolor\":\"white\",\"gridwidth\":2,\"linecolor\":\"white\",\"showbackground\":true,\"showgrid\":true,\"tickcolor\":\"rgb(51,51,51)\",\"ticks\":\"outside\",\"zerolinecolor\":\"white\"}},\"shapedefaults\":{\"fillcolor\":\"black\",\"line\":{\"width\":0},\"opacity\":0.3},\"ternary\":{\"aaxis\":{\"gridcolor\":\"white\",\"linecolor\":\"white\",\"showgrid\":true,\"tickcolor\":\"rgb(51,51,51)\",\"ticks\":\"outside\"},\"baxis\":{\"gridcolor\":\"white\",\"linecolor\":\"white\",\"showgrid\":true,\"tickcolor\":\"rgb(51,51,51)\",\"ticks\":\"outside\"},\"bgcolor\":\"rgb(237,237,237)\",\"caxis\":{\"gridcolor\":\"white\",\"linecolor\":\"white\",\"showgrid\":true,\"tickcolor\":\"rgb(51,51,51)\",\"ticks\":\"outside\"}},\"xaxis\":{\"automargin\":true,\"gridcolor\":\"white\",\"linecolor\":\"white\",\"showgrid\":true,\"tickcolor\":\"rgb(51,51,51)\",\"ticks\":\"outside\",\"title\":{\"standoff\":15},\"zerolinecolor\":\"white\"},\"yaxis\":{\"automargin\":true,\"gridcolor\":\"white\",\"linecolor\":\"white\",\"showgrid\":true,\"tickcolor\":\"rgb(51,51,51)\",\"ticks\":\"outside\",\"title\":{\"standoff\":15},\"zerolinecolor\":\"white\"}}},\"legend\":{\"traceorder\":\"normal\",\"borderwidth\":1,\"yanchor\":\"middle\",\"y\":1.02,\"xanchor\":\"right\",\"x\":0.99},\"barmode\":\"group\",\"title\":{\"text\":\"First and Second Year Post-Grad Median Earnings by CIP Code\"},\"xaxis\":{\"title\":{\"text\":\"CIP Code\"}},\"yaxis\":{\"title\":{\"text\":\"Reported Post-Grad Earnings\"}}},                        {\"responsive\": true}                    ).then(function(){\n",
       "                            \n",
       "var gd = document.getElementById('6945315e-3ddf-4238-86e7-4b628b380f88');\n",
       "var x = new MutationObserver(function (mutations, observer) {{\n",
       "        var display = window.getComputedStyle(gd).display;\n",
       "        if (!display || display === 'none') {{\n",
       "            console.log([gd, 'removed!']);\n",
       "            Plotly.purge(gd);\n",
       "            observer.disconnect();\n",
       "        }}\n",
       "}});\n",
       "\n",
       "// Listen for the removal of the full notebook cells\n",
       "var notebookContainer = gd.closest('#notebook-container');\n",
       "if (notebookContainer) {{\n",
       "    x.observe(notebookContainer, {childList: true});\n",
       "}}\n",
       "\n",
       "// Listen for the clearing of the current output cell\n",
       "var outputEl = gd.closest('.output');\n",
       "if (outputEl) {{\n",
       "    x.observe(outputEl, {childList: true});\n",
       "}}\n",
       "\n",
       "                        })                };                });            </script>        </div>"
      ]
     },
     "metadata": {},
     "output_type": "display_data"
    }
   ],
   "source": [
    "def year_grouped_bar(scorecard_data, cip_list, selected_cips = []):\n",
    "    \n",
    "    fig_data = scorecard_data[scorecard_data['cip_code'].isin(cip_list)]\n",
    "    \n",
    "    selected_grouped = fig_data[fig_data['cip_code'].isin(selected_cips)]\n",
    "    \n",
    "    other_grouped = fig_data[~fig_data['cip_code'].isin(selected_cips)]\n",
    "    \n",
    "    if len(selected_grouped) == 0:\n",
    "        opacity = 1.0\n",
    "    else:\n",
    "        opacity = 0.25\n",
    "    \n",
    "    grouped = go.Figure(data=[go.Bar(name='(Selected) 1-Year Median Earnings',\n",
    "                                    x=selected_grouped['cip_code'],\n",
    "                                    y=selected_grouped['earnings.highest.1_yr.overall_median_earnings'].round(-3),\n",
    "                                    hovertext = selected_grouped['CIPTitle'],\n",
    "                                    hovertemplate = \"<b>%{hovertext}</b><br><br>\" +\n",
    "                                     \"1-Year Median Earnings: $%{y}<br>\"+\"<extra></extra>\"),\n",
    "                              \n",
    "                              go.Bar(name='(Selected) 2-Year Median Earnings',\n",
    "                                    x=selected_grouped['cip_code'],\n",
    "                                    y=selected_grouped['earnings.highest.2_yr.overall_median_earnings'].round(-3),\n",
    "                                    hovertext = selected_grouped['CIPTitle'],\n",
    "                                    hovertemplate = \"<b>%{hovertext}</b><br><br>\" +\n",
    "                                     \"2-year Median Earnings: $%{y}<br>\"+\"<extra></extra>\"),\n",
    "                              \n",
    "                              go.Bar(name='1-Year Median Earnings',\n",
    "                                    x=other_grouped['cip_code'],\n",
    "                                    y=other_grouped['earnings.highest.1_yr.overall_median_earnings'].round(-3),\n",
    "                                    opacity = opacity,\n",
    "                                    hovertext = other_grouped['CIPTitle'],\n",
    "                                    hovertemplate = \"<b>%{hovertext}</b><br><br>\" +\n",
    "                                     \"1-Year Median Earnings: $%{y}<br>\"+\"<extra></extra>\"),\n",
    "                              \n",
    "                              go.Bar(name='2-Year Median Earnings',\n",
    "                                    x=other_grouped['cip_code'],\n",
    "                                    y=other_grouped['earnings.highest.2_yr.overall_median_earnings'].round(-3),\n",
    "                                    opacity = opacity,\n",
    "                                    hovertext = other_grouped['CIPTitle'],\n",
    "                                    hovertemplate = \"<b>%{hovertext}</b><br><br>\" +\n",
    "                                     \"2-Year Median Earnings: $%{y}<br>\"+\"<extra></extra>\")\n",
    "                              \n",
    "                              \n",
    "                             ]\n",
    "                       )\n",
    "    grouped.update_layout(barmode='group', title='First and Second Year Post-Grad Median Earnings by CIP Code',\n",
    "                          xaxis_title = 'CIP Code',\n",
    "                          yaxis_title = 'Reported Post-Grad Earnings',\n",
    "                          template = 'ggplot2',\n",
    "                          legend={'traceorder':'normal', 'borderwidth':1, 'yanchor':'middle', 'y':1.02,\n",
    "                                  'xanchor':'right', 'x':0.99})\n",
    "    \n",
    "    return grouped\n",
    "\n",
    "sample_cips = get_rand_cips(bach_prog)\n",
    "\n",
    "highlight_cips = random.choices(sample_cips, k=random.choice(range(len(sample_cips))))\n",
    "\n",
    "year_grouped_bar(scorecard_data, sample_cips)"
   ]
  },
  {
   "cell_type": "code",
   "execution_count": 11,
   "id": "808fafc8",
   "metadata": {},
   "outputs": [
    {
     "data": {
      "application/vnd.plotly.v1+json": {
       "config": {
        "plotlyServerURL": "https://plot.ly"
       },
       "data": [
        {
         "hovertemplate": "<b>%{hovertext}</b><br><br>Median Nonmale Earnings: $%{y}<br><extra></extra>",
         "hovertext": [],
         "name": "(Selected) 1-Year Nonmale Median Earnings",
         "type": "bar",
         "x": [],
         "y": []
        },
        {
         "hovertemplate": "<b>%{hovertext}</b><br><br>Median Male Earnings: $%{y}<br><extra></extra>",
         "hovertext": [],
         "name": "(Selected) 1-Year Male Median Earnings",
         "type": "bar",
         "x": [],
         "y": []
        },
        {
         "hovertemplate": "<b>%{hovertext}</b><br><br>Median Nonmale Earnings: $%{y}<br><extra></extra>",
         "hovertext": [
          "Electrical, Electronics and Communications Engineering.",
          "Construction Engineering.",
          "Geological/Geophysical Engineering.",
          "Non-Professional General Legal Studies (Undergraduate).",
          "Science, Technology and Society.",
          "Multi/Interdisciplinary Studies, Other.",
          "Homeland Security, Law Enforcement, Firefighting and Related Protective Services, Other.",
          "Urban Studies/Affairs."
         ],
         "name": "1-Year Nonmale Median Earnings",
         "opacity": 1,
         "type": "bar",
         "x": [
          "14.10",
          "14.33",
          "14.39",
          "22.00",
          "30.15",
          "30.99",
          "43.99",
          "45.12"
         ],
         "y": [
          76000,
          null,
          59000,
          36000,
          37000,
          36000,
          44000,
          35000
         ]
        },
        {
         "hovertemplate": "<b>%{hovertext}</b><br><br>Median Male Earnings: $%{y}<br><extra></extra>",
         "hovertext": [
          "Electrical, Electronics and Communications Engineering.",
          "Construction Engineering.",
          "Geological/Geophysical Engineering.",
          "Non-Professional General Legal Studies (Undergraduate).",
          "Science, Technology and Society.",
          "Multi/Interdisciplinary Studies, Other.",
          "Homeland Security, Law Enforcement, Firefighting and Related Protective Services, Other.",
          "Urban Studies/Affairs."
         ],
         "name": "1-Year Male Median Earnings",
         "opacity": 1,
         "type": "bar",
         "x": [
          "14.10",
          "14.33",
          "14.39",
          "22.00",
          "30.15",
          "30.99",
          "43.99",
          "45.12"
         ],
         "y": [
          72000,
          72000,
          65000,
          35000,
          51000,
          41000,
          56000,
          39000
         ]
        }
       ],
       "layout": {
        "barmode": "group",
        "legend": {
         "borderwidth": 1,
         "traceorder": "normal",
         "x": 0.99,
         "xanchor": "right",
         "y": 1.02,
         "yanchor": "middle"
        },
        "template": {
         "data": {
          "bar": [
           {
            "error_x": {
             "color": "rgb(51,51,51)"
            },
            "error_y": {
             "color": "rgb(51,51,51)"
            },
            "marker": {
             "line": {
              "color": "rgb(237,237,237)",
              "width": 0.5
             },
             "pattern": {
              "fillmode": "overlay",
              "size": 10,
              "solidity": 0.2
             }
            },
            "type": "bar"
           }
          ],
          "barpolar": [
           {
            "marker": {
             "line": {
              "color": "rgb(237,237,237)",
              "width": 0.5
             },
             "pattern": {
              "fillmode": "overlay",
              "size": 10,
              "solidity": 0.2
             }
            },
            "type": "barpolar"
           }
          ],
          "carpet": [
           {
            "aaxis": {
             "endlinecolor": "rgb(51,51,51)",
             "gridcolor": "white",
             "linecolor": "white",
             "minorgridcolor": "white",
             "startlinecolor": "rgb(51,51,51)"
            },
            "baxis": {
             "endlinecolor": "rgb(51,51,51)",
             "gridcolor": "white",
             "linecolor": "white",
             "minorgridcolor": "white",
             "startlinecolor": "rgb(51,51,51)"
            },
            "type": "carpet"
           }
          ],
          "choropleth": [
           {
            "colorbar": {
             "outlinewidth": 0,
             "tickcolor": "rgb(237,237,237)",
             "ticklen": 6,
             "ticks": "inside"
            },
            "type": "choropleth"
           }
          ],
          "contour": [
           {
            "colorbar": {
             "outlinewidth": 0,
             "tickcolor": "rgb(237,237,237)",
             "ticklen": 6,
             "ticks": "inside"
            },
            "colorscale": [
             [
              0,
              "rgb(20,44,66)"
             ],
             [
              1,
              "rgb(90,179,244)"
             ]
            ],
            "type": "contour"
           }
          ],
          "contourcarpet": [
           {
            "colorbar": {
             "outlinewidth": 0,
             "tickcolor": "rgb(237,237,237)",
             "ticklen": 6,
             "ticks": "inside"
            },
            "type": "contourcarpet"
           }
          ],
          "heatmap": [
           {
            "colorbar": {
             "outlinewidth": 0,
             "tickcolor": "rgb(237,237,237)",
             "ticklen": 6,
             "ticks": "inside"
            },
            "colorscale": [
             [
              0,
              "rgb(20,44,66)"
             ],
             [
              1,
              "rgb(90,179,244)"
             ]
            ],
            "type": "heatmap"
           }
          ],
          "heatmapgl": [
           {
            "colorbar": {
             "outlinewidth": 0,
             "tickcolor": "rgb(237,237,237)",
             "ticklen": 6,
             "ticks": "inside"
            },
            "colorscale": [
             [
              0,
              "rgb(20,44,66)"
             ],
             [
              1,
              "rgb(90,179,244)"
             ]
            ],
            "type": "heatmapgl"
           }
          ],
          "histogram": [
           {
            "marker": {
             "pattern": {
              "fillmode": "overlay",
              "size": 10,
              "solidity": 0.2
             }
            },
            "type": "histogram"
           }
          ],
          "histogram2d": [
           {
            "colorbar": {
             "outlinewidth": 0,
             "tickcolor": "rgb(237,237,237)",
             "ticklen": 6,
             "ticks": "inside"
            },
            "colorscale": [
             [
              0,
              "rgb(20,44,66)"
             ],
             [
              1,
              "rgb(90,179,244)"
             ]
            ],
            "type": "histogram2d"
           }
          ],
          "histogram2dcontour": [
           {
            "colorbar": {
             "outlinewidth": 0,
             "tickcolor": "rgb(237,237,237)",
             "ticklen": 6,
             "ticks": "inside"
            },
            "colorscale": [
             [
              0,
              "rgb(20,44,66)"
             ],
             [
              1,
              "rgb(90,179,244)"
             ]
            ],
            "type": "histogram2dcontour"
           }
          ],
          "mesh3d": [
           {
            "colorbar": {
             "outlinewidth": 0,
             "tickcolor": "rgb(237,237,237)",
             "ticklen": 6,
             "ticks": "inside"
            },
            "type": "mesh3d"
           }
          ],
          "parcoords": [
           {
            "line": {
             "colorbar": {
              "outlinewidth": 0,
              "tickcolor": "rgb(237,237,237)",
              "ticklen": 6,
              "ticks": "inside"
             }
            },
            "type": "parcoords"
           }
          ],
          "pie": [
           {
            "automargin": true,
            "type": "pie"
           }
          ],
          "scatter": [
           {
            "fillpattern": {
             "fillmode": "overlay",
             "size": 10,
             "solidity": 0.2
            },
            "type": "scatter"
           }
          ],
          "scatter3d": [
           {
            "line": {
             "colorbar": {
              "outlinewidth": 0,
              "tickcolor": "rgb(237,237,237)",
              "ticklen": 6,
              "ticks": "inside"
             }
            },
            "marker": {
             "colorbar": {
              "outlinewidth": 0,
              "tickcolor": "rgb(237,237,237)",
              "ticklen": 6,
              "ticks": "inside"
             }
            },
            "type": "scatter3d"
           }
          ],
          "scattercarpet": [
           {
            "marker": {
             "colorbar": {
              "outlinewidth": 0,
              "tickcolor": "rgb(237,237,237)",
              "ticklen": 6,
              "ticks": "inside"
             }
            },
            "type": "scattercarpet"
           }
          ],
          "scattergeo": [
           {
            "marker": {
             "colorbar": {
              "outlinewidth": 0,
              "tickcolor": "rgb(237,237,237)",
              "ticklen": 6,
              "ticks": "inside"
             }
            },
            "type": "scattergeo"
           }
          ],
          "scattergl": [
           {
            "marker": {
             "colorbar": {
              "outlinewidth": 0,
              "tickcolor": "rgb(237,237,237)",
              "ticklen": 6,
              "ticks": "inside"
             }
            },
            "type": "scattergl"
           }
          ],
          "scattermapbox": [
           {
            "marker": {
             "colorbar": {
              "outlinewidth": 0,
              "tickcolor": "rgb(237,237,237)",
              "ticklen": 6,
              "ticks": "inside"
             }
            },
            "type": "scattermapbox"
           }
          ],
          "scatterpolar": [
           {
            "marker": {
             "colorbar": {
              "outlinewidth": 0,
              "tickcolor": "rgb(237,237,237)",
              "ticklen": 6,
              "ticks": "inside"
             }
            },
            "type": "scatterpolar"
           }
          ],
          "scatterpolargl": [
           {
            "marker": {
             "colorbar": {
              "outlinewidth": 0,
              "tickcolor": "rgb(237,237,237)",
              "ticklen": 6,
              "ticks": "inside"
             }
            },
            "type": "scatterpolargl"
           }
          ],
          "scatterternary": [
           {
            "marker": {
             "colorbar": {
              "outlinewidth": 0,
              "tickcolor": "rgb(237,237,237)",
              "ticklen": 6,
              "ticks": "inside"
             }
            },
            "type": "scatterternary"
           }
          ],
          "surface": [
           {
            "colorbar": {
             "outlinewidth": 0,
             "tickcolor": "rgb(237,237,237)",
             "ticklen": 6,
             "ticks": "inside"
            },
            "colorscale": [
             [
              0,
              "rgb(20,44,66)"
             ],
             [
              1,
              "rgb(90,179,244)"
             ]
            ],
            "type": "surface"
           }
          ],
          "table": [
           {
            "cells": {
             "fill": {
              "color": "rgb(237,237,237)"
             },
             "line": {
              "color": "white"
             }
            },
            "header": {
             "fill": {
              "color": "rgb(217,217,217)"
             },
             "line": {
              "color": "white"
             }
            },
            "type": "table"
           }
          ]
         },
         "layout": {
          "annotationdefaults": {
           "arrowhead": 0,
           "arrowwidth": 1
          },
          "autotypenumbers": "strict",
          "coloraxis": {
           "colorbar": {
            "outlinewidth": 0,
            "tickcolor": "rgb(237,237,237)",
            "ticklen": 6,
            "ticks": "inside"
           }
          },
          "colorscale": {
           "sequential": [
            [
             0,
             "rgb(20,44,66)"
            ],
            [
             1,
             "rgb(90,179,244)"
            ]
           ],
           "sequentialminus": [
            [
             0,
             "rgb(20,44,66)"
            ],
            [
             1,
             "rgb(90,179,244)"
            ]
           ]
          },
          "colorway": [
           "#F8766D",
           "#A3A500",
           "#00BF7D",
           "#00B0F6",
           "#E76BF3"
          ],
          "font": {
           "color": "rgb(51,51,51)"
          },
          "geo": {
           "bgcolor": "white",
           "lakecolor": "white",
           "landcolor": "rgb(237,237,237)",
           "showlakes": true,
           "showland": true,
           "subunitcolor": "white"
          },
          "hoverlabel": {
           "align": "left"
          },
          "hovermode": "closest",
          "paper_bgcolor": "white",
          "plot_bgcolor": "rgb(237,237,237)",
          "polar": {
           "angularaxis": {
            "gridcolor": "white",
            "linecolor": "white",
            "showgrid": true,
            "tickcolor": "rgb(51,51,51)",
            "ticks": "outside"
           },
           "bgcolor": "rgb(237,237,237)",
           "radialaxis": {
            "gridcolor": "white",
            "linecolor": "white",
            "showgrid": true,
            "tickcolor": "rgb(51,51,51)",
            "ticks": "outside"
           }
          },
          "scene": {
           "xaxis": {
            "backgroundcolor": "rgb(237,237,237)",
            "gridcolor": "white",
            "gridwidth": 2,
            "linecolor": "white",
            "showbackground": true,
            "showgrid": true,
            "tickcolor": "rgb(51,51,51)",
            "ticks": "outside",
            "zerolinecolor": "white"
           },
           "yaxis": {
            "backgroundcolor": "rgb(237,237,237)",
            "gridcolor": "white",
            "gridwidth": 2,
            "linecolor": "white",
            "showbackground": true,
            "showgrid": true,
            "tickcolor": "rgb(51,51,51)",
            "ticks": "outside",
            "zerolinecolor": "white"
           },
           "zaxis": {
            "backgroundcolor": "rgb(237,237,237)",
            "gridcolor": "white",
            "gridwidth": 2,
            "linecolor": "white",
            "showbackground": true,
            "showgrid": true,
            "tickcolor": "rgb(51,51,51)",
            "ticks": "outside",
            "zerolinecolor": "white"
           }
          },
          "shapedefaults": {
           "fillcolor": "black",
           "line": {
            "width": 0
           },
           "opacity": 0.3
          },
          "ternary": {
           "aaxis": {
            "gridcolor": "white",
            "linecolor": "white",
            "showgrid": true,
            "tickcolor": "rgb(51,51,51)",
            "ticks": "outside"
           },
           "baxis": {
            "gridcolor": "white",
            "linecolor": "white",
            "showgrid": true,
            "tickcolor": "rgb(51,51,51)",
            "ticks": "outside"
           },
           "bgcolor": "rgb(237,237,237)",
           "caxis": {
            "gridcolor": "white",
            "linecolor": "white",
            "showgrid": true,
            "tickcolor": "rgb(51,51,51)",
            "ticks": "outside"
           }
          },
          "xaxis": {
           "automargin": true,
           "gridcolor": "white",
           "linecolor": "white",
           "showgrid": true,
           "tickcolor": "rgb(51,51,51)",
           "ticks": "outside",
           "title": {
            "standoff": 15
           },
           "zerolinecolor": "white"
          },
          "yaxis": {
           "automargin": true,
           "gridcolor": "white",
           "linecolor": "white",
           "showgrid": true,
           "tickcolor": "rgb(51,51,51)",
           "ticks": "outside",
           "title": {
            "standoff": 15
           },
           "zerolinecolor": "white"
          }
         }
        },
        "title": {
         "text": "First Year Post-Grad Median Earnings (Male and Nonmale Graduates)"
        },
        "xaxis": {
         "title": {
          "text": "CIP Code"
         }
        },
        "yaxis": {
         "title": {
          "text": "Reported Post-Grad Earnings"
         }
        }
       }
      },
      "text/html": [
       "<div>                            <div id=\"7a10da85-d666-4a66-aadf-89c910ffdda9\" class=\"plotly-graph-div\" style=\"height:525px; width:100%;\"></div>            <script type=\"text/javascript\">                require([\"plotly\"], function(Plotly) {                    window.PLOTLYENV=window.PLOTLYENV || {};                                    if (document.getElementById(\"7a10da85-d666-4a66-aadf-89c910ffdda9\")) {                    Plotly.newPlot(                        \"7a10da85-d666-4a66-aadf-89c910ffdda9\",                        [{\"hovertemplate\":\"<b>%{hovertext}</b><br><br>Median Nonmale Earnings: $%{y}<br><extra></extra>\",\"hovertext\":[],\"name\":\"(Selected) 1-Year Nonmale Median Earnings\",\"x\":[],\"y\":[],\"type\":\"bar\"},{\"hovertemplate\":\"<b>%{hovertext}</b><br><br>Median Male Earnings: $%{y}<br><extra></extra>\",\"hovertext\":[],\"name\":\"(Selected) 1-Year Male Median Earnings\",\"x\":[],\"y\":[],\"type\":\"bar\"},{\"hovertemplate\":\"<b>%{hovertext}</b><br><br>Median Nonmale Earnings: $%{y}<br><extra></extra>\",\"hovertext\":[\"Electrical, Electronics and Communications Engineering.\",\"Construction Engineering.\",\"Geological/Geophysical Engineering.\",\"Non-Professional General Legal Studies (Undergraduate).\",\"Science, Technology and Society.\",\"Multi/Interdisciplinary Studies, Other.\",\"Homeland Security, Law Enforcement, Firefighting and Related Protective Services, Other.\",\"Urban Studies/Affairs.\"],\"name\":\"1-Year Nonmale Median Earnings\",\"opacity\":1.0,\"x\":[\"14.10\",\"14.33\",\"14.39\",\"22.00\",\"30.15\",\"30.99\",\"43.99\",\"45.12\"],\"y\":[76000.0,null,59000.0,36000.0,37000.0,36000.0,44000.0,35000.0],\"type\":\"bar\"},{\"hovertemplate\":\"<b>%{hovertext}</b><br><br>Median Male Earnings: $%{y}<br><extra></extra>\",\"hovertext\":[\"Electrical, Electronics and Communications Engineering.\",\"Construction Engineering.\",\"Geological/Geophysical Engineering.\",\"Non-Professional General Legal Studies (Undergraduate).\",\"Science, Technology and Society.\",\"Multi/Interdisciplinary Studies, Other.\",\"Homeland Security, Law Enforcement, Firefighting and Related Protective Services, Other.\",\"Urban Studies/Affairs.\"],\"name\":\"1-Year Male Median Earnings\",\"opacity\":1.0,\"x\":[\"14.10\",\"14.33\",\"14.39\",\"22.00\",\"30.15\",\"30.99\",\"43.99\",\"45.12\"],\"y\":[72000.0,72000.0,65000.0,35000.0,51000.0,41000.0,56000.0,39000.0],\"type\":\"bar\"}],                        {\"template\":{\"data\":{\"barpolar\":[{\"marker\":{\"line\":{\"color\":\"rgb(237,237,237)\",\"width\":0.5},\"pattern\":{\"fillmode\":\"overlay\",\"size\":10,\"solidity\":0.2}},\"type\":\"barpolar\"}],\"bar\":[{\"error_x\":{\"color\":\"rgb(51,51,51)\"},\"error_y\":{\"color\":\"rgb(51,51,51)\"},\"marker\":{\"line\":{\"color\":\"rgb(237,237,237)\",\"width\":0.5},\"pattern\":{\"fillmode\":\"overlay\",\"size\":10,\"solidity\":0.2}},\"type\":\"bar\"}],\"carpet\":[{\"aaxis\":{\"endlinecolor\":\"rgb(51,51,51)\",\"gridcolor\":\"white\",\"linecolor\":\"white\",\"minorgridcolor\":\"white\",\"startlinecolor\":\"rgb(51,51,51)\"},\"baxis\":{\"endlinecolor\":\"rgb(51,51,51)\",\"gridcolor\":\"white\",\"linecolor\":\"white\",\"minorgridcolor\":\"white\",\"startlinecolor\":\"rgb(51,51,51)\"},\"type\":\"carpet\"}],\"choropleth\":[{\"colorbar\":{\"outlinewidth\":0,\"tickcolor\":\"rgb(237,237,237)\",\"ticklen\":6,\"ticks\":\"inside\"},\"type\":\"choropleth\"}],\"contourcarpet\":[{\"colorbar\":{\"outlinewidth\":0,\"tickcolor\":\"rgb(237,237,237)\",\"ticklen\":6,\"ticks\":\"inside\"},\"type\":\"contourcarpet\"}],\"contour\":[{\"colorbar\":{\"outlinewidth\":0,\"tickcolor\":\"rgb(237,237,237)\",\"ticklen\":6,\"ticks\":\"inside\"},\"colorscale\":[[0,\"rgb(20,44,66)\"],[1,\"rgb(90,179,244)\"]],\"type\":\"contour\"}],\"heatmapgl\":[{\"colorbar\":{\"outlinewidth\":0,\"tickcolor\":\"rgb(237,237,237)\",\"ticklen\":6,\"ticks\":\"inside\"},\"colorscale\":[[0,\"rgb(20,44,66)\"],[1,\"rgb(90,179,244)\"]],\"type\":\"heatmapgl\"}],\"heatmap\":[{\"colorbar\":{\"outlinewidth\":0,\"tickcolor\":\"rgb(237,237,237)\",\"ticklen\":6,\"ticks\":\"inside\"},\"colorscale\":[[0,\"rgb(20,44,66)\"],[1,\"rgb(90,179,244)\"]],\"type\":\"heatmap\"}],\"histogram2dcontour\":[{\"colorbar\":{\"outlinewidth\":0,\"tickcolor\":\"rgb(237,237,237)\",\"ticklen\":6,\"ticks\":\"inside\"},\"colorscale\":[[0,\"rgb(20,44,66)\"],[1,\"rgb(90,179,244)\"]],\"type\":\"histogram2dcontour\"}],\"histogram2d\":[{\"colorbar\":{\"outlinewidth\":0,\"tickcolor\":\"rgb(237,237,237)\",\"ticklen\":6,\"ticks\":\"inside\"},\"colorscale\":[[0,\"rgb(20,44,66)\"],[1,\"rgb(90,179,244)\"]],\"type\":\"histogram2d\"}],\"histogram\":[{\"marker\":{\"pattern\":{\"fillmode\":\"overlay\",\"size\":10,\"solidity\":0.2}},\"type\":\"histogram\"}],\"mesh3d\":[{\"colorbar\":{\"outlinewidth\":0,\"tickcolor\":\"rgb(237,237,237)\",\"ticklen\":6,\"ticks\":\"inside\"},\"type\":\"mesh3d\"}],\"parcoords\":[{\"line\":{\"colorbar\":{\"outlinewidth\":0,\"tickcolor\":\"rgb(237,237,237)\",\"ticklen\":6,\"ticks\":\"inside\"}},\"type\":\"parcoords\"}],\"pie\":[{\"automargin\":true,\"type\":\"pie\"}],\"scatter3d\":[{\"line\":{\"colorbar\":{\"outlinewidth\":0,\"tickcolor\":\"rgb(237,237,237)\",\"ticklen\":6,\"ticks\":\"inside\"}},\"marker\":{\"colorbar\":{\"outlinewidth\":0,\"tickcolor\":\"rgb(237,237,237)\",\"ticklen\":6,\"ticks\":\"inside\"}},\"type\":\"scatter3d\"}],\"scattercarpet\":[{\"marker\":{\"colorbar\":{\"outlinewidth\":0,\"tickcolor\":\"rgb(237,237,237)\",\"ticklen\":6,\"ticks\":\"inside\"}},\"type\":\"scattercarpet\"}],\"scattergeo\":[{\"marker\":{\"colorbar\":{\"outlinewidth\":0,\"tickcolor\":\"rgb(237,237,237)\",\"ticklen\":6,\"ticks\":\"inside\"}},\"type\":\"scattergeo\"}],\"scattergl\":[{\"marker\":{\"colorbar\":{\"outlinewidth\":0,\"tickcolor\":\"rgb(237,237,237)\",\"ticklen\":6,\"ticks\":\"inside\"}},\"type\":\"scattergl\"}],\"scattermapbox\":[{\"marker\":{\"colorbar\":{\"outlinewidth\":0,\"tickcolor\":\"rgb(237,237,237)\",\"ticklen\":6,\"ticks\":\"inside\"}},\"type\":\"scattermapbox\"}],\"scatterpolargl\":[{\"marker\":{\"colorbar\":{\"outlinewidth\":0,\"tickcolor\":\"rgb(237,237,237)\",\"ticklen\":6,\"ticks\":\"inside\"}},\"type\":\"scatterpolargl\"}],\"scatterpolar\":[{\"marker\":{\"colorbar\":{\"outlinewidth\":0,\"tickcolor\":\"rgb(237,237,237)\",\"ticklen\":6,\"ticks\":\"inside\"}},\"type\":\"scatterpolar\"}],\"scatter\":[{\"fillpattern\":{\"fillmode\":\"overlay\",\"size\":10,\"solidity\":0.2},\"type\":\"scatter\"}],\"scatterternary\":[{\"marker\":{\"colorbar\":{\"outlinewidth\":0,\"tickcolor\":\"rgb(237,237,237)\",\"ticklen\":6,\"ticks\":\"inside\"}},\"type\":\"scatterternary\"}],\"surface\":[{\"colorbar\":{\"outlinewidth\":0,\"tickcolor\":\"rgb(237,237,237)\",\"ticklen\":6,\"ticks\":\"inside\"},\"colorscale\":[[0,\"rgb(20,44,66)\"],[1,\"rgb(90,179,244)\"]],\"type\":\"surface\"}],\"table\":[{\"cells\":{\"fill\":{\"color\":\"rgb(237,237,237)\"},\"line\":{\"color\":\"white\"}},\"header\":{\"fill\":{\"color\":\"rgb(217,217,217)\"},\"line\":{\"color\":\"white\"}},\"type\":\"table\"}]},\"layout\":{\"annotationdefaults\":{\"arrowhead\":0,\"arrowwidth\":1},\"autotypenumbers\":\"strict\",\"coloraxis\":{\"colorbar\":{\"outlinewidth\":0,\"tickcolor\":\"rgb(237,237,237)\",\"ticklen\":6,\"ticks\":\"inside\"}},\"colorscale\":{\"sequential\":[[0,\"rgb(20,44,66)\"],[1,\"rgb(90,179,244)\"]],\"sequentialminus\":[[0,\"rgb(20,44,66)\"],[1,\"rgb(90,179,244)\"]]},\"colorway\":[\"#F8766D\",\"#A3A500\",\"#00BF7D\",\"#00B0F6\",\"#E76BF3\"],\"font\":{\"color\":\"rgb(51,51,51)\"},\"geo\":{\"bgcolor\":\"white\",\"lakecolor\":\"white\",\"landcolor\":\"rgb(237,237,237)\",\"showlakes\":true,\"showland\":true,\"subunitcolor\":\"white\"},\"hoverlabel\":{\"align\":\"left\"},\"hovermode\":\"closest\",\"paper_bgcolor\":\"white\",\"plot_bgcolor\":\"rgb(237,237,237)\",\"polar\":{\"angularaxis\":{\"gridcolor\":\"white\",\"linecolor\":\"white\",\"showgrid\":true,\"tickcolor\":\"rgb(51,51,51)\",\"ticks\":\"outside\"},\"bgcolor\":\"rgb(237,237,237)\",\"radialaxis\":{\"gridcolor\":\"white\",\"linecolor\":\"white\",\"showgrid\":true,\"tickcolor\":\"rgb(51,51,51)\",\"ticks\":\"outside\"}},\"scene\":{\"xaxis\":{\"backgroundcolor\":\"rgb(237,237,237)\",\"gridcolor\":\"white\",\"gridwidth\":2,\"linecolor\":\"white\",\"showbackground\":true,\"showgrid\":true,\"tickcolor\":\"rgb(51,51,51)\",\"ticks\":\"outside\",\"zerolinecolor\":\"white\"},\"yaxis\":{\"backgroundcolor\":\"rgb(237,237,237)\",\"gridcolor\":\"white\",\"gridwidth\":2,\"linecolor\":\"white\",\"showbackground\":true,\"showgrid\":true,\"tickcolor\":\"rgb(51,51,51)\",\"ticks\":\"outside\",\"zerolinecolor\":\"white\"},\"zaxis\":{\"backgroundcolor\":\"rgb(237,237,237)\",\"gridcolor\":\"white\",\"gridwidth\":2,\"linecolor\":\"white\",\"showbackground\":true,\"showgrid\":true,\"tickcolor\":\"rgb(51,51,51)\",\"ticks\":\"outside\",\"zerolinecolor\":\"white\"}},\"shapedefaults\":{\"fillcolor\":\"black\",\"line\":{\"width\":0},\"opacity\":0.3},\"ternary\":{\"aaxis\":{\"gridcolor\":\"white\",\"linecolor\":\"white\",\"showgrid\":true,\"tickcolor\":\"rgb(51,51,51)\",\"ticks\":\"outside\"},\"baxis\":{\"gridcolor\":\"white\",\"linecolor\":\"white\",\"showgrid\":true,\"tickcolor\":\"rgb(51,51,51)\",\"ticks\":\"outside\"},\"bgcolor\":\"rgb(237,237,237)\",\"caxis\":{\"gridcolor\":\"white\",\"linecolor\":\"white\",\"showgrid\":true,\"tickcolor\":\"rgb(51,51,51)\",\"ticks\":\"outside\"}},\"xaxis\":{\"automargin\":true,\"gridcolor\":\"white\",\"linecolor\":\"white\",\"showgrid\":true,\"tickcolor\":\"rgb(51,51,51)\",\"ticks\":\"outside\",\"title\":{\"standoff\":15},\"zerolinecolor\":\"white\"},\"yaxis\":{\"automargin\":true,\"gridcolor\":\"white\",\"linecolor\":\"white\",\"showgrid\":true,\"tickcolor\":\"rgb(51,51,51)\",\"ticks\":\"outside\",\"title\":{\"standoff\":15},\"zerolinecolor\":\"white\"}}},\"legend\":{\"traceorder\":\"normal\",\"borderwidth\":1,\"yanchor\":\"middle\",\"y\":1.02,\"xanchor\":\"right\",\"x\":0.99},\"barmode\":\"group\",\"title\":{\"text\":\"First Year Post-Grad Median Earnings (Male and Nonmale Graduates)\"},\"xaxis\":{\"title\":{\"text\":\"CIP Code\"}},\"yaxis\":{\"title\":{\"text\":\"Reported Post-Grad Earnings\"}}},                        {\"responsive\": true}                    ).then(function(){\n",
       "                            \n",
       "var gd = document.getElementById('7a10da85-d666-4a66-aadf-89c910ffdda9');\n",
       "var x = new MutationObserver(function (mutations, observer) {{\n",
       "        var display = window.getComputedStyle(gd).display;\n",
       "        if (!display || display === 'none') {{\n",
       "            console.log([gd, 'removed!']);\n",
       "            Plotly.purge(gd);\n",
       "            observer.disconnect();\n",
       "        }}\n",
       "}});\n",
       "\n",
       "// Listen for the removal of the full notebook cells\n",
       "var notebookContainer = gd.closest('#notebook-container');\n",
       "if (notebookContainer) {{\n",
       "    x.observe(notebookContainer, {childList: true});\n",
       "}}\n",
       "\n",
       "// Listen for the clearing of the current output cell\n",
       "var outputEl = gd.closest('.output');\n",
       "if (outputEl) {{\n",
       "    x.observe(outputEl, {childList: true});\n",
       "}}\n",
       "\n",
       "                        })                };                });            </script>        </div>"
      ]
     },
     "metadata": {},
     "output_type": "display_data"
    }
   ],
   "source": [
    "def male_grouped_bar(scorecard_data, cip_list, selected_cips = []):\n",
    "    \n",
    "    fig_data = scorecard_data[scorecard_data['cip_code'].isin(cip_list)]\n",
    "    \n",
    "    selected_grouped = fig_data[fig_data['cip_code'].isin(selected_cips)]\n",
    "    \n",
    "    other_grouped = fig_data[~fig_data['cip_code'].isin(selected_cips)]\n",
    "    \n",
    "    if len(selected_grouped) == 0:\n",
    "        opacity = 1.0\n",
    "    else:\n",
    "        opacity = 0.25\n",
    "    \n",
    "    grouped = go.Figure(data=[go.Bar(name='(Selected) 1-Year Nonmale Median Earnings',\n",
    "                                    x=selected_grouped['cip_code'],\n",
    "                                    y=selected_grouped['earnings.highest.1_yr.nonmale_median_earnings'].round(-3),\n",
    "                                    hovertext = selected_grouped['CIPTitle'],\n",
    "                                    hovertemplate = \"<b>%{hovertext}</b><br><br>\" +\n",
    "                                     \"Median Nonmale Earnings: $%{y}<br>\"+\"<extra></extra>\"),\n",
    "                              \n",
    "                              go.Bar(name='(Selected) 1-Year Male Median Earnings',\n",
    "                                    x=selected_grouped['cip_code'],\n",
    "                                    y=selected_grouped['earnings.highest.1_yr.male_median_earnings'].round(-3),\n",
    "                                    hovertext = selected_grouped['CIPTitle'],\n",
    "                                    hovertemplate = \"<b>%{hovertext}</b><br><br>\" +\n",
    "                                     \"Median Male Earnings: $%{y}<br>\"+\"<extra></extra>\"),\n",
    "                              \n",
    "                              go.Bar(name='1-Year Nonmale Median Earnings',\n",
    "                                    x=other_grouped['cip_code'],\n",
    "                                    y=other_grouped['earnings.highest.1_yr.nonmale_median_earnings'].round(-3),\n",
    "                                    opacity = opacity,\n",
    "                                    hovertext = other_grouped['CIPTitle'],\n",
    "                                    hovertemplate = \"<b>%{hovertext}</b><br><br>\" +\n",
    "                                     \"Median Nonmale Earnings: $%{y}<br>\"+\"<extra></extra>\"),\n",
    "                              \n",
    "                              go.Bar(name='1-Year Male Median Earnings',\n",
    "                                    x=other_grouped['cip_code'],\n",
    "                                    y=other_grouped['earnings.highest.1_yr.male_median_earnings'].round(-3),\n",
    "                                    opacity = opacity,\n",
    "                                    hovertext = other_grouped['CIPTitle'],\n",
    "                                    hovertemplate = \"<b>%{hovertext}</b><br><br>\" +\n",
    "                                     \"Median Male Earnings: $%{y}<br>\"+\"<extra></extra>\")\n",
    "                              \n",
    "                              \n",
    "                             ]\n",
    "                       )\n",
    "    grouped.update_layout(barmode='group', title='First Year Post-Grad Median Earnings (Male and Nonmale Graduates)',\n",
    "                          xaxis_title = 'CIP Code',\n",
    "                          yaxis_title = 'Reported Post-Grad Earnings',\n",
    "                          template = 'ggplot2',\n",
    "                          legend={'traceorder':'normal', 'borderwidth':1, 'yanchor':'middle', 'y':1.02,\n",
    "                                  'xanchor':'right', 'x':0.99})\n",
    "    \n",
    "    return grouped\n",
    "\n",
    "sample_cips = get_rand_cips(bach_prog)\n",
    "\n",
    "highlight_cips = random.choices(sample_cips, k=random.choice(range(len(sample_cips))))\n",
    "\n",
    "male_grouped_bar(scorecard_data, sample_cips)"
   ]
  },
  {
   "cell_type": "code",
   "execution_count": 8,
   "id": "c6b3098c",
   "metadata": {},
   "outputs": [
    {
     "data": {
      "application/vnd.plotly.v1+json": {
       "config": {
        "plotlyServerURL": "https://plot.ly"
       },
       "data": [
        {
         "fill": "toself",
         "fillcolor": "maroon",
         "hoverinfo": "name",
         "line": {
          "color": "maroon"
         },
         "mode": "lines",
         "name": "Geological/Geophysical Engineering.",
         "opacity": 0.25,
         "showlegend": false,
         "type": "scatter",
         "x": [
          2016,
          2017,
          2018,
          2021,
          2021,
          2018,
          2017,
          2016
         ],
         "y": [
          56822,
          59363,
          59976,
          6961,
          5961,
          58976,
          58363,
          55822
         ]
        },
        {
         "hovertemplate": "<b>%{hovertext}</b><br><br>Year: %{x}<br>Mean Starting Salary: $%{y}<br><extra></extra>",
         "hovertext": [
          "Geological/Geophysical Engineering.",
          "Geological/Geophysical Engineering.",
          "Geological/Geophysical Engineering.",
          "Geological/Geophysical Engineering."
         ],
         "line": {
          "color": "maroon"
         },
         "mode": "lines+markers",
         "name": "14.39",
         "type": "scatter",
         "x": [
          2016,
          2017,
          2018,
          2021
         ],
         "y": [
          56000,
          59000,
          59000,
          6000
         ]
        },
        {
         "fill": "toself",
         "fillcolor": "fuchsia",
         "hoverinfo": "name",
         "line": {
          "color": "fuchsia"
         },
         "mode": "lines",
         "name": "Social Work.",
         "opacity": 0.25,
         "showlegend": false,
         "type": "scatter",
         "x": [
          2016,
          2017,
          2018,
          2020,
          2021,
          2021,
          2020,
          2018,
          2017,
          2016
         ],
         "y": [
          3839,
          33689,
          33234,
          36122,
          36875,
          35875,
          35122,
          32234,
          32689,
          2839
         ]
        },
        {
         "hovertemplate": "<b>%{hovertext}</b><br><br>Year: %{x}<br>Mean Starting Salary: $%{y}<br><extra></extra>",
         "hovertext": [
          "Social Work.",
          "Social Work.",
          "Social Work.",
          "Social Work.",
          "Social Work."
         ],
         "line": {
          "color": "fuchsia"
         },
         "mode": "lines+markers",
         "name": "44.07",
         "type": "scatter",
         "x": [
          2016,
          2017,
          2018,
          2020,
          2021
         ],
         "y": [
          3000,
          33000,
          33000,
          36000,
          36000
         ]
        },
        {
         "fill": "toself",
         "fillcolor": "green",
         "hoverinfo": "name",
         "line": {
          "color": "green"
         },
         "mode": "lines",
         "name": "Civil Engineering.",
         "opacity": 0.25,
         "showlegend": false,
         "type": "scatter",
         "x": [
          2016,
          2017,
          2018,
          2021,
          2021,
          2018,
          2017,
          2016
         ],
         "y": [
          6291,
          57995,
          58465,
          61814,
          60814,
          57465,
          56995,
          5291
         ]
        },
        {
         "hovertemplate": "<b>%{hovertext}</b><br><br>Year: %{x}<br>Mean Starting Salary: $%{y}<br><extra></extra>",
         "hovertext": [
          "Civil Engineering.",
          "Civil Engineering.",
          "Civil Engineering.",
          "Civil Engineering."
         ],
         "line": {
          "color": "green"
         },
         "mode": "lines+markers",
         "name": "14.08",
         "type": "scatter",
         "x": [
          2016,
          2017,
          2018,
          2021
         ],
         "y": [
          6000,
          57000,
          58000,
          61000
         ]
        },
        {
         "fill": "toself",
         "fillcolor": "black",
         "hoverinfo": "name",
         "line": {
          "color": "black"
         },
         "mode": "lines",
         "name": "Classics and Classical Languages, Literatures, and Linguistics.",
         "opacity": 0.25,
         "showlegend": false,
         "type": "scatter",
         "x": [
          2017,
          2018,
          2021,
          2021,
          2018,
          2017
         ],
         "y": [
          37929,
          40197,
          45824,
          44824,
          39197,
          36929
         ]
        },
        {
         "hovertemplate": "<b>%{hovertext}</b><br><br>Year: %{x}<br>Mean Starting Salary: $%{y}<br><extra></extra>",
         "hovertext": [
          "Classics and Classical Languages, Literatures, and Linguistics.",
          "Classics and Classical Languages, Literatures, and Linguistics.",
          "Classics and Classical Languages, Literatures, and Linguistics."
         ],
         "line": {
          "color": "black"
         },
         "mode": "lines+markers",
         "name": "16.12",
         "type": "scatter",
         "x": [
          2017,
          2018,
          2021
         ],
         "y": [
          37000,
          40000,
          45000
         ]
        },
        {
         "fill": "toself",
         "fillcolor": "red",
         "hoverinfo": "name",
         "line": {
          "color": "red"
         },
         "mode": "lines",
         "name": "Social Sciences, General.",
         "opacity": 0.25,
         "showlegend": false,
         "type": "scatter",
         "x": [
          2017,
          2018,
          2021,
          2021,
          2018,
          2017
         ],
         "y": [
          4841,
          45669,
          52136,
          51136,
          44669,
          3841
         ]
        },
        {
         "hovertemplate": "<b>%{hovertext}</b><br><br>Year: %{x}<br>Mean Starting Salary: $%{y}<br><extra></extra>",
         "hovertext": [
          "Social Sciences, General.",
          "Social Sciences, General.",
          "Social Sciences, General."
         ],
         "line": {
          "color": "red"
         },
         "mode": "lines+markers",
         "name": "45.01",
         "type": "scatter",
         "x": [
          2017,
          2018,
          2021
         ],
         "y": [
          4000,
          45000,
          52000
         ]
        },
        {
         "fill": "toself",
         "fillcolor": "lime",
         "hoverinfo": "name",
         "line": {
          "color": "lime"
         },
         "mode": "lines",
         "name": "Public Relations, Advertising, and Applied Communication.",
         "opacity": 0.25,
         "showlegend": false,
         "type": "scatter",
         "x": [
          2016,
          2017,
          2018,
          2020,
          2021,
          2021,
          2020,
          2018,
          2017,
          2016
         ],
         "y": [
          38662,
          39324,
          40416,
          4833,
          46056,
          45056,
          3833,
          39416,
          38324,
          37662
         ]
        },
        {
         "hovertemplate": "<b>%{hovertext}</b><br><br>Year: %{x}<br>Mean Starting Salary: $%{y}<br><extra></extra>",
         "hovertext": [
          "Public Relations, Advertising, and Applied Communication.",
          "Public Relations, Advertising, and Applied Communication.",
          "Public Relations, Advertising, and Applied Communication.",
          "Public Relations, Advertising, and Applied Communication.",
          "Public Relations, Advertising, and Applied Communication."
         ],
         "line": {
          "color": "lime"
         },
         "mode": "lines+markers",
         "name": "09.09",
         "type": "scatter",
         "x": [
          2016,
          2017,
          2018,
          2020,
          2021
         ],
         "y": [
          38000,
          39000,
          40000,
          4000,
          46000
         ]
        },
        {
         "fill": "toself",
         "fillcolor": "navy",
         "hoverinfo": "name",
         "line": {
          "color": "navy"
         },
         "mode": "lines",
         "name": "Ecology, Evolution, Systematics, and Population Biology.",
         "opacity": 0.25,
         "showlegend": false,
         "type": "scatter",
         "x": [
          2016,
          2017,
          2018,
          2021,
          2021,
          2018,
          2017,
          2016
         ],
         "y": [
          39396,
          40398,
          36035,
          41883,
          40883,
          35035,
          39398,
          38396
         ]
        },
        {
         "hovertemplate": "<b>%{hovertext}</b><br><br>Year: %{x}<br>Mean Starting Salary: $%{y}<br><extra></extra>",
         "hovertext": [
          "Ecology, Evolution, Systematics, and Population Biology.",
          "Ecology, Evolution, Systematics, and Population Biology.",
          "Ecology, Evolution, Systematics, and Population Biology.",
          "Ecology, Evolution, Systematics, and Population Biology."
         ],
         "line": {
          "color": "navy"
         },
         "mode": "lines+markers",
         "name": "26.13",
         "type": "scatter",
         "x": [
          2016,
          2017,
          2018,
          2021
         ],
         "y": [
          39000,
          40000,
          36000,
          41000
         ]
        },
        {
         "fill": "toself",
         "fillcolor": "yellow",
         "hoverinfo": "name",
         "line": {
          "color": "yellow"
         },
         "mode": "lines",
         "name": "Dietetics and Clinical Nutrition Services.",
         "opacity": 0.25,
         "showlegend": false,
         "type": "scatter",
         "x": [
          2016,
          2017,
          2018,
          2021,
          2021,
          2018,
          2017,
          2016
         ],
         "y": [
          39467,
          37262,
          35165,
          36724,
          35724,
          34165,
          36262,
          38467
         ]
        },
        {
         "hovertemplate": "<b>%{hovertext}</b><br><br>Year: %{x}<br>Mean Starting Salary: $%{y}<br><extra></extra>",
         "hovertext": [
          "Dietetics and Clinical Nutrition Services.",
          "Dietetics and Clinical Nutrition Services.",
          "Dietetics and Clinical Nutrition Services.",
          "Dietetics and Clinical Nutrition Services."
         ],
         "line": {
          "color": "yellow"
         },
         "mode": "lines+markers",
         "name": "51.31",
         "type": "scatter",
         "x": [
          2016,
          2017,
          2018,
          2021
         ],
         "y": [
          39000,
          37000,
          35000,
          36000
         ]
        }
       ],
       "layout": {
        "hoverlabel": {
         "namelength": -1
        },
        "legend": {
         "title": {
          "text": "CIP Code"
         }
        },
        "template": {
         "data": {
          "bar": [
           {
            "error_x": {
             "color": "rgb(51,51,51)"
            },
            "error_y": {
             "color": "rgb(51,51,51)"
            },
            "marker": {
             "line": {
              "color": "rgb(237,237,237)",
              "width": 0.5
             },
             "pattern": {
              "fillmode": "overlay",
              "size": 10,
              "solidity": 0.2
             }
            },
            "type": "bar"
           }
          ],
          "barpolar": [
           {
            "marker": {
             "line": {
              "color": "rgb(237,237,237)",
              "width": 0.5
             },
             "pattern": {
              "fillmode": "overlay",
              "size": 10,
              "solidity": 0.2
             }
            },
            "type": "barpolar"
           }
          ],
          "carpet": [
           {
            "aaxis": {
             "endlinecolor": "rgb(51,51,51)",
             "gridcolor": "white",
             "linecolor": "white",
             "minorgridcolor": "white",
             "startlinecolor": "rgb(51,51,51)"
            },
            "baxis": {
             "endlinecolor": "rgb(51,51,51)",
             "gridcolor": "white",
             "linecolor": "white",
             "minorgridcolor": "white",
             "startlinecolor": "rgb(51,51,51)"
            },
            "type": "carpet"
           }
          ],
          "choropleth": [
           {
            "colorbar": {
             "outlinewidth": 0,
             "tickcolor": "rgb(237,237,237)",
             "ticklen": 6,
             "ticks": "inside"
            },
            "type": "choropleth"
           }
          ],
          "contour": [
           {
            "colorbar": {
             "outlinewidth": 0,
             "tickcolor": "rgb(237,237,237)",
             "ticklen": 6,
             "ticks": "inside"
            },
            "colorscale": [
             [
              0,
              "rgb(20,44,66)"
             ],
             [
              1,
              "rgb(90,179,244)"
             ]
            ],
            "type": "contour"
           }
          ],
          "contourcarpet": [
           {
            "colorbar": {
             "outlinewidth": 0,
             "tickcolor": "rgb(237,237,237)",
             "ticklen": 6,
             "ticks": "inside"
            },
            "type": "contourcarpet"
           }
          ],
          "heatmap": [
           {
            "colorbar": {
             "outlinewidth": 0,
             "tickcolor": "rgb(237,237,237)",
             "ticklen": 6,
             "ticks": "inside"
            },
            "colorscale": [
             [
              0,
              "rgb(20,44,66)"
             ],
             [
              1,
              "rgb(90,179,244)"
             ]
            ],
            "type": "heatmap"
           }
          ],
          "heatmapgl": [
           {
            "colorbar": {
             "outlinewidth": 0,
             "tickcolor": "rgb(237,237,237)",
             "ticklen": 6,
             "ticks": "inside"
            },
            "colorscale": [
             [
              0,
              "rgb(20,44,66)"
             ],
             [
              1,
              "rgb(90,179,244)"
             ]
            ],
            "type": "heatmapgl"
           }
          ],
          "histogram": [
           {
            "marker": {
             "pattern": {
              "fillmode": "overlay",
              "size": 10,
              "solidity": 0.2
             }
            },
            "type": "histogram"
           }
          ],
          "histogram2d": [
           {
            "colorbar": {
             "outlinewidth": 0,
             "tickcolor": "rgb(237,237,237)",
             "ticklen": 6,
             "ticks": "inside"
            },
            "colorscale": [
             [
              0,
              "rgb(20,44,66)"
             ],
             [
              1,
              "rgb(90,179,244)"
             ]
            ],
            "type": "histogram2d"
           }
          ],
          "histogram2dcontour": [
           {
            "colorbar": {
             "outlinewidth": 0,
             "tickcolor": "rgb(237,237,237)",
             "ticklen": 6,
             "ticks": "inside"
            },
            "colorscale": [
             [
              0,
              "rgb(20,44,66)"
             ],
             [
              1,
              "rgb(90,179,244)"
             ]
            ],
            "type": "histogram2dcontour"
           }
          ],
          "mesh3d": [
           {
            "colorbar": {
             "outlinewidth": 0,
             "tickcolor": "rgb(237,237,237)",
             "ticklen": 6,
             "ticks": "inside"
            },
            "type": "mesh3d"
           }
          ],
          "parcoords": [
           {
            "line": {
             "colorbar": {
              "outlinewidth": 0,
              "tickcolor": "rgb(237,237,237)",
              "ticklen": 6,
              "ticks": "inside"
             }
            },
            "type": "parcoords"
           }
          ],
          "pie": [
           {
            "automargin": true,
            "type": "pie"
           }
          ],
          "scatter": [
           {
            "fillpattern": {
             "fillmode": "overlay",
             "size": 10,
             "solidity": 0.2
            },
            "type": "scatter"
           }
          ],
          "scatter3d": [
           {
            "line": {
             "colorbar": {
              "outlinewidth": 0,
              "tickcolor": "rgb(237,237,237)",
              "ticklen": 6,
              "ticks": "inside"
             }
            },
            "marker": {
             "colorbar": {
              "outlinewidth": 0,
              "tickcolor": "rgb(237,237,237)",
              "ticklen": 6,
              "ticks": "inside"
             }
            },
            "type": "scatter3d"
           }
          ],
          "scattercarpet": [
           {
            "marker": {
             "colorbar": {
              "outlinewidth": 0,
              "tickcolor": "rgb(237,237,237)",
              "ticklen": 6,
              "ticks": "inside"
             }
            },
            "type": "scattercarpet"
           }
          ],
          "scattergeo": [
           {
            "marker": {
             "colorbar": {
              "outlinewidth": 0,
              "tickcolor": "rgb(237,237,237)",
              "ticklen": 6,
              "ticks": "inside"
             }
            },
            "type": "scattergeo"
           }
          ],
          "scattergl": [
           {
            "marker": {
             "colorbar": {
              "outlinewidth": 0,
              "tickcolor": "rgb(237,237,237)",
              "ticklen": 6,
              "ticks": "inside"
             }
            },
            "type": "scattergl"
           }
          ],
          "scattermapbox": [
           {
            "marker": {
             "colorbar": {
              "outlinewidth": 0,
              "tickcolor": "rgb(237,237,237)",
              "ticklen": 6,
              "ticks": "inside"
             }
            },
            "type": "scattermapbox"
           }
          ],
          "scatterpolar": [
           {
            "marker": {
             "colorbar": {
              "outlinewidth": 0,
              "tickcolor": "rgb(237,237,237)",
              "ticklen": 6,
              "ticks": "inside"
             }
            },
            "type": "scatterpolar"
           }
          ],
          "scatterpolargl": [
           {
            "marker": {
             "colorbar": {
              "outlinewidth": 0,
              "tickcolor": "rgb(237,237,237)",
              "ticklen": 6,
              "ticks": "inside"
             }
            },
            "type": "scatterpolargl"
           }
          ],
          "scatterternary": [
           {
            "marker": {
             "colorbar": {
              "outlinewidth": 0,
              "tickcolor": "rgb(237,237,237)",
              "ticklen": 6,
              "ticks": "inside"
             }
            },
            "type": "scatterternary"
           }
          ],
          "surface": [
           {
            "colorbar": {
             "outlinewidth": 0,
             "tickcolor": "rgb(237,237,237)",
             "ticklen": 6,
             "ticks": "inside"
            },
            "colorscale": [
             [
              0,
              "rgb(20,44,66)"
             ],
             [
              1,
              "rgb(90,179,244)"
             ]
            ],
            "type": "surface"
           }
          ],
          "table": [
           {
            "cells": {
             "fill": {
              "color": "rgb(237,237,237)"
             },
             "line": {
              "color": "white"
             }
            },
            "header": {
             "fill": {
              "color": "rgb(217,217,217)"
             },
             "line": {
              "color": "white"
             }
            },
            "type": "table"
           }
          ]
         },
         "layout": {
          "annotationdefaults": {
           "arrowhead": 0,
           "arrowwidth": 1
          },
          "autotypenumbers": "strict",
          "coloraxis": {
           "colorbar": {
            "outlinewidth": 0,
            "tickcolor": "rgb(237,237,237)",
            "ticklen": 6,
            "ticks": "inside"
           }
          },
          "colorscale": {
           "sequential": [
            [
             0,
             "rgb(20,44,66)"
            ],
            [
             1,
             "rgb(90,179,244)"
            ]
           ],
           "sequentialminus": [
            [
             0,
             "rgb(20,44,66)"
            ],
            [
             1,
             "rgb(90,179,244)"
            ]
           ]
          },
          "colorway": [
           "#F8766D",
           "#A3A500",
           "#00BF7D",
           "#00B0F6",
           "#E76BF3"
          ],
          "font": {
           "color": "rgb(51,51,51)"
          },
          "geo": {
           "bgcolor": "white",
           "lakecolor": "white",
           "landcolor": "rgb(237,237,237)",
           "showlakes": true,
           "showland": true,
           "subunitcolor": "white"
          },
          "hoverlabel": {
           "align": "left"
          },
          "hovermode": "closest",
          "paper_bgcolor": "white",
          "plot_bgcolor": "rgb(237,237,237)",
          "polar": {
           "angularaxis": {
            "gridcolor": "white",
            "linecolor": "white",
            "showgrid": true,
            "tickcolor": "rgb(51,51,51)",
            "ticks": "outside"
           },
           "bgcolor": "rgb(237,237,237)",
           "radialaxis": {
            "gridcolor": "white",
            "linecolor": "white",
            "showgrid": true,
            "tickcolor": "rgb(51,51,51)",
            "ticks": "outside"
           }
          },
          "scene": {
           "xaxis": {
            "backgroundcolor": "rgb(237,237,237)",
            "gridcolor": "white",
            "gridwidth": 2,
            "linecolor": "white",
            "showbackground": true,
            "showgrid": true,
            "tickcolor": "rgb(51,51,51)",
            "ticks": "outside",
            "zerolinecolor": "white"
           },
           "yaxis": {
            "backgroundcolor": "rgb(237,237,237)",
            "gridcolor": "white",
            "gridwidth": 2,
            "linecolor": "white",
            "showbackground": true,
            "showgrid": true,
            "tickcolor": "rgb(51,51,51)",
            "ticks": "outside",
            "zerolinecolor": "white"
           },
           "zaxis": {
            "backgroundcolor": "rgb(237,237,237)",
            "gridcolor": "white",
            "gridwidth": 2,
            "linecolor": "white",
            "showbackground": true,
            "showgrid": true,
            "tickcolor": "rgb(51,51,51)",
            "ticks": "outside",
            "zerolinecolor": "white"
           }
          },
          "shapedefaults": {
           "fillcolor": "black",
           "line": {
            "width": 0
           },
           "opacity": 0.3
          },
          "ternary": {
           "aaxis": {
            "gridcolor": "white",
            "linecolor": "white",
            "showgrid": true,
            "tickcolor": "rgb(51,51,51)",
            "ticks": "outside"
           },
           "baxis": {
            "gridcolor": "white",
            "linecolor": "white",
            "showgrid": true,
            "tickcolor": "rgb(51,51,51)",
            "ticks": "outside"
           },
           "bgcolor": "rgb(237,237,237)",
           "caxis": {
            "gridcolor": "white",
            "linecolor": "white",
            "showgrid": true,
            "tickcolor": "rgb(51,51,51)",
            "ticks": "outside"
           }
          },
          "xaxis": {
           "automargin": true,
           "gridcolor": "white",
           "linecolor": "white",
           "showgrid": true,
           "tickcolor": "rgb(51,51,51)",
           "ticks": "outside",
           "title": {
            "standoff": 15
           },
           "zerolinecolor": "white"
          },
          "yaxis": {
           "automargin": true,
           "gridcolor": "white",
           "linecolor": "white",
           "showgrid": true,
           "tickcolor": "rgb(51,51,51)",
           "ticks": "outside",
           "title": {
            "standoff": 15
           },
           "zerolinecolor": "white"
          }
         }
        }
       }
      },
      "text/html": [
       "<div>                            <div id=\"6bdafb8e-ae88-4ece-b4ea-c27a5adb85d7\" class=\"plotly-graph-div\" style=\"height:525px; width:100%;\"></div>            <script type=\"text/javascript\">                require([\"plotly\"], function(Plotly) {                    window.PLOTLYENV=window.PLOTLYENV || {};                                    if (document.getElementById(\"6bdafb8e-ae88-4ece-b4ea-c27a5adb85d7\")) {                    Plotly.newPlot(                        \"6bdafb8e-ae88-4ece-b4ea-c27a5adb85d7\",                        [{\"fill\":\"toself\",\"fillcolor\":\"maroon\",\"hoverinfo\":\"name\",\"line\":{\"color\":\"maroon\"},\"mode\":\"lines\",\"name\":\"Geological/Geophysical Engineering.\",\"opacity\":0.25,\"showlegend\":false,\"x\":[2016,2017,2018,2021,2021,2018,2017,2016],\"y\":[56822,59363,59976,6961,5961,58976,58363,55822],\"type\":\"scatter\"},{\"hovertemplate\":\"<b>%{hovertext}</b><br><br>Year: %{x}<br>Mean Starting Salary: $%{y}<br><extra></extra>\",\"hovertext\":[\"Geological/Geophysical Engineering.\",\"Geological/Geophysical Engineering.\",\"Geological/Geophysical Engineering.\",\"Geological/Geophysical Engineering.\"],\"line\":{\"color\":\"maroon\"},\"mode\":\"lines+markers\",\"name\":\"14.39\",\"x\":[2016,2017,2018,2021],\"y\":[56000,59000,59000,6000],\"type\":\"scatter\"},{\"fill\":\"toself\",\"fillcolor\":\"fuchsia\",\"hoverinfo\":\"name\",\"line\":{\"color\":\"fuchsia\"},\"mode\":\"lines\",\"name\":\"Social Work.\",\"opacity\":0.25,\"showlegend\":false,\"x\":[2016,2017,2018,2020,2021,2021,2020,2018,2017,2016],\"y\":[3839,33689,33234,36122,36875,35875,35122,32234,32689,2839],\"type\":\"scatter\"},{\"hovertemplate\":\"<b>%{hovertext}</b><br><br>Year: %{x}<br>Mean Starting Salary: $%{y}<br><extra></extra>\",\"hovertext\":[\"Social Work.\",\"Social Work.\",\"Social Work.\",\"Social Work.\",\"Social Work.\"],\"line\":{\"color\":\"fuchsia\"},\"mode\":\"lines+markers\",\"name\":\"44.07\",\"x\":[2016,2017,2018,2020,2021],\"y\":[3000,33000,33000,36000,36000],\"type\":\"scatter\"},{\"fill\":\"toself\",\"fillcolor\":\"green\",\"hoverinfo\":\"name\",\"line\":{\"color\":\"green\"},\"mode\":\"lines\",\"name\":\"Civil Engineering.\",\"opacity\":0.25,\"showlegend\":false,\"x\":[2016,2017,2018,2021,2021,2018,2017,2016],\"y\":[6291,57995,58465,61814,60814,57465,56995,5291],\"type\":\"scatter\"},{\"hovertemplate\":\"<b>%{hovertext}</b><br><br>Year: %{x}<br>Mean Starting Salary: $%{y}<br><extra></extra>\",\"hovertext\":[\"Civil Engineering.\",\"Civil Engineering.\",\"Civil Engineering.\",\"Civil Engineering.\"],\"line\":{\"color\":\"green\"},\"mode\":\"lines+markers\",\"name\":\"14.08\",\"x\":[2016,2017,2018,2021],\"y\":[6000,57000,58000,61000],\"type\":\"scatter\"},{\"fill\":\"toself\",\"fillcolor\":\"black\",\"hoverinfo\":\"name\",\"line\":{\"color\":\"black\"},\"mode\":\"lines\",\"name\":\"Classics and Classical Languages, Literatures, and Linguistics.\",\"opacity\":0.25,\"showlegend\":false,\"x\":[2017,2018,2021,2021,2018,2017],\"y\":[37929,40197,45824,44824,39197,36929],\"type\":\"scatter\"},{\"hovertemplate\":\"<b>%{hovertext}</b><br><br>Year: %{x}<br>Mean Starting Salary: $%{y}<br><extra></extra>\",\"hovertext\":[\"Classics and Classical Languages, Literatures, and Linguistics.\",\"Classics and Classical Languages, Literatures, and Linguistics.\",\"Classics and Classical Languages, Literatures, and Linguistics.\"],\"line\":{\"color\":\"black\"},\"mode\":\"lines+markers\",\"name\":\"16.12\",\"x\":[2017,2018,2021],\"y\":[37000,40000,45000],\"type\":\"scatter\"},{\"fill\":\"toself\",\"fillcolor\":\"red\",\"hoverinfo\":\"name\",\"line\":{\"color\":\"red\"},\"mode\":\"lines\",\"name\":\"Social Sciences, General.\",\"opacity\":0.25,\"showlegend\":false,\"x\":[2017,2018,2021,2021,2018,2017],\"y\":[4841,45669,52136,51136,44669,3841],\"type\":\"scatter\"},{\"hovertemplate\":\"<b>%{hovertext}</b><br><br>Year: %{x}<br>Mean Starting Salary: $%{y}<br><extra></extra>\",\"hovertext\":[\"Social Sciences, General.\",\"Social Sciences, General.\",\"Social Sciences, General.\"],\"line\":{\"color\":\"red\"},\"mode\":\"lines+markers\",\"name\":\"45.01\",\"x\":[2017,2018,2021],\"y\":[4000,45000,52000],\"type\":\"scatter\"},{\"fill\":\"toself\",\"fillcolor\":\"lime\",\"hoverinfo\":\"name\",\"line\":{\"color\":\"lime\"},\"mode\":\"lines\",\"name\":\"Public Relations, Advertising, and Applied Communication.\",\"opacity\":0.25,\"showlegend\":false,\"x\":[2016,2017,2018,2020,2021,2021,2020,2018,2017,2016],\"y\":[38662,39324,40416,4833,46056,45056,3833,39416,38324,37662],\"type\":\"scatter\"},{\"hovertemplate\":\"<b>%{hovertext}</b><br><br>Year: %{x}<br>Mean Starting Salary: $%{y}<br><extra></extra>\",\"hovertext\":[\"Public Relations, Advertising, and Applied Communication.\",\"Public Relations, Advertising, and Applied Communication.\",\"Public Relations, Advertising, and Applied Communication.\",\"Public Relations, Advertising, and Applied Communication.\",\"Public Relations, Advertising, and Applied Communication.\"],\"line\":{\"color\":\"lime\"},\"mode\":\"lines+markers\",\"name\":\"09.09\",\"x\":[2016,2017,2018,2020,2021],\"y\":[38000,39000,40000,4000,46000],\"type\":\"scatter\"},{\"fill\":\"toself\",\"fillcolor\":\"navy\",\"hoverinfo\":\"name\",\"line\":{\"color\":\"navy\"},\"mode\":\"lines\",\"name\":\"Ecology, Evolution, Systematics, and Population Biology.\",\"opacity\":0.25,\"showlegend\":false,\"x\":[2016,2017,2018,2021,2021,2018,2017,2016],\"y\":[39396,40398,36035,41883,40883,35035,39398,38396],\"type\":\"scatter\"},{\"hovertemplate\":\"<b>%{hovertext}</b><br><br>Year: %{x}<br>Mean Starting Salary: $%{y}<br><extra></extra>\",\"hovertext\":[\"Ecology, Evolution, Systematics, and Population Biology.\",\"Ecology, Evolution, Systematics, and Population Biology.\",\"Ecology, Evolution, Systematics, and Population Biology.\",\"Ecology, Evolution, Systematics, and Population Biology.\"],\"line\":{\"color\":\"navy\"},\"mode\":\"lines+markers\",\"name\":\"26.13\",\"x\":[2016,2017,2018,2021],\"y\":[39000,40000,36000,41000],\"type\":\"scatter\"},{\"fill\":\"toself\",\"fillcolor\":\"yellow\",\"hoverinfo\":\"name\",\"line\":{\"color\":\"yellow\"},\"mode\":\"lines\",\"name\":\"Dietetics and Clinical Nutrition Services.\",\"opacity\":0.25,\"showlegend\":false,\"x\":[2016,2017,2018,2021,2021,2018,2017,2016],\"y\":[39467,37262,35165,36724,35724,34165,36262,38467],\"type\":\"scatter\"},{\"hovertemplate\":\"<b>%{hovertext}</b><br><br>Year: %{x}<br>Mean Starting Salary: $%{y}<br><extra></extra>\",\"hovertext\":[\"Dietetics and Clinical Nutrition Services.\",\"Dietetics and Clinical Nutrition Services.\",\"Dietetics and Clinical Nutrition Services.\",\"Dietetics and Clinical Nutrition Services.\"],\"line\":{\"color\":\"yellow\"},\"mode\":\"lines+markers\",\"name\":\"51.31\",\"x\":[2016,2017,2018,2021],\"y\":[39000,37000,35000,36000],\"type\":\"scatter\"}],                        {\"template\":{\"data\":{\"barpolar\":[{\"marker\":{\"line\":{\"color\":\"rgb(237,237,237)\",\"width\":0.5},\"pattern\":{\"fillmode\":\"overlay\",\"size\":10,\"solidity\":0.2}},\"type\":\"barpolar\"}],\"bar\":[{\"error_x\":{\"color\":\"rgb(51,51,51)\"},\"error_y\":{\"color\":\"rgb(51,51,51)\"},\"marker\":{\"line\":{\"color\":\"rgb(237,237,237)\",\"width\":0.5},\"pattern\":{\"fillmode\":\"overlay\",\"size\":10,\"solidity\":0.2}},\"type\":\"bar\"}],\"carpet\":[{\"aaxis\":{\"endlinecolor\":\"rgb(51,51,51)\",\"gridcolor\":\"white\",\"linecolor\":\"white\",\"minorgridcolor\":\"white\",\"startlinecolor\":\"rgb(51,51,51)\"},\"baxis\":{\"endlinecolor\":\"rgb(51,51,51)\",\"gridcolor\":\"white\",\"linecolor\":\"white\",\"minorgridcolor\":\"white\",\"startlinecolor\":\"rgb(51,51,51)\"},\"type\":\"carpet\"}],\"choropleth\":[{\"colorbar\":{\"outlinewidth\":0,\"tickcolor\":\"rgb(237,237,237)\",\"ticklen\":6,\"ticks\":\"inside\"},\"type\":\"choropleth\"}],\"contourcarpet\":[{\"colorbar\":{\"outlinewidth\":0,\"tickcolor\":\"rgb(237,237,237)\",\"ticklen\":6,\"ticks\":\"inside\"},\"type\":\"contourcarpet\"}],\"contour\":[{\"colorbar\":{\"outlinewidth\":0,\"tickcolor\":\"rgb(237,237,237)\",\"ticklen\":6,\"ticks\":\"inside\"},\"colorscale\":[[0,\"rgb(20,44,66)\"],[1,\"rgb(90,179,244)\"]],\"type\":\"contour\"}],\"heatmapgl\":[{\"colorbar\":{\"outlinewidth\":0,\"tickcolor\":\"rgb(237,237,237)\",\"ticklen\":6,\"ticks\":\"inside\"},\"colorscale\":[[0,\"rgb(20,44,66)\"],[1,\"rgb(90,179,244)\"]],\"type\":\"heatmapgl\"}],\"heatmap\":[{\"colorbar\":{\"outlinewidth\":0,\"tickcolor\":\"rgb(237,237,237)\",\"ticklen\":6,\"ticks\":\"inside\"},\"colorscale\":[[0,\"rgb(20,44,66)\"],[1,\"rgb(90,179,244)\"]],\"type\":\"heatmap\"}],\"histogram2dcontour\":[{\"colorbar\":{\"outlinewidth\":0,\"tickcolor\":\"rgb(237,237,237)\",\"ticklen\":6,\"ticks\":\"inside\"},\"colorscale\":[[0,\"rgb(20,44,66)\"],[1,\"rgb(90,179,244)\"]],\"type\":\"histogram2dcontour\"}],\"histogram2d\":[{\"colorbar\":{\"outlinewidth\":0,\"tickcolor\":\"rgb(237,237,237)\",\"ticklen\":6,\"ticks\":\"inside\"},\"colorscale\":[[0,\"rgb(20,44,66)\"],[1,\"rgb(90,179,244)\"]],\"type\":\"histogram2d\"}],\"histogram\":[{\"marker\":{\"pattern\":{\"fillmode\":\"overlay\",\"size\":10,\"solidity\":0.2}},\"type\":\"histogram\"}],\"mesh3d\":[{\"colorbar\":{\"outlinewidth\":0,\"tickcolor\":\"rgb(237,237,237)\",\"ticklen\":6,\"ticks\":\"inside\"},\"type\":\"mesh3d\"}],\"parcoords\":[{\"line\":{\"colorbar\":{\"outlinewidth\":0,\"tickcolor\":\"rgb(237,237,237)\",\"ticklen\":6,\"ticks\":\"inside\"}},\"type\":\"parcoords\"}],\"pie\":[{\"automargin\":true,\"type\":\"pie\"}],\"scatter3d\":[{\"line\":{\"colorbar\":{\"outlinewidth\":0,\"tickcolor\":\"rgb(237,237,237)\",\"ticklen\":6,\"ticks\":\"inside\"}},\"marker\":{\"colorbar\":{\"outlinewidth\":0,\"tickcolor\":\"rgb(237,237,237)\",\"ticklen\":6,\"ticks\":\"inside\"}},\"type\":\"scatter3d\"}],\"scattercarpet\":[{\"marker\":{\"colorbar\":{\"outlinewidth\":0,\"tickcolor\":\"rgb(237,237,237)\",\"ticklen\":6,\"ticks\":\"inside\"}},\"type\":\"scattercarpet\"}],\"scattergeo\":[{\"marker\":{\"colorbar\":{\"outlinewidth\":0,\"tickcolor\":\"rgb(237,237,237)\",\"ticklen\":6,\"ticks\":\"inside\"}},\"type\":\"scattergeo\"}],\"scattergl\":[{\"marker\":{\"colorbar\":{\"outlinewidth\":0,\"tickcolor\":\"rgb(237,237,237)\",\"ticklen\":6,\"ticks\":\"inside\"}},\"type\":\"scattergl\"}],\"scattermapbox\":[{\"marker\":{\"colorbar\":{\"outlinewidth\":0,\"tickcolor\":\"rgb(237,237,237)\",\"ticklen\":6,\"ticks\":\"inside\"}},\"type\":\"scattermapbox\"}],\"scatterpolargl\":[{\"marker\":{\"colorbar\":{\"outlinewidth\":0,\"tickcolor\":\"rgb(237,237,237)\",\"ticklen\":6,\"ticks\":\"inside\"}},\"type\":\"scatterpolargl\"}],\"scatterpolar\":[{\"marker\":{\"colorbar\":{\"outlinewidth\":0,\"tickcolor\":\"rgb(237,237,237)\",\"ticklen\":6,\"ticks\":\"inside\"}},\"type\":\"scatterpolar\"}],\"scatter\":[{\"fillpattern\":{\"fillmode\":\"overlay\",\"size\":10,\"solidity\":0.2},\"type\":\"scatter\"}],\"scatterternary\":[{\"marker\":{\"colorbar\":{\"outlinewidth\":0,\"tickcolor\":\"rgb(237,237,237)\",\"ticklen\":6,\"ticks\":\"inside\"}},\"type\":\"scatterternary\"}],\"surface\":[{\"colorbar\":{\"outlinewidth\":0,\"tickcolor\":\"rgb(237,237,237)\",\"ticklen\":6,\"ticks\":\"inside\"},\"colorscale\":[[0,\"rgb(20,44,66)\"],[1,\"rgb(90,179,244)\"]],\"type\":\"surface\"}],\"table\":[{\"cells\":{\"fill\":{\"color\":\"rgb(237,237,237)\"},\"line\":{\"color\":\"white\"}},\"header\":{\"fill\":{\"color\":\"rgb(217,217,217)\"},\"line\":{\"color\":\"white\"}},\"type\":\"table\"}]},\"layout\":{\"annotationdefaults\":{\"arrowhead\":0,\"arrowwidth\":1},\"autotypenumbers\":\"strict\",\"coloraxis\":{\"colorbar\":{\"outlinewidth\":0,\"tickcolor\":\"rgb(237,237,237)\",\"ticklen\":6,\"ticks\":\"inside\"}},\"colorscale\":{\"sequential\":[[0,\"rgb(20,44,66)\"],[1,\"rgb(90,179,244)\"]],\"sequentialminus\":[[0,\"rgb(20,44,66)\"],[1,\"rgb(90,179,244)\"]]},\"colorway\":[\"#F8766D\",\"#A3A500\",\"#00BF7D\",\"#00B0F6\",\"#E76BF3\"],\"font\":{\"color\":\"rgb(51,51,51)\"},\"geo\":{\"bgcolor\":\"white\",\"lakecolor\":\"white\",\"landcolor\":\"rgb(237,237,237)\",\"showlakes\":true,\"showland\":true,\"subunitcolor\":\"white\"},\"hoverlabel\":{\"align\":\"left\"},\"hovermode\":\"closest\",\"paper_bgcolor\":\"white\",\"plot_bgcolor\":\"rgb(237,237,237)\",\"polar\":{\"angularaxis\":{\"gridcolor\":\"white\",\"linecolor\":\"white\",\"showgrid\":true,\"tickcolor\":\"rgb(51,51,51)\",\"ticks\":\"outside\"},\"bgcolor\":\"rgb(237,237,237)\",\"radialaxis\":{\"gridcolor\":\"white\",\"linecolor\":\"white\",\"showgrid\":true,\"tickcolor\":\"rgb(51,51,51)\",\"ticks\":\"outside\"}},\"scene\":{\"xaxis\":{\"backgroundcolor\":\"rgb(237,237,237)\",\"gridcolor\":\"white\",\"gridwidth\":2,\"linecolor\":\"white\",\"showbackground\":true,\"showgrid\":true,\"tickcolor\":\"rgb(51,51,51)\",\"ticks\":\"outside\",\"zerolinecolor\":\"white\"},\"yaxis\":{\"backgroundcolor\":\"rgb(237,237,237)\",\"gridcolor\":\"white\",\"gridwidth\":2,\"linecolor\":\"white\",\"showbackground\":true,\"showgrid\":true,\"tickcolor\":\"rgb(51,51,51)\",\"ticks\":\"outside\",\"zerolinecolor\":\"white\"},\"zaxis\":{\"backgroundcolor\":\"rgb(237,237,237)\",\"gridcolor\":\"white\",\"gridwidth\":2,\"linecolor\":\"white\",\"showbackground\":true,\"showgrid\":true,\"tickcolor\":\"rgb(51,51,51)\",\"ticks\":\"outside\",\"zerolinecolor\":\"white\"}},\"shapedefaults\":{\"fillcolor\":\"black\",\"line\":{\"width\":0},\"opacity\":0.3},\"ternary\":{\"aaxis\":{\"gridcolor\":\"white\",\"linecolor\":\"white\",\"showgrid\":true,\"tickcolor\":\"rgb(51,51,51)\",\"ticks\":\"outside\"},\"baxis\":{\"gridcolor\":\"white\",\"linecolor\":\"white\",\"showgrid\":true,\"tickcolor\":\"rgb(51,51,51)\",\"ticks\":\"outside\"},\"bgcolor\":\"rgb(237,237,237)\",\"caxis\":{\"gridcolor\":\"white\",\"linecolor\":\"white\",\"showgrid\":true,\"tickcolor\":\"rgb(51,51,51)\",\"ticks\":\"outside\"}},\"xaxis\":{\"automargin\":true,\"gridcolor\":\"white\",\"linecolor\":\"white\",\"showgrid\":true,\"tickcolor\":\"rgb(51,51,51)\",\"ticks\":\"outside\",\"title\":{\"standoff\":15},\"zerolinecolor\":\"white\"},\"yaxis\":{\"automargin\":true,\"gridcolor\":\"white\",\"linecolor\":\"white\",\"showgrid\":true,\"tickcolor\":\"rgb(51,51,51)\",\"ticks\":\"outside\",\"title\":{\"standoff\":15},\"zerolinecolor\":\"white\"}}},\"hoverlabel\":{\"namelength\":-1},\"legend\":{\"title\":{\"text\":\"CIP Code\"}}},                        {\"responsive\": true}                    ).then(function(){\n",
       "                            \n",
       "var gd = document.getElementById('6bdafb8e-ae88-4ece-b4ea-c27a5adb85d7');\n",
       "var x = new MutationObserver(function (mutations, observer) {{\n",
       "        var display = window.getComputedStyle(gd).display;\n",
       "        if (!display || display === 'none') {{\n",
       "            console.log([gd, 'removed!']);\n",
       "            Plotly.purge(gd);\n",
       "            observer.disconnect();\n",
       "        }}\n",
       "}});\n",
       "\n",
       "// Listen for the removal of the full notebook cells\n",
       "var notebookContainer = gd.closest('#notebook-container');\n",
       "if (notebookContainer) {{\n",
       "    x.observe(notebookContainer, {childList: true});\n",
       "}}\n",
       "\n",
       "// Listen for the clearing of the current output cell\n",
       "var outputEl = gd.closest('.output');\n",
       "if (outputEl) {{\n",
       "    x.observe(outputEl, {childList: true});\n",
       "}}\n",
       "\n",
       "                        })                };                });            </script>        </div>"
      ]
     },
     "metadata": {},
     "output_type": "display_data"
    }
   ],
   "source": [
    "## HIGHLIGHT WITH CIP NAME, MAYBE CHANGE LINE WIDTH\n",
    "import numpy as np\n",
    "\n",
    "def reg_salary(prog_data, cip_list):\n",
    "    \n",
    "    fig_data = prog_data[prog_data['cip_code'].isin(cip_list)]\n",
    "    \n",
    "    salary = go.Figure()\n",
    "    \n",
    "    colors = ['maroon', 'fuchsia', 'green', 'black', 'red', 'lime', 'navy', \n",
    "              'yellow', 'olive', 'blue', 'teal', 'aqua', 'silver', 'gray']\n",
    "    \n",
    "    for i, cip in enumerate(cip_list):\n",
    "        cip_data = fig_data[fig_data['cip_code'] == cip].sort_values(by=['year'])\n",
    "        cip_data['cip_upper'] = cip_data['mean_starting_salary'] + 500\n",
    "        cip_data['cip_lower'] = cip_data['mean_starting_salary'] - 500\n",
    "        \n",
    "        cip_title = cip_data.iloc[0]['CIPTitle']\n",
    "        \n",
    "        year_bounds = list(cip_data['year']) + list(cip_data['year'])[::-1]\n",
    "        salary_bounds = list(cip_data['cip_upper']) + list(cip_data['cip_lower'])[::-1]\n",
    "        \n",
    "        salary.add_trace(go.Scatter(name = cip_title,\n",
    "                                    x = year_bounds,\n",
    "                                    y = salary_bounds,\n",
    "                                    mode = 'lines',\n",
    "                                    hoverinfo = 'name',#\"%{name}<extra></extra>\",\n",
    "                                    fill = 'toself',\n",
    "                                    fillcolor = colors[i],\n",
    "                                    line_color = colors[i],\n",
    "                                    showlegend = False,\n",
    "                                    opacity = 0.25)\n",
    "                        )\n",
    "        \n",
    "        salary.add_trace(go.Scatter(name = cip,\n",
    "                                    x = cip_data['year'],\n",
    "                                    y = cip_data['mean_starting_salary'].round(-3),\n",
    "                                    mode = 'lines+markers',\n",
    "                                    line_color = colors[i],\n",
    "                                    hovertext = cip_data['CIPTitle'],\n",
    "                                    hovertemplate = \"<b>%{hovertext}</b><br><br>\" + \"Year: %{x}<br>\" +\n",
    "                                                    \"Mean Starting Salary: $%{y}<br>\"+\"<extra></extra>\")\n",
    "                        )\n",
    "    \n",
    "    salary.update_layout(template = 'ggplot2', legend_title = 'CIP Code', hoverlabel=dict(namelength=-1))\n",
    "    \n",
    "    return salary\n",
    "\n",
    "sample_cips = get_rand_cips(bach_prog, 8)\n",
    "\n",
    "reg_salary(bach_prog, sample_cips).show()"
   ]
  },
  {
   "cell_type": "code",
   "execution_count": 49,
   "id": "5818b0c0",
   "metadata": {},
   "outputs": [],
   "source": [
    "#bach_prog.to_csv('pdf_merged.csv')"
   ]
  },
  {
   "cell_type": "code",
   "execution_count": 89,
   "id": "0634e23a",
   "metadata": {},
   "outputs": [],
   "source": [
    "#scorecard_data.to_csv('scorecard_merged.csv')"
   ]
  },
  {
   "cell_type": "code",
   "execution_count": 86,
   "id": "d3a48944",
   "metadata": {},
   "outputs": [
    {
     "data": {
      "text/html": [
       "<div>\n",
       "<style scoped>\n",
       "    .dataframe tbody tr th:only-of-type {\n",
       "        vertical-align: middle;\n",
       "    }\n",
       "\n",
       "    .dataframe tbody tr th {\n",
       "        vertical-align: top;\n",
       "    }\n",
       "\n",
       "    .dataframe thead th {\n",
       "        text-align: right;\n",
       "    }\n",
       "</style>\n",
       "<table border=\"1\" class=\"dataframe\">\n",
       "  <thead>\n",
       "    <tr style=\"text-align: right;\">\n",
       "      <th></th>\n",
       "      <th>cip_code</th>\n",
       "      <th>earnings.highest.1_yr.male_median_earnings</th>\n",
       "      <th>earnings.highest.1_yr.nonmale_median_earnings</th>\n",
       "      <th>earnings.highest.1_yr.overall_median_earnings</th>\n",
       "      <th>earnings.highest.3_yr.male_median_earnings</th>\n",
       "      <th>earnings.highest.3_yr.nonmale_median_earnings</th>\n",
       "      <th>earnings.highest.2_yr.overall_median_earnings</th>\n",
       "      <th>CIPCode</th>\n",
       "      <th>CIPTitle</th>\n",
       "    </tr>\n",
       "  </thead>\n",
       "  <tbody>\n",
       "    <tr>\n",
       "      <th>0</th>\n",
       "      <td>01.00</td>\n",
       "      <td>40786.133333</td>\n",
       "      <td>33450.777778</td>\n",
       "      <td>37245.885057</td>\n",
       "      <td>44577.884615</td>\n",
       "      <td>36479.083333</td>\n",
       "      <td>36284.225862</td>\n",
       "      <td>01.00</td>\n",
       "      <td>Agriculture, General.</td>\n",
       "    </tr>\n",
       "    <tr>\n",
       "      <th>1</th>\n",
       "      <td>01.01</td>\n",
       "      <td>45522.136765</td>\n",
       "      <td>41171.573333</td>\n",
       "      <td>42977.276389</td>\n",
       "      <td>52745.035714</td>\n",
       "      <td>48119.102273</td>\n",
       "      <td>42363.455492</td>\n",
       "      <td>01.01</td>\n",
       "      <td>Agricultural Business and Management.</td>\n",
       "    </tr>\n",
       "    <tr>\n",
       "      <th>2</th>\n",
       "      <td>01.02</td>\n",
       "      <td>47853.916667</td>\n",
       "      <td>NaN</td>\n",
       "      <td>46811.097222</td>\n",
       "      <td>54657.759259</td>\n",
       "      <td>NaN</td>\n",
       "      <td>46732.625000</td>\n",
       "      <td>01.02</td>\n",
       "      <td>Agricultural Mechanization.</td>\n",
       "    </tr>\n",
       "    <tr>\n",
       "      <th>3</th>\n",
       "      <td>01.03</td>\n",
       "      <td>37155.181818</td>\n",
       "      <td>24697.818182</td>\n",
       "      <td>31324.658730</td>\n",
       "      <td>43029.100000</td>\n",
       "      <td>30610.388889</td>\n",
       "      <td>32066.041667</td>\n",
       "      <td>01.03</td>\n",
       "      <td>Agricultural Production Operations.</td>\n",
       "    </tr>\n",
       "    <tr>\n",
       "      <th>4</th>\n",
       "      <td>01.04</td>\n",
       "      <td>68447.000000</td>\n",
       "      <td>64981.000000</td>\n",
       "      <td>54205.500000</td>\n",
       "      <td>78507.000000</td>\n",
       "      <td>NaN</td>\n",
       "      <td>48990.333333</td>\n",
       "      <td>01.04</td>\n",
       "      <td>Agricultural and Food Products Processing.</td>\n",
       "    </tr>\n",
       "    <tr>\n",
       "      <th>...</th>\n",
       "      <td>...</td>\n",
       "      <td>...</td>\n",
       "      <td>...</td>\n",
       "      <td>...</td>\n",
       "      <td>...</td>\n",
       "      <td>...</td>\n",
       "      <td>...</td>\n",
       "      <td>...</td>\n",
       "      <td>...</td>\n",
       "    </tr>\n",
       "    <tr>\n",
       "      <th>394</th>\n",
       "      <td>60.01</td>\n",
       "      <td>158924.000000</td>\n",
       "      <td>NaN</td>\n",
       "      <td>190365.500000</td>\n",
       "      <td>184245.000000</td>\n",
       "      <td>NaN</td>\n",
       "      <td>182336.333333</td>\n",
       "      <td>60.01</td>\n",
       "      <td>Dental Residency Programs.</td>\n",
       "    </tr>\n",
       "    <tr>\n",
       "      <th>395</th>\n",
       "      <td>60.03</td>\n",
       "      <td>NaN</td>\n",
       "      <td>NaN</td>\n",
       "      <td>NaN</td>\n",
       "      <td>NaN</td>\n",
       "      <td>NaN</td>\n",
       "      <td>NaN</td>\n",
       "      <td>60.03</td>\n",
       "      <td>Veterinary Residency Programs.</td>\n",
       "    </tr>\n",
       "    <tr>\n",
       "      <th>396</th>\n",
       "      <td>60.04</td>\n",
       "      <td>NaN</td>\n",
       "      <td>NaN</td>\n",
       "      <td>NaN</td>\n",
       "      <td>NaN</td>\n",
       "      <td>NaN</td>\n",
       "      <td>NaN</td>\n",
       "      <td>60.04</td>\n",
       "      <td>Medical Residency Programs - General Certifica...</td>\n",
       "    </tr>\n",
       "    <tr>\n",
       "      <th>397</th>\n",
       "      <td>60.05</td>\n",
       "      <td>NaN</td>\n",
       "      <td>NaN</td>\n",
       "      <td>NaN</td>\n",
       "      <td>NaN</td>\n",
       "      <td>NaN</td>\n",
       "      <td>NaN</td>\n",
       "      <td>60.05</td>\n",
       "      <td>Medical Residency Programs - Subspecialty Cert...</td>\n",
       "    </tr>\n",
       "    <tr>\n",
       "      <th>398</th>\n",
       "      <td>61.26</td>\n",
       "      <td>NaN</td>\n",
       "      <td>NaN</td>\n",
       "      <td>NaN</td>\n",
       "      <td>NaN</td>\n",
       "      <td>NaN</td>\n",
       "      <td>NaN</td>\n",
       "      <td>NaN</td>\n",
       "      <td>NaN</td>\n",
       "    </tr>\n",
       "  </tbody>\n",
       "</table>\n",
       "<p>399 rows × 9 columns</p>\n",
       "</div>"
      ],
      "text/plain": [
       "    cip_code  earnings.highest.1_yr.male_median_earnings  \\\n",
       "0      01.00                                40786.133333   \n",
       "1      01.01                                45522.136765   \n",
       "2      01.02                                47853.916667   \n",
       "3      01.03                                37155.181818   \n",
       "4      01.04                                68447.000000   \n",
       "..       ...                                         ...   \n",
       "394    60.01                               158924.000000   \n",
       "395    60.03                                         NaN   \n",
       "396    60.04                                         NaN   \n",
       "397    60.05                                         NaN   \n",
       "398    61.26                                         NaN   \n",
       "\n",
       "     earnings.highest.1_yr.nonmale_median_earnings  \\\n",
       "0                                     33450.777778   \n",
       "1                                     41171.573333   \n",
       "2                                              NaN   \n",
       "3                                     24697.818182   \n",
       "4                                     64981.000000   \n",
       "..                                             ...   \n",
       "394                                            NaN   \n",
       "395                                            NaN   \n",
       "396                                            NaN   \n",
       "397                                            NaN   \n",
       "398                                            NaN   \n",
       "\n",
       "     earnings.highest.1_yr.overall_median_earnings  \\\n",
       "0                                     37245.885057   \n",
       "1                                     42977.276389   \n",
       "2                                     46811.097222   \n",
       "3                                     31324.658730   \n",
       "4                                     54205.500000   \n",
       "..                                             ...   \n",
       "394                                  190365.500000   \n",
       "395                                            NaN   \n",
       "396                                            NaN   \n",
       "397                                            NaN   \n",
       "398                                            NaN   \n",
       "\n",
       "     earnings.highest.3_yr.male_median_earnings  \\\n",
       "0                                  44577.884615   \n",
       "1                                  52745.035714   \n",
       "2                                  54657.759259   \n",
       "3                                  43029.100000   \n",
       "4                                  78507.000000   \n",
       "..                                          ...   \n",
       "394                               184245.000000   \n",
       "395                                         NaN   \n",
       "396                                         NaN   \n",
       "397                                         NaN   \n",
       "398                                         NaN   \n",
       "\n",
       "     earnings.highest.3_yr.nonmale_median_earnings  \\\n",
       "0                                     36479.083333   \n",
       "1                                     48119.102273   \n",
       "2                                              NaN   \n",
       "3                                     30610.388889   \n",
       "4                                              NaN   \n",
       "..                                             ...   \n",
       "394                                            NaN   \n",
       "395                                            NaN   \n",
       "396                                            NaN   \n",
       "397                                            NaN   \n",
       "398                                            NaN   \n",
       "\n",
       "     earnings.highest.2_yr.overall_median_earnings CIPCode  \\\n",
       "0                                     36284.225862   01.00   \n",
       "1                                     42363.455492   01.01   \n",
       "2                                     46732.625000   01.02   \n",
       "3                                     32066.041667   01.03   \n",
       "4                                     48990.333333   01.04   \n",
       "..                                             ...     ...   \n",
       "394                                  182336.333333   60.01   \n",
       "395                                            NaN   60.03   \n",
       "396                                            NaN   60.04   \n",
       "397                                            NaN   60.05   \n",
       "398                                            NaN     NaN   \n",
       "\n",
       "                                              CIPTitle  \n",
       "0                                Agriculture, General.  \n",
       "1                Agricultural Business and Management.  \n",
       "2                          Agricultural Mechanization.  \n",
       "3                  Agricultural Production Operations.  \n",
       "4           Agricultural and Food Products Processing.  \n",
       "..                                                 ...  \n",
       "394                         Dental Residency Programs.  \n",
       "395                     Veterinary Residency Programs.  \n",
       "396  Medical Residency Programs - General Certifica...  \n",
       "397  Medical Residency Programs - Subspecialty Cert...  \n",
       "398                                                NaN  \n",
       "\n",
       "[399 rows x 9 columns]"
      ]
     },
     "execution_count": 86,
     "metadata": {},
     "output_type": "execute_result"
    }
   ],
   "source": [
    "# scorecard_data = scorecard_data.merge(cip_summary[['CIPCode', 'CIPTitle']], how='left', left_on='cip_code', right_on='CIPCode')\n",
    "# scorecard_data"
   ]
  },
  {
   "cell_type": "code",
   "execution_count": null,
   "id": "9edcd63a",
   "metadata": {},
   "outputs": [],
   "source": []
  }
 ],
 "metadata": {
  "kernelspec": {
   "display_name": "Python 3 (ipykernel)",
   "language": "python",
   "name": "python3"
  },
  "language_info": {
   "codemirror_mode": {
    "name": "ipython",
    "version": 3
   },
   "file_extension": ".py",
   "mimetype": "text/x-python",
   "name": "python",
   "nbconvert_exporter": "python",
   "pygments_lexer": "ipython3",
   "version": "3.8.8"
  }
 },
 "nbformat": 4,
 "nbformat_minor": 5
}
